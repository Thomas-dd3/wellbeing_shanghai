{
 "cells": [
  {
   "cell_type": "code",
   "execution_count": 1,
   "metadata": {},
   "outputs": [],
   "source": [
    "import pandas as pd\n",
    "import geopandas as gpd\n",
    "import numpy as np\n",
    "import matplotlib.pyplot as plt"
   ]
  },
  {
   "cell_type": "code",
   "execution_count": 2,
   "metadata": {},
   "outputs": [],
   "source": [
    "df_cendus_poi = pd.read_pickle('../clean_pickles/target_cendus_poi.pk')\n",
    "df_cendus_poi_sub = pd.read_pickle('../clean_pickles/target_cendus_poi_sub.pk')\n",
    "df_dianping_poi = pd.read_pickle('../clean_pickles/target_dianping_poi.pk')\n",
    "df_dianping_poi_cat = pd.read_pickle('../clean_pickles/target_dianping_poi_cat.pk')\n",
    "df_mobike = pd.read_pickle('../clean_pickles/target_mobike.pk')\n",
    "df_mobike_byhours = pd.read_pickle('../clean_pickles/target_mobike_byhours.pk')\n",
    "df_re = pd.read_pickle('../clean_pickles/target_real_estate.pk')\n",
    "df_taxi = pd.read_pickle('../clean_pickles/target_taxi_speed.pk')\n",
    "df_weibo = pd.read_pickle('../clean_pickles/target_weibo.pk')"
   ]
  },
  {
   "cell_type": "code",
   "execution_count": 3,
   "metadata": {},
   "outputs": [],
   "source": [
    "df_pred = df_cendus_poi.iloc[:,9:len(df_cendus_poi.columns)]\n",
    "df_pred = df_pred.join(df_cendus_poi_sub.iloc[:,9:len(df_cendus_poi_sub.columns)], rsuffix='_sub')\n",
    "df_pred = df_pred.join(df_dianping_poi.iloc[:,9:len(df_dianping_poi.columns)])\n",
    "df_pred = df_pred.join(df_dianping_poi_cat.iloc[:,9:len(df_dianping_poi_cat.columns)])\n",
    "df_pred = df_pred.join(df_mobike.iloc[:,9:len(df_mobike.columns)])\n",
    "df_pred = df_pred.join(df_mobike_byhours.iloc[:,9:len(df_mobike_byhours.columns)])\n",
    "df_pred = df_pred.join(df_re.iloc[:,9:len(df_re.columns)])\n",
    "df_pred = df_pred.join(df_taxi.iloc[:,9:len(df_taxi.columns)])\n",
    "df_pred = df_pred.join(df_weibo.iloc[:,9:len(df_weibo.columns)])"
   ]
  },
  {
   "cell_type": "markdown",
   "metadata": {},
   "source": [
    "### Number of criterias"
   ]
  },
  {
   "cell_type": "code",
   "execution_count": 4,
   "metadata": {},
   "outputs": [
    {
     "data": {
      "text/plain": [
       "149"
      ]
     },
     "execution_count": 4,
     "metadata": {},
     "output_type": "execute_result"
    }
   ],
   "source": [
    "len(df_pred.columns)"
   ]
  },
  {
   "cell_type": "markdown",
   "metadata": {},
   "source": [
    "- I have created a lot of criteria during the first step of the work but some of them contains too many NA\n",
    "- The 2 followings functions are used to clean the columns with too many NA unless the proprotion of each class will be kept if we removed the rows associated (basicaly instead of removing the column, I remove the row to remove th NAs)"
   ]
  },
  {
   "cell_type": "code",
   "execution_count": 5,
   "metadata": {},
   "outputs": [],
   "source": [
    "def cleanCriteriasNoiseSmell(df):\n",
    "    droppingColumns = []\n",
    "    nb0 = df.iloc[:,len(df.columns)-1].value_counts()[0]\n",
    "    nb1 = df.iloc[:,len(df.columns)-1].value_counts()[1]\n",
    "    ratio = nb1 / nb0\n",
    "    counter = 0\n",
    "    for i in range(0,len(df.columns)-1):\n",
    "        # 10 NA max to remove a maximum of 3 % of the points\n",
    "        if len(df[df.iloc[:,i].isna()]) > 10:\n",
    "            nbi0 = df[df.iloc[:,i].isna()].iloc[:,len(df.columns)-1].value_counts()[0]\n",
    "            try:\n",
    "                nbi1 = df[df.iloc[:,i].isna()].iloc[:,len(df.columns)-1].value_counts()[1]\n",
    "            except KeyError:\n",
    "                nbi1 = 0\n",
    "            #if the proportion of the class is kept then we keep the criterion\n",
    "            if (nbi1/nbi0) > ratio:\n",
    "                droppingColumns.append(df.iloc[:,i].name)\n",
    "                counter +=1\n",
    "                print(df.iloc[:,i].name,  len(df[df.iloc[:,i].isna()]))\n",
    "    print(counter)\n",
    "    return df.drop(columns=droppingColumns)\n",
    "    "
   ]
  },
  {
   "cell_type": "code",
   "execution_count": 6,
   "metadata": {},
   "outputs": [],
   "source": [
    "def cleanCriteriasClean(df):\n",
    "    droppingColumns = []\n",
    "    nb1 = df.iloc[:,len(df.columns)-1].value_counts()[1]\n",
    "    nb2 = df.iloc[:,len(df.columns)-1].value_counts()[2]\n",
    "    nb3 = df.iloc[:,len(df.columns)-1].value_counts()[3]\n",
    "    nb4 = df.iloc[:,len(df.columns)-1].value_counts()[4]\n",
    "    ratio = (nb1+nb4) / (nb2+nb3)\n",
    "    counter = 0\n",
    "    for i in range(0,len(df.columns)-1):\n",
    "        # 10 NA max to remove a maximum of 3 % of the points\n",
    "        if len(df[df.iloc[:,i].isna()]) > 10:\n",
    "            try:\n",
    "                nbi1 = df[df.iloc[:,i].isna()].iloc[:,len(df.columns)-1].value_counts()[1]\n",
    "            except KeyError:\n",
    "                nbi1 = 0\n",
    "            try:\n",
    "                nbi2 = df[df.iloc[:,i].isna()].iloc[:,len(df.columns)-1].value_counts()[2]\n",
    "            except KeyError:\n",
    "                nbi2 = 0\n",
    "            try:\n",
    "                nbi3 = df[df.iloc[:,i].isna()].iloc[:,len(df.columns)-1].value_counts()[3]\n",
    "            except KeyError:\n",
    "                nbi3 = 0\n",
    "            try:\n",
    "                nbi4 = df[df.iloc[:,i].isna()].iloc[:,len(df.columns)-1].value_counts()[4]\n",
    "            except KeyError:\n",
    "                nbi4 = 0\n",
    "            #if the proportion of the class is kept then we keep the criterion\n",
    "            if ( (nbi1+nbi4)/(nbi2+nbi3) ) > ratio:\n",
    "                droppingColumns.append(df.iloc[:,i].name)\n",
    "                counter +=1\n",
    "                print(df.iloc[:,i].name,  len(df[df.iloc[:,i].isna()]))\n",
    "    print(counter)\n",
    "    return df.drop(columns=droppingColumns)"
   ]
  },
  {
   "cell_type": "markdown",
   "metadata": {},
   "source": [
    "We display the criteria that have been removed"
   ]
  },
  {
   "cell_type": "code",
   "execution_count": 7,
   "metadata": {},
   "outputs": [
    {
     "name": "stdout",
     "output_type": "stream",
     "text": [
      "av_price_dianping 18\n",
      "av_decoration_score_dianping 19\n",
      "av_product_score_dianping 19\n",
      "av_service_score_dianping 19\n",
      "av_mobike_duration 47\n",
      "av_mobike_distance 47\n",
      "av_mobike_speed 47\n",
      "av_friends_count_weibo 68\n",
      "av_followers_count_weibo 68\n",
      "av_status_count_weibo 68\n",
      "av_total_checkin_count_weibo 68\n",
      "av_tip_count_weibo 68\n",
      "12\n"
     ]
    }
   ],
   "source": [
    "df_pred_clean = df_pred.join(df_cendus_poi['clean'])\n",
    "df_pred_clean = df_pred_clean.dropna(subset=['clean'])\n",
    "df_pred_clean = cleanCriteriasClean(df_pred_clean)\n",
    "df_pred_clean = df_pred_clean.dropna()\n",
    "df_pred_clean = df_pred_clean.sample(n=len(df_pred_clean), random_state=3)"
   ]
  },
  {
   "cell_type": "code",
   "execution_count": 8,
   "metadata": {},
   "outputs": [
    {
     "name": "stdout",
     "output_type": "stream",
     "text": [
      "av_price_dianping 16\n",
      "av_decoration_score_dianping 18\n",
      "av_product_score_dianping 18\n",
      "av_service_score_dianping 18\n",
      "av_mobike_duration 39\n",
      "av_mobike_distance 39\n",
      "av_mobike_speed 39\n",
      "taxi_speed_mean 12\n",
      "av_friends_count_weibo 60\n",
      "av_followers_count_weibo 60\n",
      "av_status_count_weibo 60\n",
      "av_total_checkin_count_weibo 60\n",
      "av_tip_count_weibo 60\n",
      "13\n"
     ]
    }
   ],
   "source": [
    "df_pred_noise = df_pred.join(df_cendus_poi['noise'])\n",
    "df_pred_noise = df_pred_noise.dropna(subset=['noise'])\n",
    "df_pred_noise = cleanCriteriasNoiseSmell(df_pred_noise)\n",
    "df_pred_noise = df_pred_noise.dropna()\n",
    "df_pred_noise = df_pred_noise.sample(n=len(df_pred_noise), random_state=3)"
   ]
  },
  {
   "cell_type": "code",
   "execution_count": 9,
   "metadata": {},
   "outputs": [
    {
     "name": "stdout",
     "output_type": "stream",
     "text": [
      "av_price_dianping 18\n",
      "av_decoration_score_dianping 18\n",
      "av_product_score_dianping 18\n",
      "av_service_score_dianping 18\n",
      "av_mobike_duration 43\n",
      "av_mobike_distance 43\n",
      "av_mobike_speed 43\n",
      "av_onesquaremeter_re 16\n",
      "av_bedroom_re 16\n",
      "taxi_speed_mean 12\n",
      "av_friends_count_weibo 63\n",
      "av_followers_count_weibo 63\n",
      "av_status_count_weibo 63\n",
      "av_total_checkin_count_weibo 63\n",
      "av_tip_count_weibo 63\n",
      "15\n"
     ]
    }
   ],
   "source": [
    "df_pred_smell = df_pred.join(df_cendus_poi['smell'])\n",
    "df_pred_smell = df_pred_smell.dropna(subset=['smell'])\n",
    "df_pred_smell = cleanCriteriasNoiseSmell(df_pred_smell)\n",
    "df_pred_smell = df_pred_smell.dropna()\n",
    "df_pred_smell = df_pred_smell.sample(n=len(df_pred_smell), random_state=3)"
   ]
  },
  {
   "cell_type": "markdown",
   "metadata": {},
   "source": [
    "# Prediction"
   ]
  },
  {
   "cell_type": "markdown",
   "metadata": {},
   "source": [
    "## Noise"
   ]
  },
  {
   "cell_type": "code",
   "execution_count": 10,
   "metadata": {},
   "outputs": [],
   "source": [
    "X = df_pred_noise.iloc[:,0:len(df_pred_noise.columns)-1].copy()\n",
    "#X = df_pred_noise[['nb_shopping_cendus']].copy()\n",
    "Y = df_pred_noise['noise'].copy()"
   ]
  },
  {
   "cell_type": "code",
   "execution_count": 11,
   "metadata": {},
   "outputs": [
    {
     "data": {
      "text/plain": [
       "0.0    344\n",
       "1.0     87\n",
       "Name: noise, dtype: int64"
      ]
     },
     "execution_count": 11,
     "metadata": {},
     "output_type": "execute_result"
    }
   ],
   "source": [
    "Y.value_counts()"
   ]
  },
  {
   "cell_type": "markdown",
   "metadata": {},
   "source": [
    "Proportion of the class 0:"
   ]
  },
  {
   "cell_type": "code",
   "execution_count": 12,
   "metadata": {},
   "outputs": [
    {
     "data": {
      "text/plain": [
       "79.81438515081206"
      ]
     },
     "execution_count": 12,
     "metadata": {},
     "output_type": "execute_result"
    }
   ],
   "source": [
    "prop = Y.value_counts()\n",
    "prop[0.0] / (prop[0.0] + prop[1.0]) * 100"
   ]
  },
  {
   "cell_type": "markdown",
   "metadata": {},
   "source": [
    "- The noise has 2 class, 0 (good), 1 (bad) but these 2 classes are really unbalanced.\n",
    "- The random model will have a success of 50% so my model will need to have a score higher than 50% to be better (than the random model)\n",
    "- But because the classes are really unbalanced, predicting always the majority class will create a model with a score of 79.8%\n",
    "- Therefore to make a real difference my model would need to have a score higher than 79.8% or close to that with a good prediction of the minority class (it depends of what we "
   ]
  },
  {
   "cell_type": "code",
   "execution_count": 13,
   "metadata": {},
   "outputs": [],
   "source": [
    "from sklearn.model_selection import train_test_split\n",
    "X_train, X_val, Y_train, Y_val = train_test_split(X, Y, test_size=0.33, shuffle=False)"
   ]
  },
  {
   "cell_type": "code",
   "execution_count": 14,
   "metadata": {},
   "outputs": [],
   "source": [
    "from sklearn.model_selection import cross_val_score\n",
    "from sklearn import tree"
   ]
  },
  {
   "cell_type": "code",
   "execution_count": 15,
   "metadata": {},
   "outputs": [
    {
     "data": {
      "text/plain": [
       "0.7540764501470195"
      ]
     },
     "execution_count": 15,
     "metadata": {},
     "output_type": "execute_result"
    }
   ],
   "source": [
    "clf = tree.DecisionTreeClassifier(max_depth=2)\n",
    "scores = cross_val_score(clf, X, Y, cv=5)\n",
    "np.mean(scores)"
   ]
  },
  {
   "cell_type": "code",
   "execution_count": 16,
   "metadata": {},
   "outputs": [
    {
     "data": {
      "text/plain": [
       "{'max_depth': 3}"
      ]
     },
     "execution_count": 16,
     "metadata": {},
     "output_type": "execute_result"
    }
   ],
   "source": [
    "from sklearn.model_selection import GridSearchCV\n",
    "param_grid = {'max_depth': [2,3,4,6,8,10,20]}\n",
    "search = GridSearchCV(tree.DecisionTreeClassifier(), param_grid, cv=5)\n",
    "search.fit(X,Y)\n",
    "search.best_params_"
   ]
  },
  {
   "cell_type": "code",
   "execution_count": 17,
   "metadata": {},
   "outputs": [
    {
     "data": {
      "text/plain": [
       "0.7657043571237637"
      ]
     },
     "execution_count": 17,
     "metadata": {},
     "output_type": "execute_result"
    }
   ],
   "source": [
    "clf = tree.DecisionTreeClassifier(max_depth=3)\n",
    "scores = cross_val_score(clf, X, Y, cv=5)\n",
    "np.mean(scores)"
   ]
  },
  {
   "cell_type": "markdown",
   "metadata": {},
   "source": [
    "The score is not bad against the random model but it's less than predicting always the majority class."
   ]
  },
  {
   "cell_type": "code",
   "execution_count": 18,
   "metadata": {},
   "outputs": [
    {
     "data": {
      "text/plain": [
       "0.7692307692307693"
      ]
     },
     "execution_count": 18,
     "metadata": {},
     "output_type": "execute_result"
    }
   ],
   "source": [
    "clf = tree.DecisionTreeClassifier(max_depth=3)\n",
    "clf = clf.fit(X_train, Y_train)\n",
    "Y_pred = clf.predict(X_val)\n",
    "np.mean(Y_pred == Y_val)"
   ]
  },
  {
   "cell_type": "code",
   "execution_count": 19,
   "metadata": {},
   "outputs": [
    {
     "data": {
      "text/plain": [
       "0.10810810810810811"
      ]
     },
     "execution_count": 19,
     "metadata": {},
     "output_type": "execute_result"
    }
   ],
   "source": [
    "from sklearn.metrics import f1_score\n",
    "f1_score(Y_val, Y_pred)"
   ]
  },
  {
   "cell_type": "markdown",
   "metadata": {},
   "source": [
    "The f1 score is really low (near 1 is the best) that means the model makes a lot of errors.\n",
    "It predicts a lot one class when it should be the other."
   ]
  },
  {
   "cell_type": "code",
   "execution_count": 20,
   "metadata": {},
   "outputs": [
    {
     "data": {
      "text/plain": [
       "array([[108,   5],\n",
       "       [ 28,   2]], dtype=int64)"
      ]
     },
     "execution_count": 20,
     "metadata": {},
     "output_type": "execute_result"
    }
   ],
   "source": [
    "from sklearn.metrics import confusion_matrix\n",
    "confusion_matrix(Y_val, Y_pred)"
   ]
  },
  {
   "cell_type": "code",
   "execution_count": 21,
   "metadata": {},
   "outputs": [
    {
     "data": {
      "text/plain": [
       "0.0    113\n",
       "1.0     30\n",
       "Name: noise, dtype: int64"
      ]
     },
     "execution_count": 21,
     "metadata": {},
     "output_type": "execute_result"
    }
   ],
   "source": [
    "Y_val.value_counts()"
   ]
  },
  {
   "cell_type": "code",
   "execution_count": 22,
   "metadata": {},
   "outputs": [
    {
     "data": {
      "text/plain": [
       "0.0    136\n",
       "1.0      7\n",
       "dtype: int64"
      ]
     },
     "execution_count": 22,
     "metadata": {},
     "output_type": "execute_result"
    }
   ],
   "source": [
    "pd.Series(Y_pred).value_counts()"
   ]
  },
  {
   "cell_type": "markdown",
   "metadata": {},
   "source": [
    "- The model has predicted 136 times the class 0 but it was true for only 108 times.\n",
    "- The model has predicted 7 times the class 1 but it was true for only 2 times."
   ]
  },
  {
   "cell_type": "code",
   "execution_count": 23,
   "metadata": {},
   "outputs": [
    {
     "data": {
      "text/plain": [
       "[Text(418.5, 475.65000000000003, 'X[132] <= 43180.912\\ngini = 0.322\\nsamples = 431\\nvalue = [344, 87]'),\n",
       " Text(209.25, 339.75, 'X[122] <= 0.0\\ngini = 0.467\\nsamples = 94\\nvalue = [59, 35]'),\n",
       " Text(104.625, 203.85000000000002, 'X[21] <= 0.0\\ngini = 0.454\\nsamples = 23\\nvalue = [8, 15]'),\n",
       " Text(52.3125, 67.94999999999999, 'gini = 0.42\\nsamples = 10\\nvalue = [7, 3]'),\n",
       " Text(156.9375, 67.94999999999999, 'gini = 0.142\\nsamples = 13\\nvalue = [1, 12]'),\n",
       " Text(313.875, 203.85000000000002, 'X[84] <= 0.0\\ngini = 0.405\\nsamples = 71\\nvalue = [51, 20]'),\n",
       " Text(261.5625, 67.94999999999999, 'gini = 0.265\\nsamples = 51\\nvalue = [43, 8]'),\n",
       " Text(366.1875, 67.94999999999999, 'gini = 0.48\\nsamples = 20\\nvalue = [8, 12]'),\n",
       " Text(627.75, 339.75, 'X[127] <= 0.002\\ngini = 0.261\\nsamples = 337\\nvalue = [285, 52]'),\n",
       " Text(523.125, 203.85000000000002, 'X[70] <= 0.0\\ngini = 0.229\\nsamples = 318\\nvalue = [276, 42]'),\n",
       " Text(470.8125, 67.94999999999999, 'gini = 0.213\\nsamples = 313\\nvalue = [275, 38]'),\n",
       " Text(575.4375, 67.94999999999999, 'gini = 0.32\\nsamples = 5\\nvalue = [1, 4]'),\n",
       " Text(732.375, 203.85000000000002, 'X[84] <= 0.0\\ngini = 0.499\\nsamples = 19\\nvalue = [9, 10]'),\n",
       " Text(680.0625, 67.94999999999999, 'gini = 0.298\\nsamples = 11\\nvalue = [2, 9]'),\n",
       " Text(784.6875, 67.94999999999999, 'gini = 0.219\\nsamples = 8\\nvalue = [7, 1]')]"
      ]
     },
     "execution_count": 23,
     "metadata": {},
     "output_type": "execute_result"
    },
    {
     "data": {
      "image/png": "[encoded data removed]",
      "text/plain": [
       "<Figure size 1080x720 with 1 Axes>"
      ]
     },
     "metadata": {
      "needs_background": "light"
     },
     "output_type": "display_data"
    }
   ],
   "source": [
    "# We plot the decision tree\n",
    "clf = tree.DecisionTreeClassifier(max_depth=3)\n",
    "clf = clf.fit(X, Y)\n",
    "plt.figure(figsize=(15,10))\n",
    "tree.plot_tree(clf)"
   ]
  },
  {
   "cell_type": "markdown",
   "metadata": {},
   "source": [
    "The criteria used by the tree"
   ]
  },
  {
   "cell_type": "code",
   "execution_count": 24,
   "metadata": {},
   "outputs": [
    {
     "name": "stdout",
     "output_type": "stream",
     "text": [
      "av_onesquaremeter_re\n",
      "nb_snack_dianping\n",
      "nb_mobike_05_09\n"
     ]
    }
   ],
   "source": [
    "print(X.iloc[:,132].name)\n",
    "print(X.iloc[:,122].name)\n",
    "print(X.iloc[:,127].name)"
   ]
  },
  {
   "cell_type": "markdown",
   "metadata": {},
   "source": [
    "There is no doubt that the result of the model is bad but it is still interesting to see that the tree used to cut the points, these 3 criteria to predict the noise:\n",
    " - the average onesquaremeter price (from real_estate dataset)\n",
    " - the number of snack shop (from dianping dataset)\n",
    " - the number of mobike in the area between 5am to 9am."
   ]
  },
  {
   "cell_type": "markdown",
   "metadata": {},
   "source": [
    "## Clean"
   ]
  },
  {
   "cell_type": "code",
   "execution_count": 25,
   "metadata": {},
   "outputs": [],
   "source": [
    "X = df_pred_clean.iloc[:,0:len(df_pred_clean.columns)-1].copy()\n",
    "#X = df_cendus_noise[['nb_shopping_cendus']].copy()\n",
    "Y = df_pred_clean['clean'].copy()"
   ]
  },
  {
   "cell_type": "code",
   "execution_count": 26,
   "metadata": {},
   "outputs": [
    {
     "data": {
      "text/plain": [
       "3    218\n",
       "2    182\n",
       "4     17\n",
       "1     15\n",
       "Name: clean, dtype: int64"
      ]
     },
     "execution_count": 26,
     "metadata": {},
     "output_type": "execute_result"
    }
   ],
   "source": [
    "Y.value_counts()"
   ]
  },
  {
   "cell_type": "markdown",
   "metadata": {},
   "source": [
    "Proportion of the class 2 & 3:"
   ]
  },
  {
   "cell_type": "code",
   "execution_count": 27,
   "metadata": {},
   "outputs": [
    {
     "data": {
      "text/plain": [
       "92.5925925925926"
      ]
     },
     "execution_count": 27,
     "metadata": {},
     "output_type": "execute_result"
    }
   ],
   "source": [
    "prop = Y.value_counts()\n",
    "(prop[2.0]+prop[3.0]) / (prop[1.0] + prop[2.0] + prop[3.0] + prop[4.0]) * 100"
   ]
  },
  {
   "cell_type": "code",
   "execution_count": 28,
   "metadata": {},
   "outputs": [],
   "source": [
    "from sklearn.model_selection import train_test_split\n",
    "X_train, X_val, Y_train, Y_val = train_test_split(X, Y, test_size=0.33, shuffle=False)"
   ]
  },
  {
   "cell_type": "code",
   "execution_count": 29,
   "metadata": {},
   "outputs": [
    {
     "data": {
      "text/plain": [
       "0.45354183373429563"
      ]
     },
     "execution_count": 29,
     "metadata": {},
     "output_type": "execute_result"
    }
   ],
   "source": [
    "from sklearn.model_selection import cross_val_score\n",
    "from sklearn import tree\n",
    "clf = tree.DecisionTreeClassifier(max_depth=3)\n",
    "scores = cross_val_score(clf, X, Y, cv=5)\n",
    "np.mean(scores)"
   ]
  },
  {
   "cell_type": "code",
   "execution_count": 30,
   "metadata": {},
   "outputs": [
    {
     "data": {
      "text/plain": [
       "{'max_depth': 20}"
      ]
     },
     "execution_count": 30,
     "metadata": {},
     "output_type": "execute_result"
    }
   ],
   "source": [
    "from sklearn.model_selection import GridSearchCV\n",
    "param_grid = {'max_depth': [2,3,4,6,8,10,20]}\n",
    "search = GridSearchCV(tree.DecisionTreeClassifier(), param_grid, cv=5)\n",
    "search.fit(X,Y)\n",
    "search.best_params_"
   ]
  },
  {
   "cell_type": "code",
   "execution_count": 31,
   "metadata": {},
   "outputs": [
    {
     "data": {
      "text/plain": [
       "0.5244755244755245"
      ]
     },
     "execution_count": 31,
     "metadata": {},
     "output_type": "execute_result"
    }
   ],
   "source": [
    "clf = tree.DecisionTreeClassifier(max_depth=3)\n",
    "clf = clf.fit(X_train, Y_train)\n",
    "Y_pred = clf.predict(X_val)\n",
    "np.mean(Y_pred == Y_val)"
   ]
  },
  {
   "cell_type": "code",
   "execution_count": 32,
   "metadata": {},
   "outputs": [
    {
     "data": {
      "text/plain": [
       "0.5244755244755245"
      ]
     },
     "execution_count": 32,
     "metadata": {},
     "output_type": "execute_result"
    }
   ],
   "source": [
    "from sklearn.metrics import f1_score\n",
    "f1_score(Y_val, Y_pred, average='micro')"
   ]
  },
  {
   "cell_type": "code",
   "execution_count": 33,
   "metadata": {},
   "outputs": [
    {
     "data": {
      "text/plain": [
       "0.41072034761355153"
      ]
     },
     "execution_count": 33,
     "metadata": {},
     "output_type": "execute_result"
    }
   ],
   "source": [
    "from sklearn.metrics import f1_score\n",
    "f1_score(Y_val, Y_pred, average='weighted')"
   ]
  },
  {
   "cell_type": "code",
   "execution_count": 34,
   "metadata": {},
   "outputs": [
    {
     "data": {
      "text/plain": [
       "array([[ 0,  0,  2,  0],\n",
       "       [ 0,  6, 57,  0],\n",
       "       [ 0,  3, 69,  0],\n",
       "       [ 0,  0,  6,  0]], dtype=int64)"
      ]
     },
     "execution_count": 34,
     "metadata": {},
     "output_type": "execute_result"
    }
   ],
   "source": [
    "from sklearn.metrics import confusion_matrix\n",
    "confusion_matrix(Y_val, Y_pred)"
   ]
  },
  {
   "cell_type": "code",
   "execution_count": 35,
   "metadata": {},
   "outputs": [
    {
     "data": {
      "text/plain": [
       "3    72\n",
       "2    63\n",
       "4     6\n",
       "1     2\n",
       "Name: clean, dtype: int64"
      ]
     },
     "execution_count": 35,
     "metadata": {},
     "output_type": "execute_result"
    }
   ],
   "source": [
    "Y_val.value_counts()"
   ]
  },
  {
   "cell_type": "code",
   "execution_count": 36,
   "metadata": {},
   "outputs": [
    {
     "data": {
      "text/plain": [
       "3    134\n",
       "2      9\n",
       "dtype: int64"
      ]
     },
     "execution_count": 36,
     "metadata": {},
     "output_type": "execute_result"
    }
   ],
   "source": [
    "pd.Series(Y_pred).value_counts()"
   ]
  },
  {
   "cell_type": "markdown",
   "metadata": {},
   "source": [
    "The model has predicted almost always the class 3, it has been right for 69 times on 72 but 57 times it was supposed to be the class 2"
   ]
  },
  {
   "cell_type": "markdown",
   "metadata": {},
   "source": [
    "## Smell"
   ]
  },
  {
   "cell_type": "code",
   "execution_count": 37,
   "metadata": {},
   "outputs": [],
   "source": [
    "X = df_pred_smell.iloc[:,0:len(df_pred_smell.columns)-1].copy()\n",
    "#X = df_cendus_noise[['nb_shopping_cendus']].copy()\n",
    "Y = df_pred_smell['smell'].copy()"
   ]
  },
  {
   "cell_type": "code",
   "execution_count": 38,
   "metadata": {},
   "outputs": [
    {
     "data": {
      "text/plain": [
       "0.0    367\n",
       "1.0     16\n",
       "Name: smell, dtype: int64"
      ]
     },
     "execution_count": 38,
     "metadata": {},
     "output_type": "execute_result"
    }
   ],
   "source": [
    "Y.value_counts()"
   ]
  },
  {
   "cell_type": "markdown",
   "metadata": {},
   "source": [
    "Proportion of the class 0:"
   ]
  },
  {
   "cell_type": "code",
   "execution_count": 39,
   "metadata": {},
   "outputs": [
    {
     "data": {
      "text/plain": [
       "95.822454308094"
      ]
     },
     "execution_count": 39,
     "metadata": {},
     "output_type": "execute_result"
    }
   ],
   "source": [
    "prop = Y.value_counts()\n",
    "prop[0.0] / (prop[0.0] + prop[1.0]) * 100"
   ]
  },
  {
   "cell_type": "code",
   "execution_count": 40,
   "metadata": {},
   "outputs": [],
   "source": [
    "from sklearn.model_selection import train_test_split\n",
    "X_train, X_val, Y_train, Y_val = train_test_split(X, Y, test_size=0.33, shuffle=False)"
   ]
  },
  {
   "cell_type": "code",
   "execution_count": 41,
   "metadata": {},
   "outputs": [
    {
     "data": {
      "text/plain": [
       "0.9477443609022558"
      ]
     },
     "execution_count": 41,
     "metadata": {},
     "output_type": "execute_result"
    }
   ],
   "source": [
    "from sklearn.model_selection import cross_val_score\n",
    "from sklearn import tree\n",
    "clf = tree.DecisionTreeClassifier(max_depth=3)\n",
    "scores = cross_val_score(clf, X, Y, cv=5)\n",
    "np.mean(scores)"
   ]
  },
  {
   "cell_type": "code",
   "execution_count": 42,
   "metadata": {},
   "outputs": [
    {
     "data": {
      "text/plain": [
       "{'max_depth': 2}"
      ]
     },
     "execution_count": 42,
     "metadata": {},
     "output_type": "execute_result"
    }
   ],
   "source": [
    "from sklearn.model_selection import GridSearchCV\n",
    "param_grid = {'max_depth': [2,3,4,6,8,10,20]}\n",
    "search = GridSearchCV(tree.DecisionTreeClassifier(), param_grid, cv=5)\n",
    "search.fit(X,Y)\n",
    "search.best_params_"
   ]
  },
  {
   "cell_type": "code",
   "execution_count": 43,
   "metadata": {},
   "outputs": [
    {
     "data": {
      "text/plain": [
       "0.9291338582677166"
      ]
     },
     "execution_count": 43,
     "metadata": {},
     "output_type": "execute_result"
    }
   ],
   "source": [
    "clf = tree.DecisionTreeClassifier(max_depth=3)\n",
    "clf = clf.fit(X_train, Y_train)\n",
    "Y_pred = clf.predict(X_val)\n",
    "np.mean(Y_pred == Y_val)"
   ]
  },
  {
   "cell_type": "code",
   "execution_count": 44,
   "metadata": {},
   "outputs": [
    {
     "data": {
      "text/plain": [
       "0.0"
      ]
     },
     "execution_count": 44,
     "metadata": {},
     "output_type": "execute_result"
    }
   ],
   "source": [
    "from sklearn.metrics import f1_score\n",
    "f1_score(Y_val, Y_pred, average='binary')"
   ]
  },
  {
   "cell_type": "code",
   "execution_count": 45,
   "metadata": {},
   "outputs": [
    {
     "data": {
      "text/plain": [
       "array([[118,   3],\n",
       "       [  6,   0]], dtype=int64)"
      ]
     },
     "execution_count": 45,
     "metadata": {},
     "output_type": "execute_result"
    }
   ],
   "source": [
    "from sklearn.metrics import confusion_matrix\n",
    "confusion_matrix(Y_val, Y_pred)"
   ]
  },
  {
   "cell_type": "markdown",
   "metadata": {},
   "source": [
    "The model never succeed to predict at least one correct in the class 1"
   ]
  },
  {
   "cell_type": "code",
   "execution_count": 46,
   "metadata": {},
   "outputs": [
    {
     "data": {
      "text/plain": [
       "0.0    121\n",
       "1.0      6\n",
       "Name: smell, dtype: int64"
      ]
     },
     "execution_count": 46,
     "metadata": {},
     "output_type": "execute_result"
    }
   ],
   "source": [
    "Y_val.value_counts()"
   ]
  },
  {
   "cell_type": "code",
   "execution_count": 47,
   "metadata": {},
   "outputs": [
    {
     "data": {
      "text/plain": [
       "0.0    124\n",
       "1.0      3\n",
       "dtype: int64"
      ]
     },
     "execution_count": 47,
     "metadata": {},
     "output_type": "execute_result"
    }
   ],
   "source": [
    "pd.Series(Y_pred).value_counts()"
   ]
  },
  {
   "cell_type": "code",
   "execution_count": null,
   "metadata": {},
   "outputs": [],
   "source": []
  }
 ],
 "metadata": {
  "kernelspec": {
   "display_name": "Python 3",
   "language": "python",
   "name": "python3"
  },
  "language_info": {
   "codemirror_mode": {
    "name": "ipython",
    "version": 3
   },
   "file_extension": ".py",
   "mimetype": "text/x-python",
   "name": "python",
   "nbconvert_exporter": "python",
   "pygments_lexer": "ipython3",
   "version": "3.7.3"
  }
 },
 "nbformat": 4,
 "nbformat_minor": 4
}
