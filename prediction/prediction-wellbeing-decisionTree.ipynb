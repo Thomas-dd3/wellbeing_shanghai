{
 "cells": [
  {
   "cell_type": "code",
   "execution_count": 1,
   "metadata": {},
   "outputs": [],
   "source": [
    "import pandas as pd\n",
    "import geopandas as gpd\n",
    "import numpy as np\n",
    "import matplotlib.pyplot as plt"
   ]
  },
  {
   "cell_type": "code",
   "execution_count": 2,
   "metadata": {},
   "outputs": [],
   "source": [
    "df_cendus_poi = pd.read_pickle('../clean_pickles/target_cendus_poi.pk')\n",
    "df_cendus_poi_sub = pd.read_pickle('../clean_pickles/target_cendus_poi_sub.pk')\n",
    "df_dianping_poi = pd.read_pickle('../clean_pickles/target_dianping_poi.pk')\n",
    "df_dianping_poi_cat = pd.read_pickle('../clean_pickles/target_dianping_poi_cat.pk')\n",
    "df_mobike = pd.read_pickle('../clean_pickles/target_mobike.pk')\n",
    "df_mobike_byhours = pd.read_pickle('../clean_pickles/target_mobike_byhours.pk')\n",
    "df_re = pd.read_pickle('../clean_pickles/target_real_estate.pk')\n",
    "df_taxi = pd.read_pickle('../clean_pickles/target_taxi_speed.pk')\n",
    "df_weibo = pd.read_pickle('../clean_pickles/target_weibo.pk')"
   ]
  },
  {
   "cell_type": "code",
   "execution_count": 3,
   "metadata": {},
   "outputs": [],
   "source": [
    "df_pred = df_cendus_poi.iloc[:,9:len(df_cendus_poi.columns)]\n",
    "df_pred = df_pred.join(df_cendus_poi_sub.iloc[:,9:len(df_cendus_poi_sub.columns)], rsuffix='_sub')\n",
    "df_pred = df_pred.join(df_dianping_poi.iloc[:,9:len(df_dianping_poi.columns)])\n",
    "df_pred = df_pred.join(df_dianping_poi_cat.iloc[:,9:len(df_dianping_poi_cat.columns)])\n",
    "df_pred = df_pred.join(df_mobike.iloc[:,9:len(df_mobike.columns)])\n",
    "df_pred = df_pred.join(df_mobike_byhours.iloc[:,9:len(df_mobike_byhours.columns)])\n",
    "df_pred = df_pred.join(df_re.iloc[:,9:len(df_re.columns)])\n",
    "df_pred = df_pred.join(df_taxi.iloc[:,9:len(df_taxi.columns)])\n",
    "df_pred = df_pred.join(df_weibo.iloc[:,9:len(df_weibo.columns)])"
   ]
  },
  {
   "cell_type": "markdown",
   "metadata": {},
   "source": [
    "### Number of criterias"
   ]
  },
  {
   "cell_type": "code",
   "execution_count": 4,
   "metadata": {},
   "outputs": [
    {
     "data": {
      "text/plain": [
       "149"
      ]
     },
     "execution_count": 4,
     "metadata": {},
     "output_type": "execute_result"
    }
   ],
   "source": [
    "len(df_pred.columns)"
   ]
  },
  {
   "cell_type": "code",
   "execution_count": 5,
   "metadata": {},
   "outputs": [],
   "source": [
    "def cleanCriteriasNoiseSmell(df):\n",
    "    droppingColumns = []\n",
    "    nb0 = df.iloc[:,len(df.columns)-1].value_counts()[0]\n",
    "    nb1 = df.iloc[:,len(df.columns)-1].value_counts()[1]\n",
    "    ratio = nb1 / nb0\n",
    "    counter = 0\n",
    "    for i in range(0,len(df.columns)-1):\n",
    "        # 10 NA max to remove a maximum of 3 % of the points\n",
    "        if len(df[df.iloc[:,i].isna()]) > 10:\n",
    "            nbi0 = df[df.iloc[:,i].isna()].iloc[:,len(df.columns)-1].value_counts()[0]\n",
    "            try:\n",
    "                nbi1 = df[df.iloc[:,i].isna()].iloc[:,len(df.columns)-1].value_counts()[1]\n",
    "            except KeyError:\n",
    "                nbi1 = 0\n",
    "            #if the proportion of the class is kept then we keep the criterion\n",
    "            if (nbi1/nbi0) > ratio:\n",
    "                droppingColumns.append(df.iloc[:,i].name)\n",
    "                counter +=1\n",
    "                print(df.iloc[:,i].name,  len(df[df.iloc[:,i].isna()]))\n",
    "    print(counter)\n",
    "    return df.drop(columns=droppingColumns)\n",
    "    "
   ]
  },
  {
   "cell_type": "code",
   "execution_count": 6,
   "metadata": {},
   "outputs": [],
   "source": [
    "def cleanCriteriasClean(df):\n",
    "    droppingColumns = []\n",
    "    nb1 = df.iloc[:,len(df.columns)-1].value_counts()[1]\n",
    "    nb2 = df.iloc[:,len(df.columns)-1].value_counts()[2]\n",
    "    nb3 = df.iloc[:,len(df.columns)-1].value_counts()[3]\n",
    "    nb4 = df.iloc[:,len(df.columns)-1].value_counts()[4]\n",
    "    ratio = (nb1+nb4) / (nb2+nb3)\n",
    "    counter = 0\n",
    "    for i in range(0,len(df.columns)-1):\n",
    "        # 10 NA max to remove a maximum of 3 % of the points\n",
    "        if len(df[df.iloc[:,i].isna()]) > 10:\n",
    "            try:\n",
    "                nbi1 = df[df.iloc[:,i].isna()].iloc[:,len(df.columns)-1].value_counts()[1]\n",
    "            except KeyError:\n",
    "                nbi1 = 0\n",
    "            try:\n",
    "                nbi2 = df[df.iloc[:,i].isna()].iloc[:,len(df.columns)-1].value_counts()[2]\n",
    "            except KeyError:\n",
    "                nbi2 = 0\n",
    "            try:\n",
    "                nbi3 = df[df.iloc[:,i].isna()].iloc[:,len(df.columns)-1].value_counts()[3]\n",
    "            except KeyError:\n",
    "                nbi3 = 0\n",
    "            try:\n",
    "                nbi4 = df[df.iloc[:,i].isna()].iloc[:,len(df.columns)-1].value_counts()[4]\n",
    "            except KeyError:\n",
    "                nbi4 = 0\n",
    "            #if the proportion of the class is kept then we keep the criterion\n",
    "            if ( (nbi1+nbi4)/(nbi2+nbi3) ) > ratio:\n",
    "                droppingColumns.append(df.iloc[:,i].name)\n",
    "                counter +=1\n",
    "                print(df.iloc[:,i].name,  len(df[df.iloc[:,i].isna()]))\n",
    "    print(counter)\n",
    "    return df.drop(columns=droppingColumns)"
   ]
  },
  {
   "cell_type": "markdown",
   "metadata": {},
   "source": [
    "We display the criteria that have been removed"
   ]
  },
  {
   "cell_type": "code",
   "execution_count": 7,
   "metadata": {},
   "outputs": [
    {
     "name": "stdout",
     "output_type": "stream",
     "text": [
      "av_price_dianping 18\n",
      "av_decoration_score_dianping 19\n",
      "av_product_score_dianping 19\n",
      "av_service_score_dianping 19\n",
      "av_mobike_duration 47\n",
      "av_mobike_distance 47\n",
      "av_mobike_speed 47\n",
      "av_friends_count_weibo 68\n",
      "av_followers_count_weibo 68\n",
      "av_status_count_weibo 68\n",
      "av_total_checkin_count_weibo 68\n",
      "av_tip_count_weibo 68\n",
      "12\n"
     ]
    }
   ],
   "source": [
    "df_pred = df_pred.join(df_cendus_poi['clean'])\n",
    "df_pred = df_pred.dropna(subset=['clean'])\n",
    "df_pred = cleanCriteriasClean(df_pred)\n",
    "df_pred = df_pred.join(df_cendus_poi['noise'])\n",
    "df_pred = df_pred.dropna(subset=['noise'])\n",
    "#df_pred = cleanCriteriasNoiseSmell(df_pred)\n",
    "df_pred = df_pred.join(df_cendus_poi['smell'])\n",
    "df_pred = df_pred.dropna(subset=['smell'])\n",
    "#df_pred = cleanCriteriasNoiseSmell(df_pred)\n",
    "df_pred = df_pred.dropna()\n",
    "df_pred = df_pred.sample(n=len(df_pred), random_state=3)"
   ]
  },
  {
   "cell_type": "markdown",
   "metadata": {},
   "source": [
    "Creation of a target prediction wellbeing"
   ]
  },
  {
   "cell_type": "code",
   "execution_count": 8,
   "metadata": {},
   "outputs": [],
   "source": [
    "df_pred['wellbeing'] = ''"
   ]
  },
  {
   "cell_type": "code",
   "execution_count": 9,
   "metadata": {},
   "outputs": [
    {
     "name": "stderr",
     "output_type": "stream",
     "text": [
      "C:\\Users\\Roger\\Anaconda3\\lib\\site-packages\\pandas\\core\\indexing.py:205: SettingWithCopyWarning: \n",
      "A value is trying to be set on a copy of a slice from a DataFrame\n",
      "\n",
      "See the caveats in the documentation: http://pandas.pydata.org/pandas-docs/stable/user_guide/indexing.html#returning-a-view-versus-a-copy\n",
      "  self._setitem_with_indexer(indexer, value)\n"
     ]
    }
   ],
   "source": [
    "for index, value in df_pred.iterrows():\n",
    "    if value.clean > 2:\n",
    "        df_pred['wellbeing'].loc[index] += '0'\n",
    "    else:\n",
    "        df_pred['wellbeing'].loc[index] += '1'\n",
    "    df_pred['wellbeing'].loc[index] += str(value.noise).split('.')[0]\n",
    "    df_pred['wellbeing'].loc[index] += str(value.smell).split('.')[0]"
   ]
  },
  {
   "cell_type": "code",
   "execution_count": 10,
   "metadata": {},
   "outputs": [
    {
     "data": {
      "text/plain": [
       "000    159\n",
       "100    120\n",
       "110     41\n",
       "010     29\n",
       "101     10\n",
       "001      3\n",
       "011      2\n",
       "111      1\n",
       "Name: wellbeing, dtype: int64"
      ]
     },
     "execution_count": 10,
     "metadata": {},
     "output_type": "execute_result"
    }
   ],
   "source": [
    "df_pred.wellbeing.value_counts()"
   ]
  },
  {
   "cell_type": "code",
   "execution_count": 11,
   "metadata": {},
   "outputs": [],
   "source": [
    "df_pred_wellbeing = df_pred.drop(columns=['clean','noise','smell'])"
   ]
  },
  {
   "cell_type": "markdown",
   "metadata": {},
   "source": [
    "# Prediction"
   ]
  },
  {
   "cell_type": "markdown",
   "metadata": {},
   "source": [
    "## Wellbeing"
   ]
  },
  {
   "cell_type": "code",
   "execution_count": 12,
   "metadata": {},
   "outputs": [],
   "source": [
    "X = df_pred_wellbeing.iloc[:,0:len(df_pred_wellbeing.columns)-1].copy()\n",
    "Y = df_pred_wellbeing['wellbeing'].copy()"
   ]
  },
  {
   "cell_type": "code",
   "execution_count": 13,
   "metadata": {},
   "outputs": [
    {
     "data": {
      "text/plain": [
       "000    159\n",
       "100    120\n",
       "110     41\n",
       "010     29\n",
       "101     10\n",
       "001      3\n",
       "011      2\n",
       "111      1\n",
       "Name: wellbeing, dtype: int64"
      ]
     },
     "execution_count": 13,
     "metadata": {},
     "output_type": "execute_result"
    }
   ],
   "source": [
    "Y.value_counts()"
   ]
  },
  {
   "cell_type": "code",
   "execution_count": 14,
   "metadata": {},
   "outputs": [],
   "source": [
    "from sklearn.model_selection import train_test_split\n",
    "X_train, X_val, Y_train, Y_val = train_test_split(X, Y, test_size=0.33, shuffle=True)"
   ]
  },
  {
   "cell_type": "code",
   "execution_count": 15,
   "metadata": {},
   "outputs": [],
   "source": [
    "from sklearn.model_selection import cross_val_score\n",
    "from sklearn import tree"
   ]
  },
  {
   "cell_type": "code",
   "execution_count": 16,
   "metadata": {},
   "outputs": [
    {
     "name": "stderr",
     "output_type": "stream",
     "text": [
      "C:\\Users\\Roger\\Anaconda3\\lib\\site-packages\\sklearn\\model_selection\\_split.py:667: UserWarning: The least populated class in y has only 1 members, which is less than n_splits=5.\n",
      "  % (min_groups, self.n_splits)), UserWarning)\n"
     ]
    },
    {
     "data": {
      "text/plain": [
       "0.3835616438356164"
      ]
     },
     "execution_count": 16,
     "metadata": {},
     "output_type": "execute_result"
    }
   ],
   "source": [
    "clf = tree.DecisionTreeClassifier(max_depth=3)\n",
    "scores = cross_val_score(clf, X, Y, cv=5)\n",
    "np.mean(scores)"
   ]
  },
  {
   "cell_type": "code",
   "execution_count": 17,
   "metadata": {},
   "outputs": [
    {
     "name": "stderr",
     "output_type": "stream",
     "text": [
      "C:\\Users\\Roger\\Anaconda3\\lib\\site-packages\\sklearn\\model_selection\\_split.py:667: UserWarning: The least populated class in y has only 1 members, which is less than n_splits=5.\n",
      "  % (min_groups, self.n_splits)), UserWarning)\n"
     ]
    },
    {
     "data": {
      "text/plain": [
       "{'max_depth': 4}"
      ]
     },
     "execution_count": 17,
     "metadata": {},
     "output_type": "execute_result"
    }
   ],
   "source": [
    "from sklearn.model_selection import GridSearchCV\n",
    "param_grid = {'max_depth': [2,3,4,6,8,10,20]}\n",
    "search = GridSearchCV(tree.DecisionTreeClassifier(), param_grid, cv=5)\n",
    "search.fit(X,Y)\n",
    "search.best_params_"
   ]
  },
  {
   "cell_type": "code",
   "execution_count": 18,
   "metadata": {},
   "outputs": [
    {
     "name": "stderr",
     "output_type": "stream",
     "text": [
      "C:\\Users\\Roger\\Anaconda3\\lib\\site-packages\\sklearn\\model_selection\\_split.py:667: UserWarning: The least populated class in y has only 1 members, which is less than n_splits=5.\n",
      "  % (min_groups, self.n_splits)), UserWarning)\n"
     ]
    },
    {
     "data": {
      "text/plain": [
       "0.42191780821917807"
      ]
     },
     "execution_count": 18,
     "metadata": {},
     "output_type": "execute_result"
    }
   ],
   "source": [
    "clf = tree.DecisionTreeClassifier(max_depth=4)\n",
    "scores = cross_val_score(clf, X, Y, cv=5)\n",
    "np.mean(scores)"
   ]
  },
  {
   "cell_type": "code",
   "execution_count": 19,
   "metadata": {},
   "outputs": [
    {
     "data": {
      "text/plain": [
       "0.4132231404958678"
      ]
     },
     "execution_count": 19,
     "metadata": {},
     "output_type": "execute_result"
    }
   ],
   "source": [
    "clf = tree.DecisionTreeClassifier(max_depth=4)\n",
    "clf = clf.fit(X_train, Y_train)\n",
    "Y_pred = clf.predict(X_val)\n",
    "np.mean(Y_pred == Y_val)"
   ]
  },
  {
   "cell_type": "code",
   "execution_count": 20,
   "metadata": {},
   "outputs": [
    {
     "data": {
      "text/plain": [
       "0.33511553381683257"
      ]
     },
     "execution_count": 20,
     "metadata": {},
     "output_type": "execute_result"
    }
   ],
   "source": [
    "from sklearn.metrics import f1_score\n",
    "f1_score(Y_val, Y_pred, average='weighted')"
   ]
  },
  {
   "cell_type": "code",
   "execution_count": 21,
   "metadata": {},
   "outputs": [
    {
     "data": {
      "text/plain": [
       "array([[41,  0,  0,  0,  8,  0,  2],\n",
       "       [ 1,  0,  0,  0,  0,  0,  0],\n",
       "       [ 8,  0,  0,  0,  2,  0,  0],\n",
       "       [ 0,  0,  0,  0,  1,  0,  0],\n",
       "       [34,  0,  0,  0,  8,  0,  0],\n",
       "       [ 4,  0,  0,  0,  0,  0,  0],\n",
       "       [ 8,  0,  0,  0,  3,  0,  1]], dtype=int64)"
      ]
     },
     "execution_count": 21,
     "metadata": {},
     "output_type": "execute_result"
    }
   ],
   "source": [
    "from sklearn.metrics import confusion_matrix\n",
    "confusion_matrix(Y_val, Y_pred)"
   ]
  },
  {
   "cell_type": "code",
   "execution_count": 22,
   "metadata": {},
   "outputs": [
    {
     "data": {
      "text/plain": [
       "000    51\n",
       "100    42\n",
       "110    12\n",
       "010    10\n",
       "101     4\n",
       "011     1\n",
       "001     1\n",
       "Name: wellbeing, dtype: int64"
      ]
     },
     "execution_count": 22,
     "metadata": {},
     "output_type": "execute_result"
    }
   ],
   "source": [
    "Y_val.value_counts()"
   ]
  },
  {
   "cell_type": "code",
   "execution_count": 23,
   "metadata": {},
   "outputs": [
    {
     "data": {
      "text/plain": [
       "000    96\n",
       "100    22\n",
       "110     3\n",
       "dtype: int64"
      ]
     },
     "execution_count": 23,
     "metadata": {},
     "output_type": "execute_result"
    }
   ],
   "source": [
    "pd.Series(Y_pred).value_counts()"
   ]
  },
  {
   "cell_type": "markdown",
   "metadata": {},
   "source": [
    "- The model only predict 4 class on 7\n",
    "- And it predict a lot the class '100' (85 times) but it has been correct only 27 times"
   ]
  },
  {
   "cell_type": "code",
   "execution_count": 24,
   "metadata": {},
   "outputs": [
    {
     "data": {
      "text/plain": [
       "[Text(418.5, 453.0, 'X[1] <= 0.0\\ngini = 0.682\\nsamples = 365\\nvalue = [159, 3, 29, 2, 120, 10, 41, 1]'),\n",
       " Text(209.25, 271.8, 'X[15] <= 0.0\\ngini = 0.707\\nsamples = 186\\nvalue = [84, 3, 20, 2, 43, 5, 28, 1]'),\n",
       " Text(104.625, 90.59999999999997, 'gini = 0.603\\nsamples = 92\\nvalue = [53, 1, 9, 1, 21, 2, 5, 0]'),\n",
       " Text(313.875, 90.59999999999997, 'gini = 0.761\\nsamples = 94\\nvalue = [31, 2, 11, 1, 22, 3, 23, 1]'),\n",
       " Text(627.75, 271.8, 'X[74] <= 0.0\\ngini = 0.631\\nsamples = 179\\nvalue = [75, 0, 9, 0, 77, 5, 13, 0]'),\n",
       " Text(523.125, 90.59999999999997, 'gini = 0.617\\nsamples = 146\\nvalue = [53, 0, 6, 0, 72, 5, 10, 0]'),\n",
       " Text(732.375, 90.59999999999997, 'gini = 0.516\\nsamples = 33\\nvalue = [22, 0, 3, 0, 5, 0, 3, 0]')]"
      ]
     },
     "execution_count": 24,
     "metadata": {},
     "output_type": "execute_result"
    },
    {
     "data": {
      "image/png": "[encoded data removed]",
      "text/plain": [
       "<Figure size 1080x720 with 1 Axes>"
      ]
     },
     "metadata": {
      "needs_background": "light"
     },
     "output_type": "display_data"
    }
   ],
   "source": [
    "# We plot the decision tree\n",
    "clf = tree.DecisionTreeClassifier(max_depth=2)\n",
    "clf = clf.fit(X, Y)\n",
    "plt.figure(figsize=(15,10))\n",
    "tree.plot_tree(clf)"
   ]
  },
  {
   "cell_type": "markdown",
   "metadata": {},
   "source": [
    "The criteria used by the tree"
   ]
  },
  {
   "cell_type": "code",
   "execution_count": 25,
   "metadata": {},
   "outputs": [
    {
     "name": "stdout",
     "output_type": "stream",
     "text": [
      "nb_company_business_cendus\n",
      "nb_clothing,_shoes_and_leather_retail_store_cendus\n",
      "nb_government_organs_cendus\n"
     ]
    }
   ],
   "source": [
    "print(X.iloc[:,1].name)\n",
    "print(X.iloc[:,15].name)\n",
    "print(X.iloc[:,74].name)"
   ]
  },
  {
   "cell_type": "markdown",
   "metadata": {},
   "source": [
    "\n",
    " - the number of company business (from cendus dataset)\n",
    " - the number of clothing, shoes, leather store (from cendus dataset)\n",
    " - the number of government organs (from cendus dataset)."
   ]
  },
  {
   "cell_type": "code",
   "execution_count": null,
   "metadata": {},
   "outputs": [],
   "source": []
  }
 ],
 "metadata": {
  "kernelspec": {
   "display_name": "Python 3",
   "language": "python",
   "name": "python3"
  },
  "language_info": {
   "codemirror_mode": {
    "name": "ipython",
    "version": 3
   },
   "file_extension": ".py",
   "mimetype": "text/x-python",
   "name": "python",
   "nbconvert_exporter": "python",
   "pygments_lexer": "ipython3",
   "version": "3.7.3"
  }
 },
 "nbformat": 4,
 "nbformat_minor": 4
}
