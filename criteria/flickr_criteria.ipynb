{
 "cells": [
  {
   "cell_type": "code",
   "execution_count": 50,
   "metadata": {},
   "outputs": [],
   "source": [
    "#config.ipynb contains all the import\n",
    "%run ../global_class/config.ipynb\n",
    "#it's the multipolygone of Shanghai\n",
    "%run ../global_class/getShanghai.ipynb"
   ]
  },
  {
   "cell_type": "code",
   "execution_count": 51,
   "metadata": {},
   "outputs": [],
   "source": [
    "df_flickr = pd.read_pickle('../pickles/utseus-shanghai-flickr.pk')"
   ]
  },
  {
   "cell_type": "code",
   "execution_count": 52,
   "metadata": {},
   "outputs": [
    {
     "data": {
      "text/plain": [
       "pandas.core.frame.DataFrame"
      ]
     },
     "execution_count": 52,
     "metadata": {},
     "output_type": "execute_result"
    }
   ],
   "source": [
    "type(df_flickr)"
   ]
  },
  {
   "cell_type": "code",
   "execution_count": 53,
   "metadata": {},
   "outputs": [
    {
     "data": {
      "text/html": [
       "<div>\n",
       "<style scoped>\n",
       "    .dataframe tbody tr th:only-of-type {\n",
       "        vertical-align: middle;\n",
       "    }\n",
       "\n",
       "    .dataframe tbody tr th {\n",
       "        vertical-align: top;\n",
       "    }\n",
       "\n",
       "    .dataframe thead th {\n",
       "        text-align: right;\n",
       "    }\n",
       "</style>\n",
       "<table border=\"1\" class=\"dataframe\">\n",
       "  <thead>\n",
       "    <tr style=\"text-align: right;\">\n",
       "      <th></th>\n",
       "      <th>id</th>\n",
       "      <th>latitude</th>\n",
       "      <th>longitude</th>\n",
       "      <th>owner</th>\n",
       "      <th>accuracy</th>\n",
       "      <th>woeid</th>\n",
       "      <th>year</th>\n",
       "      <th>month</th>\n",
       "      <th>day</th>\n",
       "      <th>title</th>\n",
       "      <th>tags</th>\n",
       "      <th>description</th>\n",
       "      <th>url</th>\n",
       "    </tr>\n",
       "  </thead>\n",
       "  <tbody>\n",
       "    <tr>\n",
       "      <th>0</th>\n",
       "      <td>12786061</td>\n",
       "      <td>31.239682</td>\n",
       "      <td>121.497266</td>\n",
       "      <td>23804952@N00</td>\n",
       "      <td>15</td>\n",
       "      <td>22726052.0</td>\n",
       "      <td>2004</td>\n",
       "      <td>9</td>\n",
       "      <td>25</td>\n",
       "      <td>Needle in the Sky</td>\n",
       "      <td>sky 2004 architecture shanghai pearltower dscp8</td>\n",
       "      <td>Pearl TV Tower, Shanghai</td>\n",
       "      <td>http://farm1.staticflickr.com/9/12786061_a6b55...</td>\n",
       "    </tr>\n",
       "    <tr>\n",
       "      <th>1</th>\n",
       "      <td>21048909</td>\n",
       "      <td>31.234380</td>\n",
       "      <td>121.494541</td>\n",
       "      <td>40264825@N00</td>\n",
       "      <td>16</td>\n",
       "      <td>22726050.0</td>\n",
       "      <td>2005</td>\n",
       "      <td>3</td>\n",
       "      <td>22</td>\n",
       "      <td>Skywards</td>\n",
       "      <td>holga cityscape shanghai</td>\n",
       "      <td>Holga Shanghai Places</td>\n",
       "      <td>http://farm1.staticflickr.com/16/21048909_3a5c...</td>\n",
       "    </tr>\n",
       "    <tr>\n",
       "      <th>2</th>\n",
       "      <td>21048962</td>\n",
       "      <td>31.234380</td>\n",
       "      <td>121.494541</td>\n",
       "      <td>40264825@N00</td>\n",
       "      <td>16</td>\n",
       "      <td>22726050.0</td>\n",
       "      <td>2005</td>\n",
       "      <td>6</td>\n",
       "      <td>23</td>\n",
       "      <td>Bund2</td>\n",
       "      <td>holga cityscape shanghai</td>\n",
       "      <td>Holga Shanghai Places</td>\n",
       "      <td>http://farm1.staticflickr.com/16/21048962_98b0...</td>\n",
       "    </tr>\n",
       "    <tr>\n",
       "      <th>3</th>\n",
       "      <td>21048995</td>\n",
       "      <td>31.234380</td>\n",
       "      <td>121.494541</td>\n",
       "      <td>40264825@N00</td>\n",
       "      <td>16</td>\n",
       "      <td>22726050.0</td>\n",
       "      <td>2005</td>\n",
       "      <td>6</td>\n",
       "      <td>23</td>\n",
       "      <td>RoomWithaView</td>\n",
       "      <td>holga cityscape shanghai hotelrooms</td>\n",
       "      <td>Holga Shanghai Places\\n\\nCamera: Holga 120N\\n</td>\n",
       "      <td>http://farm1.staticflickr.com/15/21048995_8cd6...</td>\n",
       "    </tr>\n",
       "    <tr>\n",
       "      <th>4</th>\n",
       "      <td>21049047</td>\n",
       "      <td>31.234380</td>\n",
       "      <td>121.494541</td>\n",
       "      <td>40264825@N00</td>\n",
       "      <td>16</td>\n",
       "      <td>22726050.0</td>\n",
       "      <td>2004</td>\n",
       "      <td>11</td>\n",
       "      <td>30</td>\n",
       "      <td>Bund, Early Morning (Shanghai)</td>\n",
       "      <td>holga cityscape shanghai</td>\n",
       "      <td>Camera: Holga 120N</td>\n",
       "      <td>http://farm1.staticflickr.com/15/21049047_51f8...</td>\n",
       "    </tr>\n",
       "  </tbody>\n",
       "</table>\n",
       "</div>"
      ],
      "text/plain": [
       "         id   latitude   longitude         owner  accuracy       woeid  year  \\\n",
       "0  12786061  31.239682  121.497266  23804952@N00        15  22726052.0  2004   \n",
       "1  21048909  31.234380  121.494541  40264825@N00        16  22726050.0  2005   \n",
       "2  21048962  31.234380  121.494541  40264825@N00        16  22726050.0  2005   \n",
       "3  21048995  31.234380  121.494541  40264825@N00        16  22726050.0  2005   \n",
       "4  21049047  31.234380  121.494541  40264825@N00        16  22726050.0  2004   \n",
       "\n",
       "   month  day                           title  \\\n",
       "0      9   25               Needle in the Sky   \n",
       "1      3   22                        Skywards   \n",
       "2      6   23                           Bund2   \n",
       "3      6   23                   RoomWithaView   \n",
       "4     11   30  Bund, Early Morning (Shanghai)   \n",
       "\n",
       "                                              tags  \\\n",
       "0  sky 2004 architecture shanghai pearltower dscp8   \n",
       "1                         holga cityscape shanghai   \n",
       "2                         holga cityscape shanghai   \n",
       "3              holga cityscape shanghai hotelrooms   \n",
       "4                         holga cityscape shanghai   \n",
       "\n",
       "                                     description  \\\n",
       "0                       Pearl TV Tower, Shanghai   \n",
       "1                          Holga Shanghai Places   \n",
       "2                          Holga Shanghai Places   \n",
       "3  Holga Shanghai Places\\n\\nCamera: Holga 120N\\n   \n",
       "4                             Camera: Holga 120N   \n",
       "\n",
       "                                                 url  \n",
       "0  http://farm1.staticflickr.com/9/12786061_a6b55...  \n",
       "1  http://farm1.staticflickr.com/16/21048909_3a5c...  \n",
       "2  http://farm1.staticflickr.com/16/21048962_98b0...  \n",
       "3  http://farm1.staticflickr.com/15/21048995_8cd6...  \n",
       "4  http://farm1.staticflickr.com/15/21049047_51f8...  "
      ]
     },
     "execution_count": 53,
     "metadata": {},
     "output_type": "execute_result"
    }
   ],
   "source": [
    "df_flickr.head()"
   ]
  },
  {
   "cell_type": "code",
   "execution_count": null,
   "metadata": {},
   "outputs": [],
   "source": []
  },
  {
   "cell_type": "code",
   "execution_count": 54,
   "metadata": {},
   "outputs": [
    {
     "name": "stdout",
     "output_type": "stream",
     "text": [
      "43404\n",
      "8967\n"
     ]
    }
   ],
   "source": [
    "#df_flickr has na value\n",
    "print(len(df_flickr))\n",
    "print(len(df_flickr.dropna()))"
   ]
  },
  {
   "cell_type": "code",
   "execution_count": 55,
   "metadata": {},
   "outputs": [
    {
     "name": "stdout",
     "output_type": "stream",
     "text": [
      "0\n",
      "0\n",
      "4226\n",
      "16147\n",
      "31320\n"
     ]
    }
   ],
   "source": [
    "print(sum(df_flickr.longitude.isna()))\n",
    "print(sum(df_flickr.latitude.isna()))\n",
    "print(sum(df_flickr.title.isna()))\n",
    "print(sum(df_flickr.tags.isna()))\n",
    "print(sum(df_flickr.description.isna()))"
   ]
  },
  {
   "cell_type": "code",
   "execution_count": 56,
   "metadata": {},
   "outputs": [],
   "source": [
    "df_flickr = df_flickr[df_flickr.title.notna()]"
   ]
  },
  {
   "cell_type": "code",
   "execution_count": 57,
   "metadata": {},
   "outputs": [],
   "source": [
    "gdf_flickr = gpd.GeoDataFrame(df_flickr, geometry = [Point(x,y) for x,y in zip(df_flickr.longitude, df_flickr.latitude)])\n",
    "gdf_flickr.crs = {'init': 'epsg:4326'} #world projection"
   ]
  },
  {
   "cell_type": "code",
   "execution_count": 58,
   "metadata": {},
   "outputs": [
    {
     "data": {
      "text/plain": [
       "<matplotlib.axes._subplots.AxesSubplot at 0x1873abe6eb8>"
      ]
     },
     "execution_count": 58,
     "metadata": {},
     "output_type": "execute_result"
    },
    {
     "data": {
      "image/png": "[encoded data removed]",
      "text/plain": [
       "<Figure size 1080x720 with 1 Axes>"
      ]
     },
     "metadata": {
      "needs_background": "light"
     },
     "output_type": "display_data"
    }
   ],
   "source": [
    "%matplotlib inline\n",
    "gdf_flickr.plot(markersize=0.01, figsize=(15,10))"
   ]
  },
  {
   "cell_type": "code",
   "execution_count": 59,
   "metadata": {},
   "outputs": [
    {
     "name": "stdout",
     "output_type": "stream",
     "text": [
      "Starting time: 2020-01-06 11:59:20.687816\n",
      "Running time: 0:00:07.837913\n"
     ]
    }
   ],
   "source": [
    "time = ManagingTime()\n",
    "time.displayStartTime()\n",
    "\n",
    "gdf_flickr = gdf_flickr.loc[gdf_flickr.within(shanghai)]\n",
    "\n",
    "time.displayRunningTime()"
   ]
  },
  {
   "cell_type": "code",
   "execution_count": 60,
   "metadata": {},
   "outputs": [
    {
     "name": "stdout",
     "output_type": "stream",
     "text": [
      "39102\n"
     ]
    }
   ],
   "source": [
    "print(len(gdf_flickr))"
   ]
  },
  {
   "cell_type": "code",
   "execution_count": 61,
   "metadata": {},
   "outputs": [
    {
     "data": {
      "text/plain": [
       "<matplotlib.axes._subplots.AxesSubplot at 0x1873aab85c0>"
      ]
     },
     "execution_count": 61,
     "metadata": {},
     "output_type": "execute_result"
    },
    {
     "data": {
      "image/png": "[encoded data removed]",
      "text/plain": [
       "<Figure size 1080x720 with 1 Axes>"
      ]
     },
     "metadata": {
      "needs_background": "light"
     },
     "output_type": "display_data"
    }
   ],
   "source": [
    "%matplotlib inline\n",
    "gdf_flickr.plot(markersize=0.01, figsize=(15,10))"
   ]
  },
  {
   "cell_type": "code",
   "execution_count": 62,
   "metadata": {},
   "outputs": [
    {
     "data": {
      "text/html": [
       "<div>\n",
       "<style scoped>\n",
       "    .dataframe tbody tr th:only-of-type {\n",
       "        vertical-align: middle;\n",
       "    }\n",
       "\n",
       "    .dataframe tbody tr th {\n",
       "        vertical-align: top;\n",
       "    }\n",
       "\n",
       "    .dataframe thead th {\n",
       "        text-align: right;\n",
       "    }\n",
       "</style>\n",
       "<table border=\"1\" class=\"dataframe\">\n",
       "  <thead>\n",
       "    <tr style=\"text-align: right;\">\n",
       "      <th></th>\n",
       "      <th>id</th>\n",
       "      <th>latitude</th>\n",
       "      <th>longitude</th>\n",
       "      <th>owner</th>\n",
       "      <th>accuracy</th>\n",
       "      <th>woeid</th>\n",
       "      <th>year</th>\n",
       "      <th>month</th>\n",
       "      <th>day</th>\n",
       "      <th>title</th>\n",
       "      <th>tags</th>\n",
       "      <th>description</th>\n",
       "      <th>url</th>\n",
       "      <th>geometry</th>\n",
       "    </tr>\n",
       "  </thead>\n",
       "  <tbody>\n",
       "  </tbody>\n",
       "</table>\n",
       "</div>"
      ],
      "text/plain": [
       "Empty GeoDataFrame\n",
       "Columns: [id, latitude, longitude, owner, accuracy, woeid, year, month, day, title, tags, description, url, geometry]\n",
       "Index: []"
      ]
     },
     "execution_count": 62,
     "metadata": {},
     "output_type": "execute_result"
    }
   ],
   "source": [
    "#no duplicated rows\n",
    "gdf_flickr[(gdf_flickr.duplicated(keep = 'first', subset=gdf_flickr.columns.difference(['geometry','id'])))]"
   ]
  },
  {
   "cell_type": "code",
   "execution_count": null,
   "metadata": {},
   "outputs": [],
   "source": []
  },
  {
   "cell_type": "code",
   "execution_count": 63,
   "metadata": {},
   "outputs": [
    {
     "name": "stdout",
     "output_type": "stream",
     "text": [
      "                 id      latitude     longitude      accuracy         woeid  \\\n",
      "count  3.910200e+04  39102.000000  39102.000000  39102.000000  3.910200e+04   \n",
      "mean   1.993233e+10     31.227810    121.462800     15.248350  1.429576e+07   \n",
      "std    5.021671e+09      0.040247      0.078989      1.741551  1.011831e+07   \n",
      "min    1.278606e+07     30.892913    121.023216      5.000000  2.132535e+06   \n",
      "25%    1.646238e+10     31.218618    121.453516     16.000000  2.151849e+06   \n",
      "50%    1.931196e+10     31.230827    121.478468     16.000000  2.272605e+07   \n",
      "75%    2.402815e+10     31.239846    121.492996     16.000000  2.272605e+07   \n",
      "max    2.884189e+10     31.676533    121.795978     16.000000  2.272607e+07   \n",
      "\n",
      "               year         month           day  \n",
      "count  39102.000000  39102.000000  39102.000000  \n",
      "mean    2014.432101      6.282697     16.109534  \n",
      "std        1.965712      3.394789      9.047635  \n",
      "min     2000.000000      1.000000      1.000000  \n",
      "25%     2014.000000      3.000000      8.000000  \n",
      "50%     2015.000000      6.000000     16.000000  \n",
      "75%     2015.000000      9.000000     24.000000  \n",
      "max     2016.000000     12.000000     31.000000  \n"
     ]
    }
   ],
   "source": [
    "print(gdf_flickr.describe())"
   ]
  },
  {
   "cell_type": "code",
   "execution_count": null,
   "metadata": {},
   "outputs": [],
   "source": []
  },
  {
   "cell_type": "code",
   "execution_count": 64,
   "metadata": {},
   "outputs": [
    {
     "data": {
      "text/html": [
       "<div>\n",
       "<style scoped>\n",
       "    .dataframe tbody tr th:only-of-type {\n",
       "        vertical-align: middle;\n",
       "    }\n",
       "\n",
       "    .dataframe tbody tr th {\n",
       "        vertical-align: top;\n",
       "    }\n",
       "\n",
       "    .dataframe thead th {\n",
       "        text-align: right;\n",
       "    }\n",
       "</style>\n",
       "<table border=\"1\" class=\"dataframe\">\n",
       "  <thead>\n",
       "    <tr style=\"text-align: right;\">\n",
       "      <th></th>\n",
       "      <th>id</th>\n",
       "      <th>latitude</th>\n",
       "      <th>longitude</th>\n",
       "      <th>owner</th>\n",
       "      <th>accuracy</th>\n",
       "      <th>woeid</th>\n",
       "      <th>year</th>\n",
       "      <th>month</th>\n",
       "      <th>day</th>\n",
       "      <th>title</th>\n",
       "      <th>tags</th>\n",
       "      <th>description</th>\n",
       "      <th>url</th>\n",
       "      <th>geometry</th>\n",
       "    </tr>\n",
       "  </thead>\n",
       "  <tbody>\n",
       "    <tr>\n",
       "      <th>0</th>\n",
       "      <td>12786061</td>\n",
       "      <td>31.239682</td>\n",
       "      <td>121.497266</td>\n",
       "      <td>23804952@N00</td>\n",
       "      <td>15</td>\n",
       "      <td>22726052.0</td>\n",
       "      <td>2004</td>\n",
       "      <td>9</td>\n",
       "      <td>25</td>\n",
       "      <td>Needle in the Sky</td>\n",
       "      <td>sky 2004 architecture shanghai pearltower dscp8</td>\n",
       "      <td>Pearl TV Tower, Shanghai</td>\n",
       "      <td>http://farm1.staticflickr.com/9/12786061_a6b55...</td>\n",
       "      <td>POINT (121.497266 31.239682)</td>\n",
       "    </tr>\n",
       "    <tr>\n",
       "      <th>1</th>\n",
       "      <td>21048909</td>\n",
       "      <td>31.234380</td>\n",
       "      <td>121.494541</td>\n",
       "      <td>40264825@N00</td>\n",
       "      <td>16</td>\n",
       "      <td>22726050.0</td>\n",
       "      <td>2005</td>\n",
       "      <td>3</td>\n",
       "      <td>22</td>\n",
       "      <td>Skywards</td>\n",
       "      <td>holga cityscape shanghai</td>\n",
       "      <td>Holga Shanghai Places</td>\n",
       "      <td>http://farm1.staticflickr.com/16/21048909_3a5c...</td>\n",
       "      <td>POINT (121.494541 31.23438)</td>\n",
       "    </tr>\n",
       "    <tr>\n",
       "      <th>2</th>\n",
       "      <td>21048962</td>\n",
       "      <td>31.234380</td>\n",
       "      <td>121.494541</td>\n",
       "      <td>40264825@N00</td>\n",
       "      <td>16</td>\n",
       "      <td>22726050.0</td>\n",
       "      <td>2005</td>\n",
       "      <td>6</td>\n",
       "      <td>23</td>\n",
       "      <td>Bund2</td>\n",
       "      <td>holga cityscape shanghai</td>\n",
       "      <td>Holga Shanghai Places</td>\n",
       "      <td>http://farm1.staticflickr.com/16/21048962_98b0...</td>\n",
       "      <td>POINT (121.494541 31.23438)</td>\n",
       "    </tr>\n",
       "    <tr>\n",
       "      <th>3</th>\n",
       "      <td>21048995</td>\n",
       "      <td>31.234380</td>\n",
       "      <td>121.494541</td>\n",
       "      <td>40264825@N00</td>\n",
       "      <td>16</td>\n",
       "      <td>22726050.0</td>\n",
       "      <td>2005</td>\n",
       "      <td>6</td>\n",
       "      <td>23</td>\n",
       "      <td>RoomWithaView</td>\n",
       "      <td>holga cityscape shanghai hotelrooms</td>\n",
       "      <td>Holga Shanghai Places\\n\\nCamera: Holga 120N\\n</td>\n",
       "      <td>http://farm1.staticflickr.com/15/21048995_8cd6...</td>\n",
       "      <td>POINT (121.494541 31.23438)</td>\n",
       "    </tr>\n",
       "    <tr>\n",
       "      <th>4</th>\n",
       "      <td>21049047</td>\n",
       "      <td>31.234380</td>\n",
       "      <td>121.494541</td>\n",
       "      <td>40264825@N00</td>\n",
       "      <td>16</td>\n",
       "      <td>22726050.0</td>\n",
       "      <td>2004</td>\n",
       "      <td>11</td>\n",
       "      <td>30</td>\n",
       "      <td>Bund, Early Morning (Shanghai)</td>\n",
       "      <td>holga cityscape shanghai</td>\n",
       "      <td>Camera: Holga 120N</td>\n",
       "      <td>http://farm1.staticflickr.com/15/21049047_51f8...</td>\n",
       "      <td>POINT (121.494541 31.23438)</td>\n",
       "    </tr>\n",
       "  </tbody>\n",
       "</table>\n",
       "</div>"
      ],
      "text/plain": [
       "         id   latitude   longitude         owner  accuracy       woeid  year  \\\n",
       "0  12786061  31.239682  121.497266  23804952@N00        15  22726052.0  2004   \n",
       "1  21048909  31.234380  121.494541  40264825@N00        16  22726050.0  2005   \n",
       "2  21048962  31.234380  121.494541  40264825@N00        16  22726050.0  2005   \n",
       "3  21048995  31.234380  121.494541  40264825@N00        16  22726050.0  2005   \n",
       "4  21049047  31.234380  121.494541  40264825@N00        16  22726050.0  2004   \n",
       "\n",
       "   month  day                           title  \\\n",
       "0      9   25               Needle in the Sky   \n",
       "1      3   22                        Skywards   \n",
       "2      6   23                           Bund2   \n",
       "3      6   23                   RoomWithaView   \n",
       "4     11   30  Bund, Early Morning (Shanghai)   \n",
       "\n",
       "                                              tags  \\\n",
       "0  sky 2004 architecture shanghai pearltower dscp8   \n",
       "1                         holga cityscape shanghai   \n",
       "2                         holga cityscape shanghai   \n",
       "3              holga cityscape shanghai hotelrooms   \n",
       "4                         holga cityscape shanghai   \n",
       "\n",
       "                                     description  \\\n",
       "0                       Pearl TV Tower, Shanghai   \n",
       "1                          Holga Shanghai Places   \n",
       "2                          Holga Shanghai Places   \n",
       "3  Holga Shanghai Places\\n\\nCamera: Holga 120N\\n   \n",
       "4                             Camera: Holga 120N   \n",
       "\n",
       "                                                 url  \\\n",
       "0  http://farm1.staticflickr.com/9/12786061_a6b55...   \n",
       "1  http://farm1.staticflickr.com/16/21048909_3a5c...   \n",
       "2  http://farm1.staticflickr.com/16/21048962_98b0...   \n",
       "3  http://farm1.staticflickr.com/15/21048995_8cd6...   \n",
       "4  http://farm1.staticflickr.com/15/21049047_51f8...   \n",
       "\n",
       "                       geometry  \n",
       "0  POINT (121.497266 31.239682)  \n",
       "1   POINT (121.494541 31.23438)  \n",
       "2   POINT (121.494541 31.23438)  \n",
       "3   POINT (121.494541 31.23438)  \n",
       "4   POINT (121.494541 31.23438)  "
      ]
     },
     "execution_count": 64,
     "metadata": {},
     "output_type": "execute_result"
    }
   ],
   "source": [
    "gdf_flickr.head()"
   ]
  },
  {
   "cell_type": "code",
   "execution_count": 65,
   "metadata": {},
   "outputs": [],
   "source": [
    "from pyproj import Transformer\n",
    "\n",
    "transformer = Transformer.from_crs(\"EPSG:4326\", \"EPSG:4479\", always_xy=True)\n",
    "\n",
    "\n",
    "def getNewLongitude(xy):\n",
    "    return transformer.transform(xy[0], xy[1])[0]\n",
    "\n",
    "def getNewLatitude(xy):\n",
    "    return transformer.transform(xy[0], xy[1])[1]\n",
    "\n",
    "\n",
    "gdf_flickr['longitude_m'] = gdf_flickr[['longitude', 'latitude']].apply(getNewLongitude, axis=1)\n",
    "gdf_flickr['latitude_m'] = gdf_flickr[['longitude', 'latitude']].apply(getNewLatitude, axis=1)"
   ]
  },
  {
   "cell_type": "code",
   "execution_count": 66,
   "metadata": {},
   "outputs": [
    {
     "data": {
      "text/html": [
       "<div>\n",
       "<style scoped>\n",
       "    .dataframe tbody tr th:only-of-type {\n",
       "        vertical-align: middle;\n",
       "    }\n",
       "\n",
       "    .dataframe tbody tr th {\n",
       "        vertical-align: top;\n",
       "    }\n",
       "\n",
       "    .dataframe thead th {\n",
       "        text-align: right;\n",
       "    }\n",
       "</style>\n",
       "<table border=\"1\" class=\"dataframe\">\n",
       "  <thead>\n",
       "    <tr style=\"text-align: right;\">\n",
       "      <th></th>\n",
       "      <th>id</th>\n",
       "      <th>latitude</th>\n",
       "      <th>longitude</th>\n",
       "      <th>owner</th>\n",
       "      <th>accuracy</th>\n",
       "      <th>woeid</th>\n",
       "      <th>year</th>\n",
       "      <th>month</th>\n",
       "      <th>day</th>\n",
       "      <th>title</th>\n",
       "      <th>tags</th>\n",
       "      <th>description</th>\n",
       "      <th>url</th>\n",
       "      <th>geometry</th>\n",
       "      <th>longitude_m</th>\n",
       "      <th>latitude_m</th>\n",
       "    </tr>\n",
       "  </thead>\n",
       "  <tbody>\n",
       "    <tr>\n",
       "      <th>0</th>\n",
       "      <td>12786061</td>\n",
       "      <td>31.239682</td>\n",
       "      <td>121.497266</td>\n",
       "      <td>23804952@N00</td>\n",
       "      <td>15</td>\n",
       "      <td>22726052.0</td>\n",
       "      <td>2004</td>\n",
       "      <td>9</td>\n",
       "      <td>25</td>\n",
       "      <td>Needle in the Sky</td>\n",
       "      <td>sky 2004 architecture shanghai pearltower dscp8</td>\n",
       "      <td>Pearl TV Tower, Shanghai</td>\n",
       "      <td>http://farm1.staticflickr.com/9/12786061_a6b55...</td>\n",
       "      <td>POINT (121.497266 31.239682)</td>\n",
       "      <td>-2.851709e+06</td>\n",
       "      <td>4.654065e+06</td>\n",
       "    </tr>\n",
       "    <tr>\n",
       "      <th>1</th>\n",
       "      <td>21048909</td>\n",
       "      <td>31.234380</td>\n",
       "      <td>121.494541</td>\n",
       "      <td>40264825@N00</td>\n",
       "      <td>16</td>\n",
       "      <td>22726050.0</td>\n",
       "      <td>2005</td>\n",
       "      <td>3</td>\n",
       "      <td>22</td>\n",
       "      <td>Skywards</td>\n",
       "      <td>holga cityscape shanghai</td>\n",
       "      <td>Holga Shanghai Places</td>\n",
       "      <td>http://farm1.staticflickr.com/16/21048909_3a5c...</td>\n",
       "      <td>POINT (121.494541 31.23438)</td>\n",
       "      <td>-2.851647e+06</td>\n",
       "      <td>4.654461e+06</td>\n",
       "    </tr>\n",
       "    <tr>\n",
       "      <th>2</th>\n",
       "      <td>21048962</td>\n",
       "      <td>31.234380</td>\n",
       "      <td>121.494541</td>\n",
       "      <td>40264825@N00</td>\n",
       "      <td>16</td>\n",
       "      <td>22726050.0</td>\n",
       "      <td>2005</td>\n",
       "      <td>6</td>\n",
       "      <td>23</td>\n",
       "      <td>Bund2</td>\n",
       "      <td>holga cityscape shanghai</td>\n",
       "      <td>Holga Shanghai Places</td>\n",
       "      <td>http://farm1.staticflickr.com/16/21048962_98b0...</td>\n",
       "      <td>POINT (121.494541 31.23438)</td>\n",
       "      <td>-2.851647e+06</td>\n",
       "      <td>4.654461e+06</td>\n",
       "    </tr>\n",
       "    <tr>\n",
       "      <th>3</th>\n",
       "      <td>21048995</td>\n",
       "      <td>31.234380</td>\n",
       "      <td>121.494541</td>\n",
       "      <td>40264825@N00</td>\n",
       "      <td>16</td>\n",
       "      <td>22726050.0</td>\n",
       "      <td>2005</td>\n",
       "      <td>6</td>\n",
       "      <td>23</td>\n",
       "      <td>RoomWithaView</td>\n",
       "      <td>holga cityscape shanghai hotelrooms</td>\n",
       "      <td>Holga Shanghai Places\\n\\nCamera: Holga 120N\\n</td>\n",
       "      <td>http://farm1.staticflickr.com/15/21048995_8cd6...</td>\n",
       "      <td>POINT (121.494541 31.23438)</td>\n",
       "      <td>-2.851647e+06</td>\n",
       "      <td>4.654461e+06</td>\n",
       "    </tr>\n",
       "    <tr>\n",
       "      <th>4</th>\n",
       "      <td>21049047</td>\n",
       "      <td>31.234380</td>\n",
       "      <td>121.494541</td>\n",
       "      <td>40264825@N00</td>\n",
       "      <td>16</td>\n",
       "      <td>22726050.0</td>\n",
       "      <td>2004</td>\n",
       "      <td>11</td>\n",
       "      <td>30</td>\n",
       "      <td>Bund, Early Morning (Shanghai)</td>\n",
       "      <td>holga cityscape shanghai</td>\n",
       "      <td>Camera: Holga 120N</td>\n",
       "      <td>http://farm1.staticflickr.com/15/21049047_51f8...</td>\n",
       "      <td>POINT (121.494541 31.23438)</td>\n",
       "      <td>-2.851647e+06</td>\n",
       "      <td>4.654461e+06</td>\n",
       "    </tr>\n",
       "  </tbody>\n",
       "</table>\n",
       "</div>"
      ],
      "text/plain": [
       "         id   latitude   longitude         owner  accuracy       woeid  year  \\\n",
       "0  12786061  31.239682  121.497266  23804952@N00        15  22726052.0  2004   \n",
       "1  21048909  31.234380  121.494541  40264825@N00        16  22726050.0  2005   \n",
       "2  21048962  31.234380  121.494541  40264825@N00        16  22726050.0  2005   \n",
       "3  21048995  31.234380  121.494541  40264825@N00        16  22726050.0  2005   \n",
       "4  21049047  31.234380  121.494541  40264825@N00        16  22726050.0  2004   \n",
       "\n",
       "   month  day                           title  \\\n",
       "0      9   25               Needle in the Sky   \n",
       "1      3   22                        Skywards   \n",
       "2      6   23                           Bund2   \n",
       "3      6   23                   RoomWithaView   \n",
       "4     11   30  Bund, Early Morning (Shanghai)   \n",
       "\n",
       "                                              tags  \\\n",
       "0  sky 2004 architecture shanghai pearltower dscp8   \n",
       "1                         holga cityscape shanghai   \n",
       "2                         holga cityscape shanghai   \n",
       "3              holga cityscape shanghai hotelrooms   \n",
       "4                         holga cityscape shanghai   \n",
       "\n",
       "                                     description  \\\n",
       "0                       Pearl TV Tower, Shanghai   \n",
       "1                          Holga Shanghai Places   \n",
       "2                          Holga Shanghai Places   \n",
       "3  Holga Shanghai Places\\n\\nCamera: Holga 120N\\n   \n",
       "4                             Camera: Holga 120N   \n",
       "\n",
       "                                                 url  \\\n",
       "0  http://farm1.staticflickr.com/9/12786061_a6b55...   \n",
       "1  http://farm1.staticflickr.com/16/21048909_3a5c...   \n",
       "2  http://farm1.staticflickr.com/16/21048962_98b0...   \n",
       "3  http://farm1.staticflickr.com/15/21048995_8cd6...   \n",
       "4  http://farm1.staticflickr.com/15/21049047_51f8...   \n",
       "\n",
       "                       geometry   longitude_m    latitude_m  \n",
       "0  POINT (121.497266 31.239682) -2.851709e+06  4.654065e+06  \n",
       "1   POINT (121.494541 31.23438) -2.851647e+06  4.654461e+06  \n",
       "2   POINT (121.494541 31.23438) -2.851647e+06  4.654461e+06  \n",
       "3   POINT (121.494541 31.23438) -2.851647e+06  4.654461e+06  \n",
       "4   POINT (121.494541 31.23438) -2.851647e+06  4.654461e+06  "
      ]
     },
     "execution_count": 66,
     "metadata": {},
     "output_type": "execute_result"
    }
   ],
   "source": [
    "gdf_flickr.head()"
   ]
  },
  {
   "cell_type": "code",
   "execution_count": 67,
   "metadata": {},
   "outputs": [],
   "source": [
    "gdf_flickr = gdf_flickr[['title','tags','description','longitude', 'latitude','longitude_m', 'latitude_m']]"
   ]
  },
  {
   "cell_type": "code",
   "execution_count": 68,
   "metadata": {},
   "outputs": [
    {
     "data": {
      "text/html": [
       "<div>\n",
       "<style scoped>\n",
       "    .dataframe tbody tr th:only-of-type {\n",
       "        vertical-align: middle;\n",
       "    }\n",
       "\n",
       "    .dataframe tbody tr th {\n",
       "        vertical-align: top;\n",
       "    }\n",
       "\n",
       "    .dataframe thead th {\n",
       "        text-align: right;\n",
       "    }\n",
       "</style>\n",
       "<table border=\"1\" class=\"dataframe\">\n",
       "  <thead>\n",
       "    <tr style=\"text-align: right;\">\n",
       "      <th></th>\n",
       "      <th>title</th>\n",
       "      <th>tags</th>\n",
       "      <th>description</th>\n",
       "      <th>longitude</th>\n",
       "      <th>latitude</th>\n",
       "      <th>longitude_m</th>\n",
       "      <th>latitude_m</th>\n",
       "    </tr>\n",
       "  </thead>\n",
       "  <tbody>\n",
       "    <tr>\n",
       "      <th>0</th>\n",
       "      <td>Needle in the Sky</td>\n",
       "      <td>sky 2004 architecture shanghai pearltower dscp8</td>\n",
       "      <td>Pearl TV Tower, Shanghai</td>\n",
       "      <td>121.497266</td>\n",
       "      <td>31.239682</td>\n",
       "      <td>-2.851709e+06</td>\n",
       "      <td>4.654065e+06</td>\n",
       "    </tr>\n",
       "    <tr>\n",
       "      <th>1</th>\n",
       "      <td>Skywards</td>\n",
       "      <td>holga cityscape shanghai</td>\n",
       "      <td>Holga Shanghai Places</td>\n",
       "      <td>121.494541</td>\n",
       "      <td>31.234380</td>\n",
       "      <td>-2.851647e+06</td>\n",
       "      <td>4.654461e+06</td>\n",
       "    </tr>\n",
       "    <tr>\n",
       "      <th>2</th>\n",
       "      <td>Bund2</td>\n",
       "      <td>holga cityscape shanghai</td>\n",
       "      <td>Holga Shanghai Places</td>\n",
       "      <td>121.494541</td>\n",
       "      <td>31.234380</td>\n",
       "      <td>-2.851647e+06</td>\n",
       "      <td>4.654461e+06</td>\n",
       "    </tr>\n",
       "    <tr>\n",
       "      <th>3</th>\n",
       "      <td>RoomWithaView</td>\n",
       "      <td>holga cityscape shanghai hotelrooms</td>\n",
       "      <td>Holga Shanghai Places\\n\\nCamera: Holga 120N\\n</td>\n",
       "      <td>121.494541</td>\n",
       "      <td>31.234380</td>\n",
       "      <td>-2.851647e+06</td>\n",
       "      <td>4.654461e+06</td>\n",
       "    </tr>\n",
       "    <tr>\n",
       "      <th>4</th>\n",
       "      <td>Bund, Early Morning (Shanghai)</td>\n",
       "      <td>holga cityscape shanghai</td>\n",
       "      <td>Camera: Holga 120N</td>\n",
       "      <td>121.494541</td>\n",
       "      <td>31.234380</td>\n",
       "      <td>-2.851647e+06</td>\n",
       "      <td>4.654461e+06</td>\n",
       "    </tr>\n",
       "  </tbody>\n",
       "</table>\n",
       "</div>"
      ],
      "text/plain": [
       "                            title  \\\n",
       "0               Needle in the Sky   \n",
       "1                        Skywards   \n",
       "2                           Bund2   \n",
       "3                   RoomWithaView   \n",
       "4  Bund, Early Morning (Shanghai)   \n",
       "\n",
       "                                              tags  \\\n",
       "0  sky 2004 architecture shanghai pearltower dscp8   \n",
       "1                         holga cityscape shanghai   \n",
       "2                         holga cityscape shanghai   \n",
       "3              holga cityscape shanghai hotelrooms   \n",
       "4                         holga cityscape shanghai   \n",
       "\n",
       "                                     description   longitude   latitude  \\\n",
       "0                       Pearl TV Tower, Shanghai  121.497266  31.239682   \n",
       "1                          Holga Shanghai Places  121.494541  31.234380   \n",
       "2                          Holga Shanghai Places  121.494541  31.234380   \n",
       "3  Holga Shanghai Places\\n\\nCamera: Holga 120N\\n  121.494541  31.234380   \n",
       "4                             Camera: Holga 120N  121.494541  31.234380   \n",
       "\n",
       "    longitude_m    latitude_m  \n",
       "0 -2.851709e+06  4.654065e+06  \n",
       "1 -2.851647e+06  4.654461e+06  \n",
       "2 -2.851647e+06  4.654461e+06  \n",
       "3 -2.851647e+06  4.654461e+06  \n",
       "4 -2.851647e+06  4.654461e+06  "
      ]
     },
     "execution_count": 68,
     "metadata": {},
     "output_type": "execute_result"
    }
   ],
   "source": [
    "gdf_flickr.head()"
   ]
  },
  {
   "cell_type": "code",
   "execution_count": 69,
   "metadata": {},
   "outputs": [],
   "source": [
    "dico_dirty = ['dirty','soiled','grimy','grubby','filthy','mucky','stained','unwashed','greasy','smeared','smeary',\n",
    "              'spotted','smudged','cloudy','muddy','dusty','sooty','unclean','sullied','impure','tarnished',\n",
    "              'polluted','contaminated','defiled','foul','unhygienic','insanitary','unsanitary','cruddy',\n",
    "              'yucky','icky','manky','gungy','grotty','bogging','befouled','besmirched','begrimed','feculent',\n",
    "              'soil','stain','muddy','blacken','mess up','spoil','tarnish','taint','mark','spatter','bespatter',\n",
    "              'smudge','smear','daub','spot','splash','splatter','sully','pollute','foul','defile','befoul',\n",
    "              'besmirch','begrime']"
   ]
  },
  {
   "cell_type": "code",
   "execution_count": 70,
   "metadata": {},
   "outputs": [],
   "source": [
    "dico_clean = ['blank','bright','clear','elegant','fresh','graceful','hygienic','immaculate','neat','orderly','pure',\n",
    "              'simple','spotless','tidy','unblemished','washed','cleansed','laundered','shining','sparkling','speckless',\n",
    "              'stainless','trim','vanilla','white','delicate','dirtless','faultless','flawless','neat as a button',\n",
    "              'neat as a pin','sanitary','snowy','spic and span','squeaky','taintless','unpolluted','unsmudged','unsoiled',\n",
    "              'unspotted','unstained','unsullied','untarnished','well-kept']"
   ]
  },
  {
   "cell_type": "code",
   "execution_count": 71,
   "metadata": {},
   "outputs": [],
   "source": [
    "gdf_flickr['clean0_dirty1'] = np.nan"
   ]
  },
  {
   "cell_type": "code",
   "execution_count": 72,
   "metadata": {},
   "outputs": [],
   "source": [
    "def get_dirty(x):\n",
    "    result = -1\n",
    "    for value in dico_dirty:\n",
    "        if x.find(value) > -1:\n",
    "            result = 1\n",
    "            break\n",
    "    for value in dico_clean:\n",
    "        if x.find(value) > -1:\n",
    "            if result == -1:\n",
    "                result = 0\n",
    "            else:\n",
    "                result = -1\n",
    "            break\n",
    "    return result"
   ]
  },
  {
   "cell_type": "code",
   "execution_count": 73,
   "metadata": {},
   "outputs": [],
   "source": [
    "gdf_flickr['clean0_dirty1'] = gdf_flickr['title'].apply(get_dirty)"
   ]
  },
  {
   "cell_type": "code",
   "execution_count": 74,
   "metadata": {},
   "outputs": [
    {
     "data": {
      "text/plain": [
       "251"
      ]
     },
     "execution_count": 74,
     "metadata": {},
     "output_type": "execute_result"
    }
   ],
   "source": [
    "len(gdf_flickr[gdf_flickr.clean0_dirty1 > -1])"
   ]
  },
  {
   "cell_type": "code",
   "execution_count": 75,
   "metadata": {},
   "outputs": [],
   "source": [
    "# 251 points is not enough usable"
   ]
  },
  {
   "cell_type": "code",
   "execution_count": 76,
   "metadata": {},
   "outputs": [],
   "source": [
    "gdf_flickr = gpd.GeoDataFrame(gdf_flickr, geometry = [Point(x,y) for x,y in zip(gdf_flickr.longitude_m, gdf_flickr.latitude_m)])\n",
    "gdf_flickr.crs = {'init': 'epsg:4479'} #china metric projection"
   ]
  },
  {
   "cell_type": "code",
   "execution_count": 77,
   "metadata": {},
   "outputs": [],
   "source": [
    "gdf_flickr.to_pickle('../clean_pickles/flickr.pk')"
   ]
  },
  {
   "cell_type": "code",
   "execution_count": 78,
   "metadata": {},
   "outputs": [
    {
     "ename": "NameError",
     "evalue": "name 'stop' is not defined",
     "output_type": "error",
     "traceback": [
      "\u001b[1;31m---------------------------------------------------------------------------\u001b[0m",
      "\u001b[1;31mNameError\u001b[0m                                 Traceback (most recent call last)",
      "\u001b[1;32m<ipython-input-78-4f76a9dad686>\u001b[0m in \u001b[0;36m<module>\u001b[1;34m\u001b[0m\n\u001b[1;32m----> 1\u001b[1;33m \u001b[0mstop\u001b[0m\u001b[1;33m\u001b[0m\u001b[1;33m\u001b[0m\u001b[0m\n\u001b[0m",
      "\u001b[1;31mNameError\u001b[0m: name 'stop' is not defined"
     ]
    }
   ],
   "source": [
    "stop"
   ]
  },
  {
   "cell_type": "code",
   "execution_count": null,
   "metadata": {},
   "outputs": [],
   "source": []
  },
  {
   "cell_type": "code",
   "execution_count": null,
   "metadata": {},
   "outputs": [],
   "source": [
    "gdf_flickr = pd.read_pickle('../clean_pickles/flickr.pk')"
   ]
  },
  {
   "cell_type": "code",
   "execution_count": null,
   "metadata": {},
   "outputs": [],
   "source": []
  },
  {
   "cell_type": "code",
   "execution_count": null,
   "metadata": {},
   "outputs": [],
   "source": [
    "gdf_target = pd.read_pickle('../clean_pickles/target.pk')"
   ]
  },
  {
   "cell_type": "code",
   "execution_count": null,
   "metadata": {},
   "outputs": [],
   "source": [
    "#gdf_target = gpd.GeoDataFrame(df_target, geometry = 'geometry')\n",
    "#gdf_target.crs = {'init': 'epsg:4479'} #china metric projection"
   ]
  },
  {
   "cell_type": "code",
   "execution_count": null,
   "metadata": {},
   "outputs": [],
   "source": []
  },
  {
   "cell_type": "code",
   "execution_count": null,
   "metadata": {},
   "outputs": [],
   "source": [
    "'''\n",
    "#need 1h18 to run\n",
    "time = ManagingTime()\n",
    "time.displayStartTime()\n",
    "\n",
    "gdf_target['nb_taxi_all'] = 0\n",
    "gdf_target['taxi_speed_mean'] = np.nan\n",
    "for index,value in gdf_target.iterrows():\n",
    "    clear_output()\n",
    "    time.displayStartTime()\n",
    "    print(index)\n",
    "    gdf_temp = gdf_taxi.loc[gdf_taxi.within(value.surface_buffer)]\n",
    "    gdf_target.nb_taxi_all.loc[index] = len(gdf_temp)\n",
    "    gdf_target.taxi_speed_mean.loc[index] = gdf_temp.speed.mean()\n",
    "\n",
    "gdf_target.to_pickle('../clean_pickles/target_taxi_speed.pk')\n",
    "\n",
    "time.displayEndTime()\n",
    "time.displayRunningTime() '''"
   ]
  },
  {
   "cell_type": "code",
   "execution_count": null,
   "metadata": {},
   "outputs": [],
   "source": [
    "gdf_target.describe()"
   ]
  },
  {
   "cell_type": "code",
   "execution_count": null,
   "metadata": {},
   "outputs": [],
   "source": [
    "# No taxi found in 14 area.\n",
    "len(gdf_target[gdf_target.nb_taxi_all == 0])"
   ]
  },
  {
   "cell_type": "code",
   "execution_count": null,
   "metadata": {},
   "outputs": [],
   "source": []
  }
 ],
 "metadata": {
  "kernelspec": {
   "display_name": "Python 3",
   "language": "python",
   "name": "python3"
  },
  "language_info": {
   "codemirror_mode": {
    "name": "ipython",
    "version": 3
   },
   "file_extension": ".py",
   "mimetype": "text/x-python",
   "name": "python",
   "nbconvert_exporter": "python",
   "pygments_lexer": "ipython3",
   "version": "3.7.3"
  }
 },
 "nbformat": 4,
 "nbformat_minor": 4
}
