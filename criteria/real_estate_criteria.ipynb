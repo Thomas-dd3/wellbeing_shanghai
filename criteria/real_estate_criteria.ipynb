{
 "cells": [
  {
   "cell_type": "code",
   "execution_count": 1,
   "metadata": {},
   "outputs": [],
   "source": [
    "#config.ipynb contains all the import\n",
    "%run ../global_class/config.ipynb\n",
    "#it's a the multipolygone of Shanghai\n",
    "%run ../global_class/getShanghai.ipynb"
   ]
  },
  {
   "cell_type": "code",
   "execution_count": 2,
   "metadata": {},
   "outputs": [],
   "source": [
    "df_re = pd.read_pickle('../pickles/utseus-anjuke-real-estate.pk')\n",
    "# df_re is a list\n",
    "df_re = pd.DataFrame(df_re[1:], columns=df_re[0])"
   ]
  },
  {
   "cell_type": "code",
   "execution_count": 3,
   "metadata": {},
   "outputs": [
    {
     "data": {
      "text/html": [
       "<div>\n",
       "<style scoped>\n",
       "    .dataframe tbody tr th:only-of-type {\n",
       "        vertical-align: middle;\n",
       "    }\n",
       "\n",
       "    .dataframe tbody tr th {\n",
       "        vertical-align: top;\n",
       "    }\n",
       "\n",
       "    .dataframe thead th {\n",
       "        text-align: right;\n",
       "    }\n",
       "</style>\n",
       "<table border=\"1\" class=\"dataframe\">\n",
       "  <thead>\n",
       "    <tr style=\"text-align: right;\">\n",
       "      <th></th>\n",
       "      <th>id</th>\n",
       "      <th>address</th>\n",
       "      <th>longitude</th>\n",
       "      <th>latitude</th>\n",
       "      <th>bedroom</th>\n",
       "      <th>room</th>\n",
       "      <th>surface</th>\n",
       "      <th>price</th>\n",
       "      <th>onesquaremeter</th>\n",
       "      <th>tags</th>\n",
       "      <th>district</th>\n",
       "      <th>neighborhood</th>\n",
       "      <th>done</th>\n",
       "    </tr>\n",
       "  </thead>\n",
       "  <tbody>\n",
       "    <tr>\n",
       "      <th>0</th>\n",
       "      <td>A888553302</td>\n",
       "      <td>宝山-大场  金地艺境(宝山)(555弄)</td>\n",
       "      <td>121.34392735101</td>\n",
       "      <td>31.3193561718426</td>\n",
       "      <td>2</td>\n",
       "      <td>2</td>\n",
       "      <td>30.0</td>\n",
       "      <td>1160000.0</td>\n",
       "      <td>38666.6666666667</td>\n",
       "      <td>金地开发 **首推 地铁首通 价格首降 配套就是你能想到的</td>\n",
       "      <td>baoshan</td>\n",
       "      <td>dachang</td>\n",
       "      <td>1</td>\n",
       "    </tr>\n",
       "    <tr>\n",
       "      <th>1</th>\n",
       "      <td>A888376847</td>\n",
       "      <td>宝山-大场  骏华苑</td>\n",
       "      <td>121.407324884273</td>\n",
       "      <td>31.3023675431043</td>\n",
       "      <td>1</td>\n",
       "      <td>1</td>\n",
       "      <td>38.0</td>\n",
       "      <td>1950000.0</td>\n",
       "      <td>51315.7894736842</td>\n",
       "      <td>龙璟公馆嘉兴市近万达广场，北大附属实验校区，地铁沿线高铁站旁</td>\n",
       "      <td>baoshan</td>\n",
       "      <td>dachang</td>\n",
       "      <td>1</td>\n",
       "    </tr>\n",
       "    <tr>\n",
       "      <th>2</th>\n",
       "      <td>A885088482</td>\n",
       "      <td>宝山-大场  琉樽尚品(255弄)</td>\n",
       "      <td>121.397487377268</td>\n",
       "      <td>31.2908711986862</td>\n",
       "      <td>3</td>\n",
       "      <td>2</td>\n",
       "      <td>92.0</td>\n",
       "      <td>5350000.0</td>\n",
       "      <td>58152.1739130435</td>\n",
       "      <td>92+7平书房，婚房装修30万！满2年税少11万！再降20万</td>\n",
       "      <td>baoshan</td>\n",
       "      <td>dachang</td>\n",
       "      <td>1</td>\n",
       "    </tr>\n",
       "    <tr>\n",
       "      <th>3</th>\n",
       "      <td>A885392981</td>\n",
       "      <td>宝山-大场  琉樽尚品（255弄）</td>\n",
       "      <td>121.397487377268</td>\n",
       "      <td>31.2908711986862</td>\n",
       "      <td>2</td>\n",
       "      <td>2</td>\n",
       "      <td>68.0</td>\n",
       "      <td>4350000.0</td>\n",
       "      <td>63970.5882352941</td>\n",
       "      <td>中环景观，电梯复式，豪装45万全送，拎包入住，小格局大设计，</td>\n",
       "      <td>baoshan</td>\n",
       "      <td>dachang</td>\n",
       "      <td>1</td>\n",
       "    </tr>\n",
       "    <tr>\n",
       "      <th>4</th>\n",
       "      <td>A885831305</td>\n",
       "      <td>宝山-大场  美好家小区</td>\n",
       "      <td>121.421397234518</td>\n",
       "      <td>31.302658471085</td>\n",
       "      <td>2</td>\n",
       "      <td>2</td>\n",
       "      <td>80.0</td>\n",
       "      <td>4000000.0</td>\n",
       "      <td>50000.0</td>\n",
       "      <td>美好家南北通精装2房板式房型采光好随时好看带天井</td>\n",
       "      <td>baoshan</td>\n",
       "      <td>dachang</td>\n",
       "      <td>1</td>\n",
       "    </tr>\n",
       "  </tbody>\n",
       "</table>\n",
       "</div>"
      ],
      "text/plain": [
       "           id                address         longitude          latitude  \\\n",
       "0  A888553302  宝山-大场  金地艺境(宝山)(555弄)   121.34392735101  31.3193561718426   \n",
       "1  A888376847             宝山-大场  骏华苑  121.407324884273  31.3023675431043   \n",
       "2  A885088482      宝山-大场  琉樽尚品(255弄)  121.397487377268  31.2908711986862   \n",
       "3  A885392981      宝山-大场  琉樽尚品（255弄）  121.397487377268  31.2908711986862   \n",
       "4  A885831305           宝山-大场  美好家小区  121.421397234518   31.302658471085   \n",
       "\n",
       "  bedroom room surface      price    onesquaremeter  \\\n",
       "0       2    2    30.0  1160000.0  38666.6666666667   \n",
       "1       1    1    38.0  1950000.0  51315.7894736842   \n",
       "2       3    2    92.0  5350000.0  58152.1739130435   \n",
       "3       2    2    68.0  4350000.0  63970.5882352941   \n",
       "4       2    2    80.0  4000000.0           50000.0   \n",
       "\n",
       "                             tags district neighborhood done  \n",
       "0   金地开发 **首推 地铁首通 价格首降 配套就是你能想到的  baoshan      dachang    1  \n",
       "1  龙璟公馆嘉兴市近万达广场，北大附属实验校区，地铁沿线高铁站旁  baoshan      dachang    1  \n",
       "2  92+7平书房，婚房装修30万！满2年税少11万！再降20万  baoshan      dachang    1  \n",
       "3  中环景观，电梯复式，豪装45万全送，拎包入住，小格局大设计，  baoshan      dachang    1  \n",
       "4        美好家南北通精装2房板式房型采光好随时好看带天井  baoshan      dachang    1  "
      ]
     },
     "execution_count": 3,
     "metadata": {},
     "output_type": "execute_result"
    }
   ],
   "source": [
    "df_re.head()"
   ]
  },
  {
   "cell_type": "code",
   "execution_count": 4,
   "metadata": {},
   "outputs": [
    {
     "name": "stdout",
     "output_type": "stream",
     "text": [
      "467029\n",
      "467029\n"
     ]
    }
   ],
   "source": [
    "#df_re has no na value\n",
    "print(len(df_re))\n",
    "print(len(df_re.dropna()))"
   ]
  },
  {
   "cell_type": "code",
   "execution_count": 5,
   "metadata": {},
   "outputs": [
    {
     "name": "stdout",
     "output_type": "stream",
     "text": [
      "463067\n"
     ]
    }
   ],
   "source": [
    "#df_re has some empty field\n",
    "df_re = df_re[(df_re.longitude != \"\") & (df_re.latitude != \"\")]\n",
    "print(len(df_re))"
   ]
  },
  {
   "cell_type": "code",
   "execution_count": 6,
   "metadata": {},
   "outputs": [
    {
     "data": {
      "text/plain": [
       "count      463067\n",
       "unique      35828\n",
       "top       50000.0\n",
       "freq         4345\n",
       "Name: onesquaremeter, dtype: object"
      ]
     },
     "execution_count": 6,
     "metadata": {},
     "output_type": "execute_result"
    }
   ],
   "source": [
    "df_re.onesquaremeter.describe()"
   ]
  },
  {
   "cell_type": "code",
   "execution_count": 7,
   "metadata": {},
   "outputs": [
    {
     "name": "stdout",
     "output_type": "stream",
     "text": [
      "<class 'str'>\n",
      "<class 'str'>\n",
      "<class 'str'>\n"
     ]
    }
   ],
   "source": [
    "print(type(df_re.onesquaremeter.iloc[0]))\n",
    "print(type(df_re.room.iloc[0]))\n",
    "print(type(df_re.longitude.iloc[0]))"
   ]
  },
  {
   "cell_type": "code",
   "execution_count": 8,
   "metadata": {},
   "outputs": [],
   "source": [
    "# We need to convert the type of the values\n",
    "df_re.bedroom = df_re.bedroom.apply(int)\n",
    "df_re.room = df_re.room.apply(int)\n",
    "df_re.onesquaremeter = df_re.onesquaremeter.apply(float)\n",
    "df_re.price = df_re.price.apply(float)\n",
    "df_re.surface = df_re.surface.apply(float)\n",
    "df_re.longitude = df_re.longitude.apply(float)\n",
    "df_re.latitude = df_re.latitude.apply(float)"
   ]
  },
  {
   "cell_type": "code",
   "execution_count": 9,
   "metadata": {},
   "outputs": [],
   "source": [
    "gdf_re = gpd.GeoDataFrame(df_re, geometry = [Point(x,y) for x,y in zip(df_re.longitude, df_re.latitude)])\n",
    "gdf_re.crs = {'init': 'epsg:4326'} #world degree"
   ]
  },
  {
   "cell_type": "code",
   "execution_count": 10,
   "metadata": {},
   "outputs": [
    {
     "data": {
      "text/plain": [
       "<matplotlib.axes._subplots.AxesSubplot at 0x1adafa6a0b8>"
      ]
     },
     "execution_count": 10,
     "metadata": {},
     "output_type": "execute_result"
    },
    {
     "data": {
      "image/png": "[encoded data removed]",
      "text/plain": [
       "<Figure size 1080x720 with 1 Axes>"
      ]
     },
     "metadata": {
      "needs_background": "light"
     },
     "output_type": "display_data"
    }
   ],
   "source": [
    "gdf_re.plot(markersize=0.02, c='#000066', figsize=(15,10))"
   ]
  },
  {
   "cell_type": "code",
   "execution_count": 11,
   "metadata": {},
   "outputs": [
    {
     "name": "stdout",
     "output_type": "stream",
     "text": [
      "Starting time: 2020-01-06 15:31:11.257577\n",
      "Running time: 0:01:33.489043\n"
     ]
    }
   ],
   "source": [
    "time = ManagingTime()\n",
    "time.displayStartTime()\n",
    "\n",
    "gdf_re = gdf_re.loc[gdf_re.within(shanghai)]\n",
    "\n",
    "time.displayRunningTime()"
   ]
  },
  {
   "cell_type": "code",
   "execution_count": 12,
   "metadata": {},
   "outputs": [
    {
     "data": {
      "text/plain": [
       "<matplotlib.axes._subplots.AxesSubplot at 0x1add2c17b70>"
      ]
     },
     "execution_count": 12,
     "metadata": {},
     "output_type": "execute_result"
    },
    {
     "data": {
      "image/png": "[encoded data removed]",
      "text/plain": [
       "<Figure size 1080x720 with 1 Axes>"
      ]
     },
     "metadata": {
      "needs_background": "light"
     },
     "output_type": "display_data"
    }
   ],
   "source": [
    "gdf_re.plot(markersize=0.02, c='#000066', figsize=(15,10))"
   ]
  },
  {
   "cell_type": "code",
   "execution_count": 13,
   "metadata": {},
   "outputs": [
    {
     "name": "stdout",
     "output_type": "stream",
     "text": [
      "451757\n"
     ]
    }
   ],
   "source": [
    "print(len(gdf_re))\n",
    "# We removed 11 310 points outside of Shanghai"
   ]
  },
  {
   "cell_type": "code",
   "execution_count": 14,
   "metadata": {},
   "outputs": [
    {
     "data": {
      "text/html": [
       "<div>\n",
       "<style scoped>\n",
       "    .dataframe tbody tr th:only-of-type {\n",
       "        vertical-align: middle;\n",
       "    }\n",
       "\n",
       "    .dataframe tbody tr th {\n",
       "        vertical-align: top;\n",
       "    }\n",
       "\n",
       "    .dataframe thead th {\n",
       "        text-align: right;\n",
       "    }\n",
       "</style>\n",
       "<table border=\"1\" class=\"dataframe\">\n",
       "  <thead>\n",
       "    <tr style=\"text-align: right;\">\n",
       "      <th></th>\n",
       "      <th>id</th>\n",
       "      <th>address</th>\n",
       "      <th>longitude</th>\n",
       "      <th>latitude</th>\n",
       "      <th>bedroom</th>\n",
       "      <th>room</th>\n",
       "      <th>surface</th>\n",
       "      <th>price</th>\n",
       "      <th>onesquaremeter</th>\n",
       "      <th>tags</th>\n",
       "      <th>district</th>\n",
       "      <th>neighborhood</th>\n",
       "      <th>done</th>\n",
       "      <th>geometry</th>\n",
       "    </tr>\n",
       "  </thead>\n",
       "  <tbody>\n",
       "    <tr>\n",
       "      <th>0</th>\n",
       "      <td>A888553302</td>\n",
       "      <td>宝山-大场  金地艺境(宝山)(555弄)</td>\n",
       "      <td>121.343927</td>\n",
       "      <td>31.319356</td>\n",
       "      <td>2</td>\n",
       "      <td>2</td>\n",
       "      <td>30.0</td>\n",
       "      <td>1160000.0</td>\n",
       "      <td>38666.666667</td>\n",
       "      <td>金地开发 **首推 地铁首通 价格首降 配套就是你能想到的</td>\n",
       "      <td>baoshan</td>\n",
       "      <td>dachang</td>\n",
       "      <td>1</td>\n",
       "      <td>POINT (121.34392735101 31.3193561718426)</td>\n",
       "    </tr>\n",
       "    <tr>\n",
       "      <th>1</th>\n",
       "      <td>A888376847</td>\n",
       "      <td>宝山-大场  骏华苑</td>\n",
       "      <td>121.407325</td>\n",
       "      <td>31.302368</td>\n",
       "      <td>1</td>\n",
       "      <td>1</td>\n",
       "      <td>38.0</td>\n",
       "      <td>1950000.0</td>\n",
       "      <td>51315.789474</td>\n",
       "      <td>龙璟公馆嘉兴市近万达广场，北大附属实验校区，地铁沿线高铁站旁</td>\n",
       "      <td>baoshan</td>\n",
       "      <td>dachang</td>\n",
       "      <td>1</td>\n",
       "      <td>POINT (121.407324884273 31.3023675431043)</td>\n",
       "    </tr>\n",
       "    <tr>\n",
       "      <th>2</th>\n",
       "      <td>A885088482</td>\n",
       "      <td>宝山-大场  琉樽尚品(255弄)</td>\n",
       "      <td>121.397487</td>\n",
       "      <td>31.290871</td>\n",
       "      <td>3</td>\n",
       "      <td>2</td>\n",
       "      <td>92.0</td>\n",
       "      <td>5350000.0</td>\n",
       "      <td>58152.173913</td>\n",
       "      <td>92+7平书房，婚房装修30万！满2年税少11万！再降20万</td>\n",
       "      <td>baoshan</td>\n",
       "      <td>dachang</td>\n",
       "      <td>1</td>\n",
       "      <td>POINT (121.397487377268 31.2908711986862)</td>\n",
       "    </tr>\n",
       "    <tr>\n",
       "      <th>3</th>\n",
       "      <td>A885392981</td>\n",
       "      <td>宝山-大场  琉樽尚品（255弄）</td>\n",
       "      <td>121.397487</td>\n",
       "      <td>31.290871</td>\n",
       "      <td>2</td>\n",
       "      <td>2</td>\n",
       "      <td>68.0</td>\n",
       "      <td>4350000.0</td>\n",
       "      <td>63970.588235</td>\n",
       "      <td>中环景观，电梯复式，豪装45万全送，拎包入住，小格局大设计，</td>\n",
       "      <td>baoshan</td>\n",
       "      <td>dachang</td>\n",
       "      <td>1</td>\n",
       "      <td>POINT (121.397487377268 31.2908711986862)</td>\n",
       "    </tr>\n",
       "    <tr>\n",
       "      <th>4</th>\n",
       "      <td>A885831305</td>\n",
       "      <td>宝山-大场  美好家小区</td>\n",
       "      <td>121.421397</td>\n",
       "      <td>31.302658</td>\n",
       "      <td>2</td>\n",
       "      <td>2</td>\n",
       "      <td>80.0</td>\n",
       "      <td>4000000.0</td>\n",
       "      <td>50000.000000</td>\n",
       "      <td>美好家南北通精装2房板式房型采光好随时好看带天井</td>\n",
       "      <td>baoshan</td>\n",
       "      <td>dachang</td>\n",
       "      <td>1</td>\n",
       "      <td>POINT (121.421397234518 31.302658471085)</td>\n",
       "    </tr>\n",
       "  </tbody>\n",
       "</table>\n",
       "</div>"
      ],
      "text/plain": [
       "           id                address   longitude   latitude  bedroom  room  \\\n",
       "0  A888553302  宝山-大场  金地艺境(宝山)(555弄)  121.343927  31.319356        2     2   \n",
       "1  A888376847             宝山-大场  骏华苑  121.407325  31.302368        1     1   \n",
       "2  A885088482      宝山-大场  琉樽尚品(255弄)  121.397487  31.290871        3     2   \n",
       "3  A885392981      宝山-大场  琉樽尚品（255弄）  121.397487  31.290871        2     2   \n",
       "4  A885831305           宝山-大场  美好家小区  121.421397  31.302658        2     2   \n",
       "\n",
       "   surface      price  onesquaremeter                            tags  \\\n",
       "0     30.0  1160000.0    38666.666667   金地开发 **首推 地铁首通 价格首降 配套就是你能想到的   \n",
       "1     38.0  1950000.0    51315.789474  龙璟公馆嘉兴市近万达广场，北大附属实验校区，地铁沿线高铁站旁   \n",
       "2     92.0  5350000.0    58152.173913  92+7平书房，婚房装修30万！满2年税少11万！再降20万   \n",
       "3     68.0  4350000.0    63970.588235  中环景观，电梯复式，豪装45万全送，拎包入住，小格局大设计，   \n",
       "4     80.0  4000000.0    50000.000000        美好家南北通精装2房板式房型采光好随时好看带天井   \n",
       "\n",
       "  district neighborhood done                                   geometry  \n",
       "0  baoshan      dachang    1   POINT (121.34392735101 31.3193561718426)  \n",
       "1  baoshan      dachang    1  POINT (121.407324884273 31.3023675431043)  \n",
       "2  baoshan      dachang    1  POINT (121.397487377268 31.2908711986862)  \n",
       "3  baoshan      dachang    1  POINT (121.397487377268 31.2908711986862)  \n",
       "4  baoshan      dachang    1   POINT (121.421397234518 31.302658471085)  "
      ]
     },
     "execution_count": 14,
     "metadata": {},
     "output_type": "execute_result"
    }
   ],
   "source": [
    "gdf_re.head()"
   ]
  },
  {
   "cell_type": "code",
   "execution_count": 15,
   "metadata": {},
   "outputs": [
    {
     "data": {
      "text/html": [
       "<div>\n",
       "<style scoped>\n",
       "    .dataframe tbody tr th:only-of-type {\n",
       "        vertical-align: middle;\n",
       "    }\n",
       "\n",
       "    .dataframe tbody tr th {\n",
       "        vertical-align: top;\n",
       "    }\n",
       "\n",
       "    .dataframe thead th {\n",
       "        text-align: right;\n",
       "    }\n",
       "</style>\n",
       "<table border=\"1\" class=\"dataframe\">\n",
       "  <thead>\n",
       "    <tr style=\"text-align: right;\">\n",
       "      <th></th>\n",
       "      <th>id</th>\n",
       "      <th>address</th>\n",
       "      <th>longitude</th>\n",
       "      <th>latitude</th>\n",
       "      <th>bedroom</th>\n",
       "      <th>room</th>\n",
       "      <th>surface</th>\n",
       "      <th>price</th>\n",
       "      <th>onesquaremeter</th>\n",
       "      <th>tags</th>\n",
       "      <th>district</th>\n",
       "      <th>neighborhood</th>\n",
       "      <th>done</th>\n",
       "      <th>geometry</th>\n",
       "    </tr>\n",
       "  </thead>\n",
       "  <tbody>\n",
       "  </tbody>\n",
       "</table>\n",
       "</div>"
      ],
      "text/plain": [
       "Empty GeoDataFrame\n",
       "Columns: [id, address, longitude, latitude, bedroom, room, surface, price, onesquaremeter, tags, district, neighborhood, done, geometry]\n",
       "Index: []"
      ]
     },
     "execution_count": 15,
     "metadata": {},
     "output_type": "execute_result"
    }
   ],
   "source": [
    "#No duplicated lines in real_estate dataset if we keep every column\n",
    "gdf_re[gdf_re.duplicated(keep = 'first', subset=gdf_re.columns.difference(['geometry']))]"
   ]
  },
  {
   "cell_type": "code",
   "execution_count": 16,
   "metadata": {},
   "outputs": [
    {
     "data": {
      "text/html": [
       "<div>\n",
       "<style scoped>\n",
       "    .dataframe tbody tr th:only-of-type {\n",
       "        vertical-align: middle;\n",
       "    }\n",
       "\n",
       "    .dataframe tbody tr th {\n",
       "        vertical-align: top;\n",
       "    }\n",
       "\n",
       "    .dataframe thead th {\n",
       "        text-align: right;\n",
       "    }\n",
       "</style>\n",
       "<table border=\"1\" class=\"dataframe\">\n",
       "  <thead>\n",
       "    <tr style=\"text-align: right;\">\n",
       "      <th></th>\n",
       "      <th>id</th>\n",
       "      <th>address</th>\n",
       "      <th>longitude</th>\n",
       "      <th>latitude</th>\n",
       "      <th>bedroom</th>\n",
       "      <th>room</th>\n",
       "      <th>surface</th>\n",
       "      <th>price</th>\n",
       "      <th>onesquaremeter</th>\n",
       "      <th>tags</th>\n",
       "      <th>district</th>\n",
       "      <th>neighborhood</th>\n",
       "      <th>done</th>\n",
       "      <th>geometry</th>\n",
       "    </tr>\n",
       "  </thead>\n",
       "  <tbody>\n",
       "    <tr>\n",
       "      <th>9</th>\n",
       "      <td>A880302877</td>\n",
       "      <td>宝山-大场  琉樽尚品（255弄）</td>\n",
       "      <td>121.397487</td>\n",
       "      <td>31.290871</td>\n",
       "      <td>2</td>\n",
       "      <td>2</td>\n",
       "      <td>68.0</td>\n",
       "      <td>4350000.0</td>\n",
       "      <td>63970.588235</td>\n",
       "      <td>中环景观，电梯复式，豪装45万全送，拎包入住，小格局大设计，</td>\n",
       "      <td>baoshan</td>\n",
       "      <td>dachang</td>\n",
       "      <td>1</td>\n",
       "      <td>POINT (121.397487377268 31.2908711986862)</td>\n",
       "    </tr>\n",
       "    <tr>\n",
       "      <th>81</th>\n",
       "      <td>A876599415</td>\n",
       "      <td>宝山-大场  琉樽尚品（255弄）</td>\n",
       "      <td>121.397487</td>\n",
       "      <td>31.290871</td>\n",
       "      <td>3</td>\n",
       "      <td>2</td>\n",
       "      <td>129.0</td>\n",
       "      <td>7700000.0</td>\n",
       "      <td>59689.922481</td>\n",
       "      <td>四房两卫，婚装40万，置换徐汇名校，中区，空间大！急售！！！</td>\n",
       "      <td>baoshan</td>\n",
       "      <td>dachang</td>\n",
       "      <td>1</td>\n",
       "      <td>POINT (121.397487377268 31.2908711986862)</td>\n",
       "    </tr>\n",
       "    <tr>\n",
       "      <th>84</th>\n",
       "      <td>A876690258</td>\n",
       "      <td>宝山-大场  琉樽尚品（255弄）</td>\n",
       "      <td>121.397487</td>\n",
       "      <td>31.290871</td>\n",
       "      <td>1</td>\n",
       "      <td>1</td>\n",
       "      <td>55.0</td>\n",
       "      <td>3500000.0</td>\n",
       "      <td>63636.363636</td>\n",
       "      <td>*大一房，临地铁,高区景观，房东变现诚售。</td>\n",
       "      <td>baoshan</td>\n",
       "      <td>dachang</td>\n",
       "      <td>1</td>\n",
       "      <td>POINT (121.397487377268 31.2908711986862)</td>\n",
       "    </tr>\n",
       "    <tr>\n",
       "      <th>85</th>\n",
       "      <td>A877366249</td>\n",
       "      <td>宝山-大场  金地艺境(宝山)(555弄)</td>\n",
       "      <td>121.343927</td>\n",
       "      <td>31.319356</td>\n",
       "      <td>2</td>\n",
       "      <td>2</td>\n",
       "      <td>91.0</td>\n",
       "      <td>4100000.0</td>\n",
       "      <td>45054.945055</td>\n",
       "      <td>金地艺境(宝山)(555弄) 91.39平米 410.0万元</td>\n",
       "      <td>baoshan</td>\n",
       "      <td>dachang</td>\n",
       "      <td>1</td>\n",
       "      <td>POINT (121.34392735101 31.3193561718426)</td>\n",
       "    </tr>\n",
       "    <tr>\n",
       "      <th>94</th>\n",
       "      <td>A871779321</td>\n",
       "      <td>宝山-大场  滨江雅苑</td>\n",
       "      <td>121.409048</td>\n",
       "      <td>31.279768</td>\n",
       "      <td>3</td>\n",
       "      <td>2</td>\n",
       "      <td>125.0</td>\n",
       "      <td>7800000.0</td>\n",
       "      <td>62400.000000</td>\n",
       "      <td>降价急售！南北通三房，满5年，楼层佳，环境优美，靠近地铁7号</td>\n",
       "      <td>baoshan</td>\n",
       "      <td>dachang</td>\n",
       "      <td>1</td>\n",
       "      <td>POINT (121.409047864216 31.2797676308771)</td>\n",
       "    </tr>\n",
       "    <tr>\n",
       "      <th>...</th>\n",
       "      <td>...</td>\n",
       "      <td>...</td>\n",
       "      <td>...</td>\n",
       "      <td>...</td>\n",
       "      <td>...</td>\n",
       "      <td>...</td>\n",
       "      <td>...</td>\n",
       "      <td>...</td>\n",
       "      <td>...</td>\n",
       "      <td>...</td>\n",
       "      <td>...</td>\n",
       "      <td>...</td>\n",
       "      <td>...</td>\n",
       "      <td>...</td>\n",
       "    </tr>\n",
       "    <tr>\n",
       "      <th>467003</th>\n",
       "      <td>A893287978</td>\n",
       "      <td>闵行-颛桥  绿城玫瑰园</td>\n",
       "      <td>121.453931</td>\n",
       "      <td>31.232433</td>\n",
       "      <td>6</td>\n",
       "      <td>4</td>\n",
       "      <td>1011.0</td>\n",
       "      <td>76990000.0</td>\n",
       "      <td>76152.324431</td>\n",
       "      <td>绿城玫瑰园+独栋别墅+三面环水+岛中大宅+占地7亩地+游泳池</td>\n",
       "      <td>minhang</td>\n",
       "      <td>zhuanqiao</td>\n",
       "      <td>1</td>\n",
       "      <td>POINT (121.453930975551 31.2324329852162)</td>\n",
       "    </tr>\n",
       "    <tr>\n",
       "      <th>467015</th>\n",
       "      <td>A888463011</td>\n",
       "      <td>闵行-颛桥  上海星河湾</td>\n",
       "      <td>121.403621</td>\n",
       "      <td>31.089985</td>\n",
       "      <td>3</td>\n",
       "      <td>2</td>\n",
       "      <td>248.0</td>\n",
       "      <td>15000000.0</td>\n",
       "      <td>60483.870968</td>\n",
       "      <td>星河湾一期3+1户型 全配家具 满两年 实图实价只有我敢发</td>\n",
       "      <td>minhang</td>\n",
       "      <td>zhuanqiao</td>\n",
       "      <td>1</td>\n",
       "      <td>POINT (121.40362132705 31.0899847443612)</td>\n",
       "    </tr>\n",
       "    <tr>\n",
       "      <th>467016</th>\n",
       "      <td>A892193712</td>\n",
       "      <td>闵行-颛桥  天恒名城</td>\n",
       "      <td>121.387736</td>\n",
       "      <td>31.058388</td>\n",
       "      <td>4</td>\n",
       "      <td>2</td>\n",
       "      <td>182.0</td>\n",
       "      <td>9600000.0</td>\n",
       "      <td>52747.252747</td>\n",
       "      <td>天恒名城 高端商品房 豪华装修 拎包即可入住 业主出国急售</td>\n",
       "      <td>minhang</td>\n",
       "      <td>zhuanqiao</td>\n",
       "      <td>1</td>\n",
       "      <td>POINT (121.387736331626 31.058388129757)</td>\n",
       "    </tr>\n",
       "    <tr>\n",
       "      <th>467023</th>\n",
       "      <td>A883996919</td>\n",
       "      <td>闵行-颛桥  银都新村(1-7区)</td>\n",
       "      <td>121.389644</td>\n",
       "      <td>31.096175</td>\n",
       "      <td>1</td>\n",
       "      <td>1</td>\n",
       "      <td>47.0</td>\n",
       "      <td>2350000.0</td>\n",
       "      <td>50000.000000</td>\n",
       "      <td>一房的价格买两房的面积，43平米的面积56平米的使用面积！</td>\n",
       "      <td>minhang</td>\n",
       "      <td>zhuanqiao</td>\n",
       "      <td>1</td>\n",
       "      <td>POINT (121.389643913733 31.0961747808186)</td>\n",
       "    </tr>\n",
       "    <tr>\n",
       "      <th>467026</th>\n",
       "      <td>A889222766</td>\n",
       "      <td>闵行-颛桥  招商雍华苑(公寓)</td>\n",
       "      <td>121.403063</td>\n",
       "      <td>31.076927</td>\n",
       "      <td>1</td>\n",
       "      <td>2</td>\n",
       "      <td>74.0</td>\n",
       "      <td>4100000.0</td>\n",
       "      <td>55405.405405</td>\n",
       "      <td>招商洋房带电梯房税少 小户型  精装修 全南采光好随时看房！</td>\n",
       "      <td>minhang</td>\n",
       "      <td>zhuanqiao</td>\n",
       "      <td>1</td>\n",
       "      <td>POINT (121.403062979821 31.0769265115814)</td>\n",
       "    </tr>\n",
       "  </tbody>\n",
       "</table>\n",
       "<p>70113 rows × 14 columns</p>\n",
       "</div>"
      ],
      "text/plain": [
       "                id                address   longitude   latitude  bedroom  \\\n",
       "9       A880302877      宝山-大场  琉樽尚品（255弄）  121.397487  31.290871        2   \n",
       "81      A876599415      宝山-大场  琉樽尚品（255弄）  121.397487  31.290871        3   \n",
       "84      A876690258      宝山-大场  琉樽尚品（255弄）  121.397487  31.290871        1   \n",
       "85      A877366249  宝山-大场  金地艺境(宝山)(555弄)  121.343927  31.319356        2   \n",
       "94      A871779321            宝山-大场  滨江雅苑  121.409048  31.279768        3   \n",
       "...            ...                    ...         ...        ...      ...   \n",
       "467003  A893287978           闵行-颛桥  绿城玫瑰园  121.453931  31.232433        6   \n",
       "467015  A888463011           闵行-颛桥  上海星河湾  121.403621  31.089985        3   \n",
       "467016  A892193712            闵行-颛桥  天恒名城  121.387736  31.058388        4   \n",
       "467023  A883996919      闵行-颛桥  银都新村(1-7区)  121.389644  31.096175        1   \n",
       "467026  A889222766       闵行-颛桥  招商雍华苑(公寓)  121.403063  31.076927        1   \n",
       "\n",
       "        room  surface       price  onesquaremeter  \\\n",
       "9          2     68.0   4350000.0    63970.588235   \n",
       "81         2    129.0   7700000.0    59689.922481   \n",
       "84         1     55.0   3500000.0    63636.363636   \n",
       "85         2     91.0   4100000.0    45054.945055   \n",
       "94         2    125.0   7800000.0    62400.000000   \n",
       "...      ...      ...         ...             ...   \n",
       "467003     4   1011.0  76990000.0    76152.324431   \n",
       "467015     2    248.0  15000000.0    60483.870968   \n",
       "467016     2    182.0   9600000.0    52747.252747   \n",
       "467023     1     47.0   2350000.0    50000.000000   \n",
       "467026     2     74.0   4100000.0    55405.405405   \n",
       "\n",
       "                                  tags district neighborhood done  \\\n",
       "9       中环景观，电梯复式，豪装45万全送，拎包入住，小格局大设计，  baoshan      dachang    1   \n",
       "81      四房两卫，婚装40万，置换徐汇名校，中区，空间大！急售！！！  baoshan      dachang    1   \n",
       "84               *大一房，临地铁,高区景观，房东变现诚售。  baoshan      dachang    1   \n",
       "85      金地艺境(宝山)(555弄) 91.39平米 410.0万元  baoshan      dachang    1   \n",
       "94      降价急售！南北通三房，满5年，楼层佳，环境优美，靠近地铁7号  baoshan      dachang    1   \n",
       "...                                ...      ...          ...  ...   \n",
       "467003  绿城玫瑰园+独栋别墅+三面环水+岛中大宅+占地7亩地+游泳池  minhang    zhuanqiao    1   \n",
       "467015   星河湾一期3+1户型 全配家具 满两年 实图实价只有我敢发  minhang    zhuanqiao    1   \n",
       "467016   天恒名城 高端商品房 豪华装修 拎包即可入住 业主出国急售  minhang    zhuanqiao    1   \n",
       "467023   一房的价格买两房的面积，43平米的面积56平米的使用面积！  minhang    zhuanqiao    1   \n",
       "467026  招商洋房带电梯房税少 小户型  精装修 全南采光好随时看房！  minhang    zhuanqiao    1   \n",
       "\n",
       "                                         geometry  \n",
       "9       POINT (121.397487377268 31.2908711986862)  \n",
       "81      POINT (121.397487377268 31.2908711986862)  \n",
       "84      POINT (121.397487377268 31.2908711986862)  \n",
       "85       POINT (121.34392735101 31.3193561718426)  \n",
       "94      POINT (121.409047864216 31.2797676308771)  \n",
       "...                                           ...  \n",
       "467003  POINT (121.453930975551 31.2324329852162)  \n",
       "467015   POINT (121.40362132705 31.0899847443612)  \n",
       "467016   POINT (121.387736331626 31.058388129757)  \n",
       "467023  POINT (121.389643913733 31.0961747808186)  \n",
       "467026  POINT (121.403062979821 31.0769265115814)  \n",
       "\n",
       "[70113 rows x 14 columns]"
      ]
     },
     "execution_count": 16,
     "metadata": {},
     "output_type": "execute_result"
    }
   ],
   "source": [
    "#There are duplicated lines in real_estate dataset if we remove column id\n",
    "gdf_re[gdf_re.duplicated(keep = 'first', subset=gdf_re.columns.difference(['id','geometry']))]"
   ]
  },
  {
   "cell_type": "code",
   "execution_count": 17,
   "metadata": {},
   "outputs": [],
   "source": [
    "gdf_re = gdf_re.drop_duplicates(keep = 'first', subset=gdf_re.columns.difference(['id','geometry']))"
   ]
  },
  {
   "cell_type": "code",
   "execution_count": 18,
   "metadata": {},
   "outputs": [],
   "source": [
    "from pyproj import Transformer\n",
    "\n",
    "transformer = Transformer.from_crs(\"EPSG:4326\", \"EPSG:4479\", always_xy=True)\n",
    "\n",
    "\n",
    "def getNewLongitude(xy):\n",
    "    return transformer.transform(xy[0], xy[1])[0]\n",
    "\n",
    "def getNewLatitude(xy):\n",
    "    return transformer.transform(xy[0], xy[1])[1]\n",
    "\n",
    "\n",
    "gdf_re['longitude_m'] = gdf_re[['longitude', 'latitude']].copy().apply(getNewLongitude, axis=1)\n",
    "gdf_re['latitude_m'] = gdf_re[['longitude', 'latitude']].copy().apply(getNewLatitude, axis=1)"
   ]
  },
  {
   "cell_type": "code",
   "execution_count": null,
   "metadata": {},
   "outputs": [],
   "source": []
  },
  {
   "cell_type": "code",
   "execution_count": 19,
   "metadata": {},
   "outputs": [],
   "source": [
    "gdf_re = gdf_re[['bedroom','room','surface', 'price', 'onesquaremeter','longitude','latitude','longitude_m','latitude_m']]"
   ]
  },
  {
   "cell_type": "code",
   "execution_count": 20,
   "metadata": {},
   "outputs": [],
   "source": [
    "gdf_re = gpd.GeoDataFrame(gdf_re, geometry = [Point(x,y) for x,y in zip(gdf_re.longitude_m, gdf_re.latitude_m)])\n",
    "gdf_re.crs = {'init': 'epsg:4479'} #china metric projection"
   ]
  },
  {
   "cell_type": "code",
   "execution_count": 21,
   "metadata": {},
   "outputs": [
    {
     "data": {
      "text/html": [
       "<div>\n",
       "<style scoped>\n",
       "    .dataframe tbody tr th:only-of-type {\n",
       "        vertical-align: middle;\n",
       "    }\n",
       "\n",
       "    .dataframe tbody tr th {\n",
       "        vertical-align: top;\n",
       "    }\n",
       "\n",
       "    .dataframe thead th {\n",
       "        text-align: right;\n",
       "    }\n",
       "</style>\n",
       "<table border=\"1\" class=\"dataframe\">\n",
       "  <thead>\n",
       "    <tr style=\"text-align: right;\">\n",
       "      <th></th>\n",
       "      <th>bedroom</th>\n",
       "      <th>room</th>\n",
       "      <th>surface</th>\n",
       "      <th>price</th>\n",
       "      <th>onesquaremeter</th>\n",
       "      <th>longitude</th>\n",
       "      <th>latitude</th>\n",
       "      <th>longitude_m</th>\n",
       "      <th>latitude_m</th>\n",
       "      <th>geometry</th>\n",
       "    </tr>\n",
       "  </thead>\n",
       "  <tbody>\n",
       "    <tr>\n",
       "      <th>0</th>\n",
       "      <td>2</td>\n",
       "      <td>2</td>\n",
       "      <td>30.0</td>\n",
       "      <td>1160000.0</td>\n",
       "      <td>38666.666667</td>\n",
       "      <td>121.343927</td>\n",
       "      <td>31.319356</td>\n",
       "      <td>-2.836858e+06</td>\n",
       "      <td>4.657763e+06</td>\n",
       "      <td>POINT (-2836857.805841852 4657763.196774267)</td>\n",
       "    </tr>\n",
       "    <tr>\n",
       "      <th>1</th>\n",
       "      <td>1</td>\n",
       "      <td>1</td>\n",
       "      <td>38.0</td>\n",
       "      <td>1950000.0</td>\n",
       "      <td>51315.789474</td>\n",
       "      <td>121.407325</td>\n",
       "      <td>31.302368</td>\n",
       "      <td>-2.842520e+06</td>\n",
       "      <td>4.655457e+06</td>\n",
       "      <td>POINT (-2842519.974292506 4655456.831275352)</td>\n",
       "    </tr>\n",
       "    <tr>\n",
       "      <th>2</th>\n",
       "      <td>3</td>\n",
       "      <td>2</td>\n",
       "      <td>92.0</td>\n",
       "      <td>5350000.0</td>\n",
       "      <td>58152.173913</td>\n",
       "      <td>121.397487</td>\n",
       "      <td>31.290871</td>\n",
       "      <td>-2.842066e+06</td>\n",
       "      <td>4.656510e+06</td>\n",
       "      <td>POINT (-2842065.562511969 4656510.001422781)</td>\n",
       "    </tr>\n",
       "    <tr>\n",
       "      <th>3</th>\n",
       "      <td>2</td>\n",
       "      <td>2</td>\n",
       "      <td>68.0</td>\n",
       "      <td>4350000.0</td>\n",
       "      <td>63970.588235</td>\n",
       "      <td>121.397487</td>\n",
       "      <td>31.290871</td>\n",
       "      <td>-2.842066e+06</td>\n",
       "      <td>4.656510e+06</td>\n",
       "      <td>POINT (-2842065.562511969 4656510.001422781)</td>\n",
       "    </tr>\n",
       "    <tr>\n",
       "      <th>4</th>\n",
       "      <td>2</td>\n",
       "      <td>2</td>\n",
       "      <td>80.0</td>\n",
       "      <td>4000000.0</td>\n",
       "      <td>50000.000000</td>\n",
       "      <td>121.421397</td>\n",
       "      <td>31.302658</td>\n",
       "      <td>-2.843655e+06</td>\n",
       "      <td>4.654744e+06</td>\n",
       "      <td>POINT (-2843654.572927243 4654744.241334365)</td>\n",
       "    </tr>\n",
       "  </tbody>\n",
       "</table>\n",
       "</div>"
      ],
      "text/plain": [
       "   bedroom  room  surface      price  onesquaremeter   longitude   latitude  \\\n",
       "0        2     2     30.0  1160000.0    38666.666667  121.343927  31.319356   \n",
       "1        1     1     38.0  1950000.0    51315.789474  121.407325  31.302368   \n",
       "2        3     2     92.0  5350000.0    58152.173913  121.397487  31.290871   \n",
       "3        2     2     68.0  4350000.0    63970.588235  121.397487  31.290871   \n",
       "4        2     2     80.0  4000000.0    50000.000000  121.421397  31.302658   \n",
       "\n",
       "    longitude_m    latitude_m                                      geometry  \n",
       "0 -2.836858e+06  4.657763e+06  POINT (-2836857.805841852 4657763.196774267)  \n",
       "1 -2.842520e+06  4.655457e+06  POINT (-2842519.974292506 4655456.831275352)  \n",
       "2 -2.842066e+06  4.656510e+06  POINT (-2842065.562511969 4656510.001422781)  \n",
       "3 -2.842066e+06  4.656510e+06  POINT (-2842065.562511969 4656510.001422781)  \n",
       "4 -2.843655e+06  4.654744e+06  POINT (-2843654.572927243 4654744.241334365)  "
      ]
     },
     "execution_count": 21,
     "metadata": {},
     "output_type": "execute_result"
    }
   ],
   "source": [
    "gdf_re.head()"
   ]
  },
  {
   "cell_type": "code",
   "execution_count": 22,
   "metadata": {},
   "outputs": [],
   "source": [
    "gdf_re.to_pickle('../clean_pickles/real_estate.pk')"
   ]
  },
  {
   "cell_type": "code",
   "execution_count": null,
   "metadata": {},
   "outputs": [],
   "source": []
  },
  {
   "cell_type": "code",
   "execution_count": 23,
   "metadata": {},
   "outputs": [],
   "source": [
    "gdf_re = pd.read_pickle('../clean_pickles/real_estate.pk')"
   ]
  },
  {
   "cell_type": "code",
   "execution_count": 24,
   "metadata": {},
   "outputs": [],
   "source": [
    "gdf_target = pd.read_pickle('../clean_pickles/target.pk')"
   ]
  },
  {
   "cell_type": "code",
   "execution_count": 25,
   "metadata": {},
   "outputs": [
    {
     "data": {
      "text/plain": [
       "geopandas.geodataframe.GeoDataFrame"
      ]
     },
     "execution_count": 25,
     "metadata": {},
     "output_type": "execute_result"
    }
   ],
   "source": [
    "type(gdf_target)"
   ]
  },
  {
   "cell_type": "code",
   "execution_count": 26,
   "metadata": {},
   "outputs": [
    {
     "data": {
      "text/plain": [
       "{'init': 'epsg:4479'}"
      ]
     },
     "execution_count": 26,
     "metadata": {},
     "output_type": "execute_result"
    }
   ],
   "source": [
    "gdf_target.crs"
   ]
  },
  {
   "cell_type": "code",
   "execution_count": 28,
   "metadata": {},
   "outputs": [],
   "source": [
    "#gdf_target = gpd.GeoDataFrame(df_target, geometry = 'geometry')\n",
    "#gdf_target.crs = {'init': 'epsg:4479'} #china metric projection"
   ]
  },
  {
   "cell_type": "code",
   "execution_count": 27,
   "metadata": {},
   "outputs": [
    {
     "name": "stdout",
     "output_type": "stream",
     "text": [
      "Starting time: 2020-01-06 15:34:56.813340\n",
      "466\n",
      "Ending time: 2020-01-06 15:55:53.177314\n",
      "Running time: 0:20:56.363974\n"
     ]
    }
   ],
   "source": [
    "#need 22:46 to run\n",
    "time = ManagingTime()\n",
    "time.displayStartTime()\n",
    "\n",
    "gdf_target['av_onesquaremeter_re'] = np.nan\n",
    "gdf_target['av_bedroom_re'] = np.nan\n",
    "for index,value in gdf_target.iterrows():\n",
    "    clear_output()\n",
    "    time.displayStartTime()\n",
    "    print(index)\n",
    "    gdf_re_temp = gdf_re.loc[gdf_re.within(value.surface_buffer)]\n",
    "    gdf_target.av_onesquaremeter_re.loc[index] = gdf_re_temp['onesquaremeter'].mean()\n",
    "    gdf_target.av_bedroom_re.loc[index] = gdf_re_temp['bedroom'].mean()\n",
    "\n",
    "gdf_target.to_pickle('../clean_pickles/target_real_estate.pk')\n",
    "\n",
    "time.displayEndTime()\n",
    "time.displayRunningTime()"
   ]
  },
  {
   "cell_type": "code",
   "execution_count": null,
   "metadata": {},
   "outputs": [],
   "source": []
  },
  {
   "cell_type": "code",
   "execution_count": 28,
   "metadata": {},
   "outputs": [
    {
     "data": {
      "text/html": [
       "<div>\n",
       "<style scoped>\n",
       "    .dataframe tbody tr th:only-of-type {\n",
       "        vertical-align: middle;\n",
       "    }\n",
       "\n",
       "    .dataframe tbody tr th {\n",
       "        vertical-align: top;\n",
       "    }\n",
       "\n",
       "    .dataframe thead th {\n",
       "        text-align: right;\n",
       "    }\n",
       "</style>\n",
       "<table border=\"1\" class=\"dataframe\">\n",
       "  <thead>\n",
       "    <tr style=\"text-align: right;\">\n",
       "      <th></th>\n",
       "      <th>clean</th>\n",
       "      <th>smell</th>\n",
       "      <th>noise</th>\n",
       "      <th>longitude</th>\n",
       "      <th>latitude</th>\n",
       "      <th>geometry</th>\n",
       "      <th>longitude_m</th>\n",
       "      <th>latitude_m</th>\n",
       "      <th>surface_buffer</th>\n",
       "      <th>av_onesquaremeter_re</th>\n",
       "      <th>av_bedroom_re</th>\n",
       "    </tr>\n",
       "  </thead>\n",
       "  <tbody>\n",
       "    <tr>\n",
       "      <th>0</th>\n",
       "      <td>3</td>\n",
       "      <td>0.0</td>\n",
       "      <td>0.0</td>\n",
       "      <td>121.104287</td>\n",
       "      <td>31.155882</td>\n",
       "      <td>POINT (-2822207.586532274 4677635.626522204)</td>\n",
       "      <td>-2.822208e+06</td>\n",
       "      <td>4.677636e+06</td>\n",
       "      <td>POLYGON ((-2821707.586532274 4677635.626522204...</td>\n",
       "      <td>30691.196946</td>\n",
       "      <td>2.243077</td>\n",
       "    </tr>\n",
       "    <tr>\n",
       "      <th>1</th>\n",
       "      <td>3</td>\n",
       "      <td>1.0</td>\n",
       "      <td>0.0</td>\n",
       "      <td>121.351529</td>\n",
       "      <td>31.144327</td>\n",
       "      <td>POINT (-2842710.938446562 4665979.72602233)</td>\n",
       "      <td>-2.842711e+06</td>\n",
       "      <td>4.665980e+06</td>\n",
       "      <td>POLYGON ((-2842210.938446562 4665979.72602233,...</td>\n",
       "      <td>59235.578448</td>\n",
       "      <td>2.503425</td>\n",
       "    </tr>\n",
       "    <tr>\n",
       "      <th>2</th>\n",
       "      <td>2</td>\n",
       "      <td>0.0</td>\n",
       "      <td>0.0</td>\n",
       "      <td>121.468520</td>\n",
       "      <td>31.042285</td>\n",
       "      <td>POINT (-2855282.42475198 4665148.863744967)</td>\n",
       "      <td>-2.855282e+06</td>\n",
       "      <td>4.665149e+06</td>\n",
       "      <td>POLYGON ((-2854782.42475198 4665148.863744967,...</td>\n",
       "      <td>41258.655137</td>\n",
       "      <td>2.174888</td>\n",
       "    </tr>\n",
       "    <tr>\n",
       "      <th>3</th>\n",
       "      <td>3</td>\n",
       "      <td>0.0</td>\n",
       "      <td>0.0</td>\n",
       "      <td>121.367237</td>\n",
       "      <td>31.240725</td>\n",
       "      <td>POINT (-2841108.748930959 4660473.749148724)</td>\n",
       "      <td>-2.841109e+06</td>\n",
       "      <td>4.660474e+06</td>\n",
       "      <td>POLYGON ((-2840608.748930959 4660473.749148724...</td>\n",
       "      <td>62855.093684</td>\n",
       "      <td>2.244413</td>\n",
       "    </tr>\n",
       "    <tr>\n",
       "      <th>4</th>\n",
       "      <td>2</td>\n",
       "      <td>NaN</td>\n",
       "      <td>0.0</td>\n",
       "      <td>121.403601</td>\n",
       "      <td>31.269155</td>\n",
       "      <td>POINT (-2843213.856075277 4657273.732656028)</td>\n",
       "      <td>-2.843214e+06</td>\n",
       "      <td>4.657274e+06</td>\n",
       "      <td>POLYGON ((-2842713.856075277 4657273.732656028...</td>\n",
       "      <td>70179.994580</td>\n",
       "      <td>2.307692</td>\n",
       "    </tr>\n",
       "  </tbody>\n",
       "</table>\n",
       "</div>"
      ],
      "text/plain": [
       "   clean  smell  noise   longitude   latitude  \\\n",
       "0      3    0.0    0.0  121.104287  31.155882   \n",
       "1      3    1.0    0.0  121.351529  31.144327   \n",
       "2      2    0.0    0.0  121.468520  31.042285   \n",
       "3      3    0.0    0.0  121.367237  31.240725   \n",
       "4      2    NaN    0.0  121.403601  31.269155   \n",
       "\n",
       "                                       geometry   longitude_m    latitude_m  \\\n",
       "0  POINT (-2822207.586532274 4677635.626522204) -2.822208e+06  4.677636e+06   \n",
       "1   POINT (-2842710.938446562 4665979.72602233) -2.842711e+06  4.665980e+06   \n",
       "2   POINT (-2855282.42475198 4665148.863744967) -2.855282e+06  4.665149e+06   \n",
       "3  POINT (-2841108.748930959 4660473.749148724) -2.841109e+06  4.660474e+06   \n",
       "4  POINT (-2843213.856075277 4657273.732656028) -2.843214e+06  4.657274e+06   \n",
       "\n",
       "                                      surface_buffer  av_onesquaremeter_re  \\\n",
       "0  POLYGON ((-2821707.586532274 4677635.626522204...          30691.196946   \n",
       "1  POLYGON ((-2842210.938446562 4665979.72602233,...          59235.578448   \n",
       "2  POLYGON ((-2854782.42475198 4665148.863744967,...          41258.655137   \n",
       "3  POLYGON ((-2840608.748930959 4660473.749148724...          62855.093684   \n",
       "4  POLYGON ((-2842713.856075277 4657273.732656028...          70179.994580   \n",
       "\n",
       "   av_bedroom_re  \n",
       "0       2.243077  \n",
       "1       2.503425  \n",
       "2       2.174888  \n",
       "3       2.244413  \n",
       "4       2.307692  "
      ]
     },
     "execution_count": 28,
     "metadata": {},
     "output_type": "execute_result"
    }
   ],
   "source": [
    "gdf_target.head()"
   ]
  }
 ],
 "metadata": {
  "kernelspec": {
   "display_name": "Python 3",
   "language": "python",
   "name": "python3"
  },
  "language_info": {
   "codemirror_mode": {
    "name": "ipython",
    "version": 3
   },
   "file_extension": ".py",
   "mimetype": "text/x-python",
   "name": "python",
   "nbconvert_exporter": "python",
   "pygments_lexer": "ipython3",
   "version": "3.7.3"
  }
 },
 "nbformat": 4,
 "nbformat_minor": 4
}
