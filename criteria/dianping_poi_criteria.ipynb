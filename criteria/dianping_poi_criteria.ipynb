{
 "cells": [
  {
   "cell_type": "code",
   "execution_count": 1,
   "metadata": {},
   "outputs": [],
   "source": [
    "#config.ipynb contains all the import\n",
    "%run ../global_class/config.ipynb\n",
    "#it's a the multipolygone of Shanghai\n",
    "%run ../global_class/getShanghai.ipynb"
   ]
  },
  {
   "cell_type": "code",
   "execution_count": 2,
   "metadata": {},
   "outputs": [],
   "source": [
    "df_poi = pd.read_pickle('../pickles/utseus-poi-dianping.pk')"
   ]
  },
  {
   "cell_type": "code",
   "execution_count": 3,
   "metadata": {},
   "outputs": [
    {
     "data": {
      "text/plain": [
       "geopandas.geodataframe.GeoDataFrame"
      ]
     },
     "execution_count": 3,
     "metadata": {},
     "output_type": "execute_result"
    }
   ],
   "source": [
    "type(df_poi)"
   ]
  },
  {
   "cell_type": "code",
   "execution_count": 4,
   "metadata": {},
   "outputs": [
    {
     "data": {
      "text/html": [
       "<div>\n",
       "<style scoped>\n",
       "    .dataframe tbody tr th:only-of-type {\n",
       "        vertical-align: middle;\n",
       "    }\n",
       "\n",
       "    .dataframe tbody tr th {\n",
       "        vertical-align: top;\n",
       "    }\n",
       "\n",
       "    .dataframe thead th {\n",
       "        text-align: right;\n",
       "    }\n",
       "</style>\n",
       "<table border=\"1\" class=\"dataframe\">\n",
       "  <thead>\n",
       "    <tr style=\"text-align: right;\">\n",
       "      <th></th>\n",
       "      <th>name</th>\n",
       "      <th>branch_name</th>\n",
       "      <th>address</th>\n",
       "      <th>telephone</th>\n",
       "      <th>city</th>\n",
       "      <th>avg_rating</th>\n",
       "      <th>product_grade</th>\n",
       "      <th>decoration_grade</th>\n",
       "      <th>service_grade</th>\n",
       "      <th>product_score</th>\n",
       "      <th>decoration_score</th>\n",
       "      <th>service_score</th>\n",
       "      <th>review_count</th>\n",
       "      <th>avg_price</th>\n",
       "      <th>photo_count</th>\n",
       "      <th>category</th>\n",
       "      <th>latitude</th>\n",
       "      <th>longitude</th>\n",
       "      <th>geometry</th>\n",
       "    </tr>\n",
       "    <tr>\n",
       "      <th>business_id</th>\n",
       "      <th></th>\n",
       "      <th></th>\n",
       "      <th></th>\n",
       "      <th></th>\n",
       "      <th></th>\n",
       "      <th></th>\n",
       "      <th></th>\n",
       "      <th></th>\n",
       "      <th></th>\n",
       "      <th></th>\n",
       "      <th></th>\n",
       "      <th></th>\n",
       "      <th></th>\n",
       "      <th></th>\n",
       "      <th></th>\n",
       "      <th></th>\n",
       "      <th></th>\n",
       "      <th></th>\n",
       "      <th></th>\n",
       "    </tr>\n",
       "  </thead>\n",
       "  <tbody>\n",
       "    <tr>\n",
       "      <th>500000</th>\n",
       "      <td>阿凡提美食娱乐城(这是一条测试商户数据，仅用于测试开发，开发完成后请申请正式数据...)</td>\n",
       "      <td></td>\n",
       "      <td>虹口区曲阳路775号天山宾馆B1楼</td>\n",
       "      <td>021-65559604</td>\n",
       "      <td>上海</td>\n",
       "      <td>30.0</td>\n",
       "      <td>1.0</td>\n",
       "      <td>1.0</td>\n",
       "      <td>1.0</td>\n",
       "      <td>6.8</td>\n",
       "      <td>6.3</td>\n",
       "      <td>6.3</td>\n",
       "      <td>482</td>\n",
       "      <td>81.0</td>\n",
       "      <td>140.0</td>\n",
       "      <td>新疆菜</td>\n",
       "      <td>31.290270</td>\n",
       "      <td>121.485969</td>\n",
       "      <td>POINT (121.4859694378507 31.29027007137677)</td>\n",
       "    </tr>\n",
       "    <tr>\n",
       "      <th>500001</th>\n",
       "      <td>萨莎(这是一条测试商户数据，仅用于测试开发，开发完成后请申请正式数据...)</td>\n",
       "      <td></td>\n",
       "      <td>徐汇区东平路11号</td>\n",
       "      <td>021-64746628</td>\n",
       "      <td>上海</td>\n",
       "      <td>40.0</td>\n",
       "      <td>1.0</td>\n",
       "      <td>1.0</td>\n",
       "      <td>1.0</td>\n",
       "      <td>7.3</td>\n",
       "      <td>8.4</td>\n",
       "      <td>7.4</td>\n",
       "      <td>891</td>\n",
       "      <td>149.0</td>\n",
       "      <td>441.0</td>\n",
       "      <td>酒吧</td>\n",
       "      <td>31.210445</td>\n",
       "      <td>121.445120</td>\n",
       "      <td>POINT (121.4451198540866 31.21044487104275)</td>\n",
       "    </tr>\n",
       "    <tr>\n",
       "      <th>500001</th>\n",
       "      <td>萨莎(这是一条测试商户数据，仅用于测试开发，开发完成后请申请正式数据...)</td>\n",
       "      <td></td>\n",
       "      <td>徐汇区东平路11号</td>\n",
       "      <td>021-64746628</td>\n",
       "      <td>上海</td>\n",
       "      <td>40.0</td>\n",
       "      <td>1.0</td>\n",
       "      <td>1.0</td>\n",
       "      <td>1.0</td>\n",
       "      <td>7.3</td>\n",
       "      <td>8.4</td>\n",
       "      <td>7.4</td>\n",
       "      <td>891</td>\n",
       "      <td>149.0</td>\n",
       "      <td>441.0</td>\n",
       "      <td>牛排</td>\n",
       "      <td>31.210445</td>\n",
       "      <td>121.445120</td>\n",
       "      <td>POINT (121.4451198540866 31.21044487104275)</td>\n",
       "    </tr>\n",
       "    <tr>\n",
       "      <th>500003</th>\n",
       "      <td>1221餐馆(这是一条测试商户数据，仅用于测试开发，开发完成后请申请正式数据...)</td>\n",
       "      <td></td>\n",
       "      <td>长宁区延安西路1221号</td>\n",
       "      <td>021-62136585</td>\n",
       "      <td>上海</td>\n",
       "      <td>35.0</td>\n",
       "      <td>1.0</td>\n",
       "      <td>1.0</td>\n",
       "      <td>1.0</td>\n",
       "      <td>7.1</td>\n",
       "      <td>7.4</td>\n",
       "      <td>7.6</td>\n",
       "      <td>369</td>\n",
       "      <td>144.0</td>\n",
       "      <td>182.0</td>\n",
       "      <td>本帮菜</td>\n",
       "      <td>31.213174</td>\n",
       "      <td>121.423148</td>\n",
       "      <td>POINT (121.4231477606538 31.21317357030482)</td>\n",
       "    </tr>\n",
       "    <tr>\n",
       "      <th>500008</th>\n",
       "      <td>Food Live(这是一条测试商户数据，仅用于测试开发，开发完成后请申请正式数据...)</td>\n",
       "      <td></td>\n",
       "      <td>浦东新区世纪大道88号金茂君悦大酒店B1楼</td>\n",
       "      <td>021-50491234-8283</td>\n",
       "      <td>上海</td>\n",
       "      <td>30.0</td>\n",
       "      <td>1.0</td>\n",
       "      <td>1.0</td>\n",
       "      <td>1.0</td>\n",
       "      <td>6.1</td>\n",
       "      <td>6.3</td>\n",
       "      <td>6.3</td>\n",
       "      <td>38</td>\n",
       "      <td>26.0</td>\n",
       "      <td>12.0</td>\n",
       "      <td>快餐简餐</td>\n",
       "      <td>31.237286</td>\n",
       "      <td>121.501334</td>\n",
       "      <td>POINT (121.501334104979 31.23728587667836)</td>\n",
       "    </tr>\n",
       "  </tbody>\n",
       "</table>\n",
       "</div>"
      ],
      "text/plain": [
       "                                                      name branch_name  \\\n",
       "business_id                                                              \n",
       "500000        阿凡提美食娱乐城(这是一条测试商户数据，仅用于测试开发，开发完成后请申请正式数据...)               \n",
       "500001              萨莎(这是一条测试商户数据，仅用于测试开发，开发完成后请申请正式数据...)               \n",
       "500001              萨莎(这是一条测试商户数据，仅用于测试开发，开发完成后请申请正式数据...)               \n",
       "500003          1221餐馆(这是一条测试商户数据，仅用于测试开发，开发完成后请申请正式数据...)               \n",
       "500008       Food Live(这是一条测试商户数据，仅用于测试开发，开发完成后请申请正式数据...)               \n",
       "\n",
       "                           address          telephone city  avg_rating  \\\n",
       "business_id                                                              \n",
       "500000           虹口区曲阳路775号天山宾馆B1楼       021-65559604   上海        30.0   \n",
       "500001                   徐汇区东平路11号       021-64746628   上海        40.0   \n",
       "500001                   徐汇区东平路11号       021-64746628   上海        40.0   \n",
       "500003                长宁区延安西路1221号       021-62136585   上海        35.0   \n",
       "500008       浦东新区世纪大道88号金茂君悦大酒店B1楼  021-50491234-8283   上海        30.0   \n",
       "\n",
       "             product_grade  decoration_grade  service_grade  product_score  \\\n",
       "business_id                                                                  \n",
       "500000                 1.0               1.0            1.0            6.8   \n",
       "500001                 1.0               1.0            1.0            7.3   \n",
       "500001                 1.0               1.0            1.0            7.3   \n",
       "500003                 1.0               1.0            1.0            7.1   \n",
       "500008                 1.0               1.0            1.0            6.1   \n",
       "\n",
       "             decoration_score  service_score  review_count  avg_price  \\\n",
       "business_id                                                             \n",
       "500000                    6.3            6.3           482       81.0   \n",
       "500001                    8.4            7.4           891      149.0   \n",
       "500001                    8.4            7.4           891      149.0   \n",
       "500003                    7.4            7.6           369      144.0   \n",
       "500008                    6.3            6.3            38       26.0   \n",
       "\n",
       "             photo_count category   latitude   longitude  \\\n",
       "business_id                                                \n",
       "500000             140.0      新疆菜  31.290270  121.485969   \n",
       "500001             441.0       酒吧  31.210445  121.445120   \n",
       "500001             441.0       牛排  31.210445  121.445120   \n",
       "500003             182.0      本帮菜  31.213174  121.423148   \n",
       "500008              12.0     快餐简餐  31.237286  121.501334   \n",
       "\n",
       "                                                geometry  \n",
       "business_id                                               \n",
       "500000       POINT (121.4859694378507 31.29027007137677)  \n",
       "500001       POINT (121.4451198540866 31.21044487104275)  \n",
       "500001       POINT (121.4451198540866 31.21044487104275)  \n",
       "500003       POINT (121.4231477606538 31.21317357030482)  \n",
       "500008        POINT (121.501334104979 31.23728587667836)  "
      ]
     },
     "execution_count": 4,
     "metadata": {},
     "output_type": "execute_result"
    }
   ],
   "source": [
    "df_poi.head()"
   ]
  },
  {
   "cell_type": "code",
   "execution_count": 5,
   "metadata": {},
   "outputs": [
    {
     "name": "stdout",
     "output_type": "stream",
     "text": [
      "365916\n",
      "365454\n"
     ]
    }
   ],
   "source": [
    "#df_poi has value na\n",
    "print(len(df_poi))\n",
    "print(len(df_poi.dropna()))"
   ]
  },
  {
   "cell_type": "code",
   "execution_count": 6,
   "metadata": {},
   "outputs": [],
   "source": [
    "df_poi = df_poi[df_poi.longitude.notna()]"
   ]
  },
  {
   "cell_type": "code",
   "execution_count": 7,
   "metadata": {},
   "outputs": [
    {
     "name": "stdout",
     "output_type": "stream",
     "text": [
      "0\n",
      "0\n"
     ]
    }
   ],
   "source": [
    "print(sum(df_poi.longitude.isna()))\n",
    "print(sum(df_poi.latitude.isna()))"
   ]
  },
  {
   "cell_type": "code",
   "execution_count": 8,
   "metadata": {},
   "outputs": [
    {
     "name": "stdout",
     "output_type": "stream",
     "text": [
      "<class 'numpy.float64'>\n",
      "<class 'numpy.float64'>\n",
      "<class 'numpy.float64'>\n"
     ]
    }
   ],
   "source": [
    "print(type(df_poi.avg_rating.iloc[0]))\n",
    "print(type(df_poi.longitude.iloc[0]))\n",
    "print(type(df_poi.latitude.iloc[0]))"
   ]
  },
  {
   "cell_type": "code",
   "execution_count": 9,
   "metadata": {},
   "outputs": [],
   "source": [
    "gdf_poi = gpd.GeoDataFrame(df_poi, geometry = [Point(x,y) for x,y in zip(df_poi.longitude, df_poi.latitude)])\n",
    "gdf_poi.crs = {'init': 'epsg:4326'} #world degree"
   ]
  },
  {
   "cell_type": "code",
   "execution_count": 10,
   "metadata": {},
   "outputs": [
    {
     "data": {
      "text/plain": [
       "<matplotlib.axes._subplots.AxesSubplot at 0x25de228f588>"
      ]
     },
     "execution_count": 10,
     "metadata": {},
     "output_type": "execute_result"
    },
    {
     "data": {
      "image/png": "[encoded data removed]",
      "text/plain": [
       "<Figure size 1080x720 with 1 Axes>"
      ]
     },
     "metadata": {
      "needs_background": "light"
     },
     "output_type": "display_data"
    }
   ],
   "source": [
    "gdf_poi.plot(markersize=0.01, c='#000066', figsize=(15,10))"
   ]
  },
  {
   "cell_type": "code",
   "execution_count": 11,
   "metadata": {},
   "outputs": [
    {
     "name": "stdout",
     "output_type": "stream",
     "text": [
      "Starting time: 2020-01-05 23:46:10.502316\n",
      "Running time: 0:03:44.398629\n"
     ]
    }
   ],
   "source": [
    "time = ManagingTime()\n",
    "time.displayStartTime()\n",
    "\n",
    "gdf_poi = gdf_poi.loc[gdf_poi.within(shanghai)]\n",
    "\n",
    "time.displayRunningTime()"
   ]
  },
  {
   "cell_type": "code",
   "execution_count": 12,
   "metadata": {},
   "outputs": [
    {
     "data": {
      "text/plain": [
       "<matplotlib.axes._subplots.AxesSubplot at 0x25de2044828>"
      ]
     },
     "execution_count": 12,
     "metadata": {},
     "output_type": "execute_result"
    },
    {
     "data": {
      "image/png": "[encoded data removed]",
      "text/plain": [
       "<Figure size 1080x720 with 1 Axes>"
      ]
     },
     "metadata": {
      "needs_background": "light"
     },
     "output_type": "display_data"
    }
   ],
   "source": [
    "gdf_poi.plot(markersize=0.01, c='#000066', figsize=(15,10))"
   ]
  },
  {
   "cell_type": "code",
   "execution_count": 13,
   "metadata": {},
   "outputs": [
    {
     "name": "stdout",
     "output_type": "stream",
     "text": [
      "365916\n"
     ]
    }
   ],
   "source": [
    "print(len(gdf_poi))\n",
    "# We removed ? points outside of Shanghai"
   ]
  },
  {
   "cell_type": "code",
   "execution_count": 14,
   "metadata": {},
   "outputs": [
    {
     "data": {
      "text/html": [
       "<div>\n",
       "<style scoped>\n",
       "    .dataframe tbody tr th:only-of-type {\n",
       "        vertical-align: middle;\n",
       "    }\n",
       "\n",
       "    .dataframe tbody tr th {\n",
       "        vertical-align: top;\n",
       "    }\n",
       "\n",
       "    .dataframe thead th {\n",
       "        text-align: right;\n",
       "    }\n",
       "</style>\n",
       "<table border=\"1\" class=\"dataframe\">\n",
       "  <thead>\n",
       "    <tr style=\"text-align: right;\">\n",
       "      <th></th>\n",
       "      <th>name</th>\n",
       "      <th>branch_name</th>\n",
       "      <th>address</th>\n",
       "      <th>telephone</th>\n",
       "      <th>city</th>\n",
       "      <th>avg_rating</th>\n",
       "      <th>product_grade</th>\n",
       "      <th>decoration_grade</th>\n",
       "      <th>service_grade</th>\n",
       "      <th>product_score</th>\n",
       "      <th>decoration_score</th>\n",
       "      <th>service_score</th>\n",
       "      <th>review_count</th>\n",
       "      <th>avg_price</th>\n",
       "      <th>photo_count</th>\n",
       "      <th>category</th>\n",
       "      <th>latitude</th>\n",
       "      <th>longitude</th>\n",
       "      <th>geometry</th>\n",
       "    </tr>\n",
       "    <tr>\n",
       "      <th>business_id</th>\n",
       "      <th></th>\n",
       "      <th></th>\n",
       "      <th></th>\n",
       "      <th></th>\n",
       "      <th></th>\n",
       "      <th></th>\n",
       "      <th></th>\n",
       "      <th></th>\n",
       "      <th></th>\n",
       "      <th></th>\n",
       "      <th></th>\n",
       "      <th></th>\n",
       "      <th></th>\n",
       "      <th></th>\n",
       "      <th></th>\n",
       "      <th></th>\n",
       "      <th></th>\n",
       "      <th></th>\n",
       "      <th></th>\n",
       "    </tr>\n",
       "  </thead>\n",
       "  <tbody>\n",
       "    <tr>\n",
       "      <th>500000</th>\n",
       "      <td>阿凡提美食娱乐城(这是一条测试商户数据，仅用于测试开发，开发完成后请申请正式数据...)</td>\n",
       "      <td></td>\n",
       "      <td>虹口区曲阳路775号天山宾馆B1楼</td>\n",
       "      <td>021-65559604</td>\n",
       "      <td>上海</td>\n",
       "      <td>30.0</td>\n",
       "      <td>1.0</td>\n",
       "      <td>1.0</td>\n",
       "      <td>1.0</td>\n",
       "      <td>6.8</td>\n",
       "      <td>6.3</td>\n",
       "      <td>6.3</td>\n",
       "      <td>482</td>\n",
       "      <td>81.0</td>\n",
       "      <td>140.0</td>\n",
       "      <td>新疆菜</td>\n",
       "      <td>31.290270</td>\n",
       "      <td>121.485969</td>\n",
       "      <td>POINT (121.4859694378507 31.29027007137677)</td>\n",
       "    </tr>\n",
       "    <tr>\n",
       "      <th>500001</th>\n",
       "      <td>萨莎(这是一条测试商户数据，仅用于测试开发，开发完成后请申请正式数据...)</td>\n",
       "      <td></td>\n",
       "      <td>徐汇区东平路11号</td>\n",
       "      <td>021-64746628</td>\n",
       "      <td>上海</td>\n",
       "      <td>40.0</td>\n",
       "      <td>1.0</td>\n",
       "      <td>1.0</td>\n",
       "      <td>1.0</td>\n",
       "      <td>7.3</td>\n",
       "      <td>8.4</td>\n",
       "      <td>7.4</td>\n",
       "      <td>891</td>\n",
       "      <td>149.0</td>\n",
       "      <td>441.0</td>\n",
       "      <td>酒吧</td>\n",
       "      <td>31.210445</td>\n",
       "      <td>121.445120</td>\n",
       "      <td>POINT (121.4451198540866 31.21044487104275)</td>\n",
       "    </tr>\n",
       "    <tr>\n",
       "      <th>500001</th>\n",
       "      <td>萨莎(这是一条测试商户数据，仅用于测试开发，开发完成后请申请正式数据...)</td>\n",
       "      <td></td>\n",
       "      <td>徐汇区东平路11号</td>\n",
       "      <td>021-64746628</td>\n",
       "      <td>上海</td>\n",
       "      <td>40.0</td>\n",
       "      <td>1.0</td>\n",
       "      <td>1.0</td>\n",
       "      <td>1.0</td>\n",
       "      <td>7.3</td>\n",
       "      <td>8.4</td>\n",
       "      <td>7.4</td>\n",
       "      <td>891</td>\n",
       "      <td>149.0</td>\n",
       "      <td>441.0</td>\n",
       "      <td>牛排</td>\n",
       "      <td>31.210445</td>\n",
       "      <td>121.445120</td>\n",
       "      <td>POINT (121.4451198540866 31.21044487104275)</td>\n",
       "    </tr>\n",
       "    <tr>\n",
       "      <th>500003</th>\n",
       "      <td>1221餐馆(这是一条测试商户数据，仅用于测试开发，开发完成后请申请正式数据...)</td>\n",
       "      <td></td>\n",
       "      <td>长宁区延安西路1221号</td>\n",
       "      <td>021-62136585</td>\n",
       "      <td>上海</td>\n",
       "      <td>35.0</td>\n",
       "      <td>1.0</td>\n",
       "      <td>1.0</td>\n",
       "      <td>1.0</td>\n",
       "      <td>7.1</td>\n",
       "      <td>7.4</td>\n",
       "      <td>7.6</td>\n",
       "      <td>369</td>\n",
       "      <td>144.0</td>\n",
       "      <td>182.0</td>\n",
       "      <td>本帮菜</td>\n",
       "      <td>31.213174</td>\n",
       "      <td>121.423148</td>\n",
       "      <td>POINT (121.4231477606538 31.21317357030482)</td>\n",
       "    </tr>\n",
       "    <tr>\n",
       "      <th>500008</th>\n",
       "      <td>Food Live(这是一条测试商户数据，仅用于测试开发，开发完成后请申请正式数据...)</td>\n",
       "      <td></td>\n",
       "      <td>浦东新区世纪大道88号金茂君悦大酒店B1楼</td>\n",
       "      <td>021-50491234-8283</td>\n",
       "      <td>上海</td>\n",
       "      <td>30.0</td>\n",
       "      <td>1.0</td>\n",
       "      <td>1.0</td>\n",
       "      <td>1.0</td>\n",
       "      <td>6.1</td>\n",
       "      <td>6.3</td>\n",
       "      <td>6.3</td>\n",
       "      <td>38</td>\n",
       "      <td>26.0</td>\n",
       "      <td>12.0</td>\n",
       "      <td>快餐简餐</td>\n",
       "      <td>31.237286</td>\n",
       "      <td>121.501334</td>\n",
       "      <td>POINT (121.501334104979 31.23728587667836)</td>\n",
       "    </tr>\n",
       "  </tbody>\n",
       "</table>\n",
       "</div>"
      ],
      "text/plain": [
       "                                                      name branch_name  \\\n",
       "business_id                                                              \n",
       "500000        阿凡提美食娱乐城(这是一条测试商户数据，仅用于测试开发，开发完成后请申请正式数据...)               \n",
       "500001              萨莎(这是一条测试商户数据，仅用于测试开发，开发完成后请申请正式数据...)               \n",
       "500001              萨莎(这是一条测试商户数据，仅用于测试开发，开发完成后请申请正式数据...)               \n",
       "500003          1221餐馆(这是一条测试商户数据，仅用于测试开发，开发完成后请申请正式数据...)               \n",
       "500008       Food Live(这是一条测试商户数据，仅用于测试开发，开发完成后请申请正式数据...)               \n",
       "\n",
       "                           address          telephone city  avg_rating  \\\n",
       "business_id                                                              \n",
       "500000           虹口区曲阳路775号天山宾馆B1楼       021-65559604   上海        30.0   \n",
       "500001                   徐汇区东平路11号       021-64746628   上海        40.0   \n",
       "500001                   徐汇区东平路11号       021-64746628   上海        40.0   \n",
       "500003                长宁区延安西路1221号       021-62136585   上海        35.0   \n",
       "500008       浦东新区世纪大道88号金茂君悦大酒店B1楼  021-50491234-8283   上海        30.0   \n",
       "\n",
       "             product_grade  decoration_grade  service_grade  product_score  \\\n",
       "business_id                                                                  \n",
       "500000                 1.0               1.0            1.0            6.8   \n",
       "500001                 1.0               1.0            1.0            7.3   \n",
       "500001                 1.0               1.0            1.0            7.3   \n",
       "500003                 1.0               1.0            1.0            7.1   \n",
       "500008                 1.0               1.0            1.0            6.1   \n",
       "\n",
       "             decoration_score  service_score  review_count  avg_price  \\\n",
       "business_id                                                             \n",
       "500000                    6.3            6.3           482       81.0   \n",
       "500001                    8.4            7.4           891      149.0   \n",
       "500001                    8.4            7.4           891      149.0   \n",
       "500003                    7.4            7.6           369      144.0   \n",
       "500008                    6.3            6.3            38       26.0   \n",
       "\n",
       "             photo_count category   latitude   longitude  \\\n",
       "business_id                                                \n",
       "500000             140.0      新疆菜  31.290270  121.485969   \n",
       "500001             441.0       酒吧  31.210445  121.445120   \n",
       "500001             441.0       牛排  31.210445  121.445120   \n",
       "500003             182.0      本帮菜  31.213174  121.423148   \n",
       "500008              12.0     快餐简餐  31.237286  121.501334   \n",
       "\n",
       "                                                geometry  \n",
       "business_id                                               \n",
       "500000       POINT (121.4859694378507 31.29027007137677)  \n",
       "500001       POINT (121.4451198540866 31.21044487104275)  \n",
       "500001       POINT (121.4451198540866 31.21044487104275)  \n",
       "500003       POINT (121.4231477606538 31.21317357030482)  \n",
       "500008        POINT (121.501334104979 31.23728587667836)  "
      ]
     },
     "execution_count": 14,
     "metadata": {},
     "output_type": "execute_result"
    }
   ],
   "source": [
    "gdf_poi.head()"
   ]
  },
  {
   "cell_type": "markdown",
   "metadata": {},
   "source": [
    "We quickly observe that some rows have duplicated business_id. It seems to be because a place can have different categories. "
   ]
  },
  {
   "cell_type": "markdown",
   "metadata": {},
   "source": [
    "Therefore I decided to create criteria by the most representative categories and some by removing the categories and the duplicated rows"
   ]
  },
  {
   "cell_type": "code",
   "execution_count": 15,
   "metadata": {},
   "outputs": [
    {
     "data": {
      "text/plain": [
       "Index(['name', 'branch_name', 'address', 'telephone', 'city', 'avg_rating',\n",
       "       'product_grade', 'decoration_grade', 'service_grade', 'product_score',\n",
       "       'decoration_score', 'service_score', 'review_count', 'avg_price',\n",
       "       'photo_count', 'category', 'latitude', 'longitude', 'geometry'],\n",
       "      dtype='object')"
      ]
     },
     "execution_count": 15,
     "metadata": {},
     "output_type": "execute_result"
    }
   ],
   "source": [
    "gdf_poi.columns"
   ]
  },
  {
   "cell_type": "code",
   "execution_count": 16,
   "metadata": {},
   "outputs": [
    {
     "name": "stderr",
     "output_type": "stream",
     "text": [
      "C:\\Users\\Roger\\Anaconda3\\lib\\site-packages\\ipykernel_launcher.py:2: SettingWithCopyWarning: \n",
      "A value is trying to be set on a copy of a slice from a DataFrame\n",
      "\n",
      "See the caveats in the documentation: http://pandas.pydata.org/pandas-docs/stable/user_guide/indexing.html#returning-a-view-versus-a-copy\n",
      "  \n",
      "C:\\Users\\Roger\\Anaconda3\\lib\\site-packages\\ipykernel_launcher.py:3: SettingWithCopyWarning: \n",
      "A value is trying to be set on a copy of a slice from a DataFrame\n",
      "\n",
      "See the caveats in the documentation: http://pandas.pydata.org/pandas-docs/stable/user_guide/indexing.html#returning-a-view-versus-a-copy\n",
      "  This is separate from the ipykernel package so we can avoid doing imports until\n",
      "C:\\Users\\Roger\\Anaconda3\\lib\\site-packages\\ipykernel_launcher.py:4: SettingWithCopyWarning: \n",
      "A value is trying to be set on a copy of a slice from a DataFrame\n",
      "\n",
      "See the caveats in the documentation: http://pandas.pydata.org/pandas-docs/stable/user_guide/indexing.html#returning-a-view-versus-a-copy\n",
      "  after removing the cwd from sys.path.\n",
      "C:\\Users\\Roger\\Anaconda3\\lib\\site-packages\\ipykernel_launcher.py:5: SettingWithCopyWarning: \n",
      "A value is trying to be set on a copy of a slice from a DataFrame\n",
      "\n",
      "See the caveats in the documentation: http://pandas.pydata.org/pandas-docs/stable/user_guide/indexing.html#returning-a-view-versus-a-copy\n",
      "  \"\"\"\n",
      "C:\\Users\\Roger\\Anaconda3\\lib\\site-packages\\ipykernel_launcher.py:6: SettingWithCopyWarning: \n",
      "A value is trying to be set on a copy of a slice from a DataFrame\n",
      "\n",
      "See the caveats in the documentation: http://pandas.pydata.org/pandas-docs/stable/user_guide/indexing.html#returning-a-view-versus-a-copy\n",
      "  \n",
      "C:\\Users\\Roger\\Anaconda3\\lib\\site-packages\\ipykernel_launcher.py:7: SettingWithCopyWarning: \n",
      "A value is trying to be set on a copy of a slice from a DataFrame\n",
      "\n",
      "See the caveats in the documentation: http://pandas.pydata.org/pandas-docs/stable/user_guide/indexing.html#returning-a-view-versus-a-copy\n",
      "  import sys\n",
      "C:\\Users\\Roger\\Anaconda3\\lib\\site-packages\\ipykernel_launcher.py:8: SettingWithCopyWarning: \n",
      "A value is trying to be set on a copy of a slice from a DataFrame\n",
      "\n",
      "See the caveats in the documentation: http://pandas.pydata.org/pandas-docs/stable/user_guide/indexing.html#returning-a-view-versus-a-copy\n",
      "  \n",
      "C:\\Users\\Roger\\Anaconda3\\lib\\site-packages\\ipykernel_launcher.py:9: SettingWithCopyWarning: \n",
      "A value is trying to be set on a copy of a slice from a DataFrame\n",
      "\n",
      "See the caveats in the documentation: http://pandas.pydata.org/pandas-docs/stable/user_guide/indexing.html#returning-a-view-versus-a-copy\n",
      "  if __name__ == '__main__':\n",
      "C:\\Users\\Roger\\Anaconda3\\lib\\site-packages\\ipykernel_launcher.py:10: SettingWithCopyWarning: \n",
      "A value is trying to be set on a copy of a slice from a DataFrame\n",
      "\n",
      "See the caveats in the documentation: http://pandas.pydata.org/pandas-docs/stable/user_guide/indexing.html#returning-a-view-versus-a-copy\n",
      "  # Remove the CWD from sys.path while we load stuff.\n",
      "C:\\Users\\Roger\\Anaconda3\\lib\\site-packages\\ipykernel_launcher.py:11: SettingWithCopyWarning: \n",
      "A value is trying to be set on a copy of a slice from a DataFrame\n",
      "\n",
      "See the caveats in the documentation: http://pandas.pydata.org/pandas-docs/stable/user_guide/indexing.html#returning-a-view-versus-a-copy\n",
      "  # This is added back by InteractiveShellApp.init_path()\n"
     ]
    }
   ],
   "source": [
    "gdf_poi['category_en'] = \"\"\n",
    "gdf_poi['category_en'][gdf_poi.category == '服饰鞋包'] = \"Clothing shoes and bags\"\n",
    "gdf_poi['category_en'][gdf_poi.category == '超市/便利店'] = \"Supermarket and Convenience Store\"\n",
    "gdf_poi['category_en'][gdf_poi.category == '食品茶酒'] = \"Food, Tea and Wine\"\n",
    "gdf_poi['category_en'][gdf_poi.category == '快餐简餐'] = \"Fast food\"\n",
    "gdf_poi['category_en'][gdf_poi.category == '小区'] = \"neighborhood\"\n",
    "gdf_poi['category_en'][gdf_poi.category == '美发'] = \"Hairdressing\"\n",
    "gdf_poi['category_en'][gdf_poi.category == '美容/SPA'] = \"Beauty and SPA\"\n",
    "gdf_poi['category_en'][gdf_poi.category == '培训'] = \"Training\"\n",
    "gdf_poi['category_en'][gdf_poi.category == '小吃'] = \"snack\"\n",
    "gdf_poi['category_en'][gdf_poi.category == '银行'] = \"bank\""
   ]
  },
  {
   "cell_type": "code",
   "execution_count": 17,
   "metadata": {},
   "outputs": [],
   "source": [
    "gdf_poi_cat = gdf_poi[gdf_poi.category_en != \"\"]"
   ]
  },
  {
   "cell_type": "code",
   "execution_count": 18,
   "metadata": {},
   "outputs": [],
   "source": [
    "gdf_poi = gdf_poi.drop(columns=['category','category_en'])"
   ]
  },
  {
   "cell_type": "code",
   "execution_count": 19,
   "metadata": {},
   "outputs": [
    {
     "name": "stdout",
     "output_type": "stream",
     "text": [
      "365916\n",
      "347458\n"
     ]
    }
   ],
   "source": [
    "print(len(gdf_poi))\n",
    "print(len(gdf_poi.drop_duplicates(keep = 'first', subset=gdf_poi.columns.difference(['geometry']))))"
   ]
  },
  {
   "cell_type": "code",
   "execution_count": 20,
   "metadata": {},
   "outputs": [],
   "source": [
    "gdf_poi = gdf_poi.drop_duplicates(keep = 'first', subset=gdf_poi.columns.difference(['geometry']))\n",
    "gdf_poi_cat = gdf_poi_cat.drop_duplicates(keep = 'first', subset=gdf_poi.columns.difference(['geometry']))"
   ]
  },
  {
   "cell_type": "code",
   "execution_count": null,
   "metadata": {},
   "outputs": [],
   "source": []
  },
  {
   "cell_type": "code",
   "execution_count": 21,
   "metadata": {},
   "outputs": [
    {
     "data": {
      "text/plain": [
       "Clothing shoes and bags              28700\n",
       "Supermarket and Convenience Store    18416\n",
       "Food, Tea and Wine                   16925\n",
       "Fast food                            11491\n",
       "neighborhood                          8862\n",
       "Beauty and SPA                        8018\n",
       "Hairdressing                          7736\n",
       "snack                                 7396\n",
       "Training                              7330\n",
       "bank                                  7249\n",
       "Name: category_en, dtype: int64"
      ]
     },
     "execution_count": 21,
     "metadata": {},
     "output_type": "execute_result"
    }
   ],
   "source": [
    "gdf_poi_cat.category_en.value_counts()"
   ]
  },
  {
   "cell_type": "code",
   "execution_count": 22,
   "metadata": {},
   "outputs": [],
   "source": [
    "from pyproj import Transformer\n",
    "\n",
    "transformer = Transformer.from_crs(\"EPSG:4326\", \"EPSG:4479\", always_xy=True)\n",
    "\n",
    "\n",
    "def getNewLongitude(xy):\n",
    "    return transformer.transform(xy[0], xy[1])[0]\n",
    "\n",
    "def getNewLatitude(xy):\n",
    "    return transformer.transform(xy[0], xy[1])[1]\n",
    "\n",
    "\n",
    "gdf_poi['longitude_m'] = gdf_poi[['longitude', 'latitude']].copy().apply(getNewLongitude, axis=1)\n",
    "gdf_poi['latitude_m'] = gdf_poi[['longitude', 'latitude']].copy().apply(getNewLatitude, axis=1)\n",
    "\n",
    "gdf_poi_cat['longitude_m'] = gdf_poi_cat[['longitude', 'latitude']].copy().apply(getNewLongitude, axis=1)\n",
    "gdf_poi_cat['latitude_m'] = gdf_poi_cat[['longitude', 'latitude']].copy().apply(getNewLatitude, axis=1)"
   ]
  },
  {
   "cell_type": "code",
   "execution_count": null,
   "metadata": {},
   "outputs": [],
   "source": []
  },
  {
   "cell_type": "code",
   "execution_count": 23,
   "metadata": {},
   "outputs": [],
   "source": [
    "gdf_poi = gdf_poi[['avg_rating','avg_price','product_score','decoration_score','service_score','review_count','photo_count','longitude','latitude','longitude_m','latitude_m']]\n",
    "gdf_poi_cat = gdf_poi_cat[['avg_rating','avg_price','product_score','decoration_score','service_score','review_count','photo_count','category','category_en','longitude','latitude','longitude_m','latitude_m']]"
   ]
  },
  {
   "cell_type": "code",
   "execution_count": 24,
   "metadata": {},
   "outputs": [],
   "source": [
    "gdf_poi = gpd.GeoDataFrame(gdf_poi, geometry = [Point(x,y) for x,y in zip(gdf_poi.longitude_m, gdf_poi.latitude_m)])\n",
    "gdf_poi.crs = {'init': 'epsg:4479'} #china metric projection\n",
    "gdf_poi_cat = gpd.GeoDataFrame(gdf_poi_cat, geometry = [Point(x,y) for x,y in zip(gdf_poi_cat.longitude_m, gdf_poi_cat.latitude_m)])\n",
    "gdf_poi_cat.crs = {'init': 'epsg:4479'} #china metric projection"
   ]
  },
  {
   "cell_type": "code",
   "execution_count": 25,
   "metadata": {},
   "outputs": [],
   "source": [
    "gdf_poi.to_pickle('../clean_pickles/dianping_poi.pk')\n",
    "gdf_poi_cat.to_pickle('../clean_pickles/dianping_poi_cat.pk')"
   ]
  },
  {
   "cell_type": "code",
   "execution_count": null,
   "metadata": {},
   "outputs": [],
   "source": []
  },
  {
   "cell_type": "code",
   "execution_count": 26,
   "metadata": {},
   "outputs": [],
   "source": [
    "gdf_poi = pd.read_pickle('../clean_pickles/dianping_poi.pk')\n",
    "gdf_poi_cat = pd.read_pickle('../clean_pickles/dianping_poi_cat.pk')"
   ]
  },
  {
   "cell_type": "code",
   "execution_count": null,
   "metadata": {},
   "outputs": [],
   "source": []
  },
  {
   "cell_type": "code",
   "execution_count": 27,
   "metadata": {},
   "outputs": [],
   "source": [
    "gdf_target = pd.read_pickle('../clean_pickles/target.pk')"
   ]
  },
  {
   "cell_type": "code",
   "execution_count": 28,
   "metadata": {},
   "outputs": [
    {
     "data": {
      "text/plain": [
       "geopandas.geodataframe.GeoDataFrame"
      ]
     },
     "execution_count": 28,
     "metadata": {},
     "output_type": "execute_result"
    }
   ],
   "source": [
    "type(gdf_target)"
   ]
  },
  {
   "cell_type": "code",
   "execution_count": 29,
   "metadata": {},
   "outputs": [
    {
     "data": {
      "text/plain": [
       "{'init': 'epsg:4479'}"
      ]
     },
     "execution_count": 29,
     "metadata": {},
     "output_type": "execute_result"
    }
   ],
   "source": [
    "gdf_target.crs"
   ]
  },
  {
   "cell_type": "code",
   "execution_count": 30,
   "metadata": {},
   "outputs": [],
   "source": [
    "#gdf_target = gpd.GeoDataFrame(df_target, geometry = 'geometry')\n",
    "#gdf_target.crs = {'init': 'epsg:4479'} #china metric projection"
   ]
  },
  {
   "cell_type": "code",
   "execution_count": 31,
   "metadata": {},
   "outputs": [
    {
     "data": {
      "text/plain": [
       "<matplotlib.axes._subplots.AxesSubplot at 0x25df7ecfa58>"
      ]
     },
     "execution_count": 31,
     "metadata": {},
     "output_type": "execute_result"
    },
    {
     "data": {
      "image/png": "[encoded data removed]",
      "text/plain": [
       "<Figure size 864x432 with 1 Axes>"
      ]
     },
     "metadata": {
      "needs_background": "light"
     },
     "output_type": "display_data"
    }
   ],
   "source": [
    "gdf_poi_cat.category_en.hist(figsize=(12,6))"
   ]
  },
  {
   "cell_type": "code",
   "execution_count": 32,
   "metadata": {},
   "outputs": [
    {
     "data": {
      "text/plain": [
       "Clothing shoes and bags              28700\n",
       "Supermarket and Convenience Store    18416\n",
       "Food, Tea and Wine                   16925\n",
       "Fast food                            11491\n",
       "neighborhood                          8862\n",
       "Beauty and SPA                        8018\n",
       "Hairdressing                          7736\n",
       "snack                                 7396\n",
       "Training                              7330\n",
       "bank                                  7249\n",
       "Name: category_en, dtype: int64"
      ]
     },
     "execution_count": 32,
     "metadata": {},
     "output_type": "execute_result"
    }
   ],
   "source": [
    "# Get the name of the categorie and their occurence\n",
    "nameCat = gdf_poi_cat.category_en.value_counts()\n",
    "nameCat"
   ]
  },
  {
   "cell_type": "code",
   "execution_count": 33,
   "metadata": {},
   "outputs": [
    {
     "name": "stdout",
     "output_type": "stream",
     "text": [
      "Starting time: 2020-01-05 23:54:54.154677\n",
      "bank\n",
      "Running time: 0:18:07.334837\n"
     ]
    }
   ],
   "source": [
    "#need ? to run\n",
    "time = ManagingTime()\n",
    "time.displayStartTime()\n",
    "\n",
    "area_buffer = gdf_target['surface_buffer'].iloc[0].area\n",
    "nameCat = gdf_poi_cat.category_en.value_counts()\n",
    "for indexCat, valueCat in nameCat.items():\n",
    "    clear_output()\n",
    "    time.displayStartTime()\n",
    "    print(indexCat)\n",
    "    nameColumns = 'nb_' + indexCat.replace(' ', '_').lower() + '_dianping'\n",
    "    gdf_poi_onecat = gdf_poi_cat[gdf_poi_cat.category_en == indexCat].copy()    \n",
    "    gdf_target[nameColumns] = np.nan\n",
    "    \n",
    "    for index,value in gdf_target.iterrows():\n",
    "        gdf_target[nameColumns].loc[index] = len(gdf_poi_onecat.loc[gdf_poi_onecat.within(value.surface_buffer)]) / area_buffer\n",
    "\n",
    "    gdf_target.to_pickle('../clean_pickles/target_dianping_poi_cat.pk')\n",
    "\n",
    "time.displayRunningTime()"
   ]
  },
  {
   "cell_type": "code",
   "execution_count": 34,
   "metadata": {},
   "outputs": [
    {
     "data": {
      "text/html": [
       "<div>\n",
       "<style scoped>\n",
       "    .dataframe tbody tr th:only-of-type {\n",
       "        vertical-align: middle;\n",
       "    }\n",
       "\n",
       "    .dataframe tbody tr th {\n",
       "        vertical-align: top;\n",
       "    }\n",
       "\n",
       "    .dataframe thead th {\n",
       "        text-align: right;\n",
       "    }\n",
       "</style>\n",
       "<table border=\"1\" class=\"dataframe\">\n",
       "  <thead>\n",
       "    <tr style=\"text-align: right;\">\n",
       "      <th></th>\n",
       "      <th>clean</th>\n",
       "      <th>smell</th>\n",
       "      <th>noise</th>\n",
       "      <th>longitude</th>\n",
       "      <th>latitude</th>\n",
       "      <th>geometry</th>\n",
       "      <th>longitude_m</th>\n",
       "      <th>latitude_m</th>\n",
       "      <th>surface_buffer</th>\n",
       "      <th>nb_clothing_shoes_and_bags_dianping</th>\n",
       "      <th>nb_supermarket_and_convenience_store_dianping</th>\n",
       "      <th>nb_food,_tea_and_wine_dianping</th>\n",
       "      <th>nb_fast_food_dianping</th>\n",
       "      <th>nb_neighborhood_dianping</th>\n",
       "      <th>nb_beauty_and_spa_dianping</th>\n",
       "      <th>nb_hairdressing_dianping</th>\n",
       "      <th>nb_snack_dianping</th>\n",
       "      <th>nb_training_dianping</th>\n",
       "      <th>nb_bank_dianping</th>\n",
       "    </tr>\n",
       "  </thead>\n",
       "  <tbody>\n",
       "    <tr>\n",
       "      <th>0</th>\n",
       "      <td>3</td>\n",
       "      <td>0.0</td>\n",
       "      <td>0.0</td>\n",
       "      <td>121.104287</td>\n",
       "      <td>31.155882</td>\n",
       "      <td>POINT (-2822207.586532274 4677635.626522204)</td>\n",
       "      <td>-2.822208e+06</td>\n",
       "      <td>4.677636e+06</td>\n",
       "      <td>POLYGON ((-2821707.586532274 4677635.626522204...</td>\n",
       "      <td>0.000037</td>\n",
       "      <td>0.000028</td>\n",
       "      <td>0.000026</td>\n",
       "      <td>0.000013</td>\n",
       "      <td>0.000003</td>\n",
       "      <td>0.000009</td>\n",
       "      <td>0.000017</td>\n",
       "      <td>0.000014</td>\n",
       "      <td>0.000001</td>\n",
       "      <td>0.000009</td>\n",
       "    </tr>\n",
       "    <tr>\n",
       "      <th>1</th>\n",
       "      <td>3</td>\n",
       "      <td>1.0</td>\n",
       "      <td>0.0</td>\n",
       "      <td>121.351529</td>\n",
       "      <td>31.144327</td>\n",
       "      <td>POINT (-2842710.938446562 4665979.72602233)</td>\n",
       "      <td>-2.842711e+06</td>\n",
       "      <td>4.665980e+06</td>\n",
       "      <td>POLYGON ((-2842210.938446562 4665979.72602233,...</td>\n",
       "      <td>0.000008</td>\n",
       "      <td>0.000037</td>\n",
       "      <td>0.000054</td>\n",
       "      <td>0.000015</td>\n",
       "      <td>0.000022</td>\n",
       "      <td>0.000013</td>\n",
       "      <td>0.000009</td>\n",
       "      <td>0.000019</td>\n",
       "      <td>0.000011</td>\n",
       "      <td>0.000004</td>\n",
       "    </tr>\n",
       "    <tr>\n",
       "      <th>2</th>\n",
       "      <td>2</td>\n",
       "      <td>0.0</td>\n",
       "      <td>0.0</td>\n",
       "      <td>121.468520</td>\n",
       "      <td>31.042285</td>\n",
       "      <td>POINT (-2855282.42475198 4665148.863744967)</td>\n",
       "      <td>-2.855282e+06</td>\n",
       "      <td>4.665149e+06</td>\n",
       "      <td>POLYGON ((-2854782.42475198 4665148.863744967,...</td>\n",
       "      <td>0.000004</td>\n",
       "      <td>0.000024</td>\n",
       "      <td>0.000018</td>\n",
       "      <td>0.000008</td>\n",
       "      <td>0.000010</td>\n",
       "      <td>0.000005</td>\n",
       "      <td>0.000009</td>\n",
       "      <td>0.000003</td>\n",
       "      <td>0.000000</td>\n",
       "      <td>0.000004</td>\n",
       "    </tr>\n",
       "    <tr>\n",
       "      <th>3</th>\n",
       "      <td>3</td>\n",
       "      <td>0.0</td>\n",
       "      <td>0.0</td>\n",
       "      <td>121.367237</td>\n",
       "      <td>31.240725</td>\n",
       "      <td>POINT (-2841108.748930959 4660473.749148724)</td>\n",
       "      <td>-2.841109e+06</td>\n",
       "      <td>4.660474e+06</td>\n",
       "      <td>POLYGON ((-2840608.748930959 4660473.749148724...</td>\n",
       "      <td>0.000014</td>\n",
       "      <td>0.000027</td>\n",
       "      <td>0.000029</td>\n",
       "      <td>0.000006</td>\n",
       "      <td>0.000022</td>\n",
       "      <td>0.000020</td>\n",
       "      <td>0.000015</td>\n",
       "      <td>0.000005</td>\n",
       "      <td>0.000009</td>\n",
       "      <td>0.000015</td>\n",
       "    </tr>\n",
       "    <tr>\n",
       "      <th>4</th>\n",
       "      <td>2</td>\n",
       "      <td>NaN</td>\n",
       "      <td>0.0</td>\n",
       "      <td>121.403601</td>\n",
       "      <td>31.269155</td>\n",
       "      <td>POINT (-2843213.856075277 4657273.732656028)</td>\n",
       "      <td>-2.843214e+06</td>\n",
       "      <td>4.657274e+06</td>\n",
       "      <td>POLYGON ((-2842713.856075277 4657273.732656028...</td>\n",
       "      <td>0.000108</td>\n",
       "      <td>0.000019</td>\n",
       "      <td>0.000059</td>\n",
       "      <td>0.000018</td>\n",
       "      <td>0.000022</td>\n",
       "      <td>0.000028</td>\n",
       "      <td>0.000019</td>\n",
       "      <td>0.000009</td>\n",
       "      <td>0.000020</td>\n",
       "      <td>0.000017</td>\n",
       "    </tr>\n",
       "  </tbody>\n",
       "</table>\n",
       "</div>"
      ],
      "text/plain": [
       "   clean  smell  noise   longitude   latitude  \\\n",
       "0      3    0.0    0.0  121.104287  31.155882   \n",
       "1      3    1.0    0.0  121.351529  31.144327   \n",
       "2      2    0.0    0.0  121.468520  31.042285   \n",
       "3      3    0.0    0.0  121.367237  31.240725   \n",
       "4      2    NaN    0.0  121.403601  31.269155   \n",
       "\n",
       "                                       geometry   longitude_m    latitude_m  \\\n",
       "0  POINT (-2822207.586532274 4677635.626522204) -2.822208e+06  4.677636e+06   \n",
       "1   POINT (-2842710.938446562 4665979.72602233) -2.842711e+06  4.665980e+06   \n",
       "2   POINT (-2855282.42475198 4665148.863744967) -2.855282e+06  4.665149e+06   \n",
       "3  POINT (-2841108.748930959 4660473.749148724) -2.841109e+06  4.660474e+06   \n",
       "4  POINT (-2843213.856075277 4657273.732656028) -2.843214e+06  4.657274e+06   \n",
       "\n",
       "                                      surface_buffer  \\\n",
       "0  POLYGON ((-2821707.586532274 4677635.626522204...   \n",
       "1  POLYGON ((-2842210.938446562 4665979.72602233,...   \n",
       "2  POLYGON ((-2854782.42475198 4665148.863744967,...   \n",
       "3  POLYGON ((-2840608.748930959 4660473.749148724...   \n",
       "4  POLYGON ((-2842713.856075277 4657273.732656028...   \n",
       "\n",
       "   nb_clothing_shoes_and_bags_dianping  \\\n",
       "0                             0.000037   \n",
       "1                             0.000008   \n",
       "2                             0.000004   \n",
       "3                             0.000014   \n",
       "4                             0.000108   \n",
       "\n",
       "   nb_supermarket_and_convenience_store_dianping  \\\n",
       "0                                       0.000028   \n",
       "1                                       0.000037   \n",
       "2                                       0.000024   \n",
       "3                                       0.000027   \n",
       "4                                       0.000019   \n",
       "\n",
       "   nb_food,_tea_and_wine_dianping  nb_fast_food_dianping  \\\n",
       "0                        0.000026               0.000013   \n",
       "1                        0.000054               0.000015   \n",
       "2                        0.000018               0.000008   \n",
       "3                        0.000029               0.000006   \n",
       "4                        0.000059               0.000018   \n",
       "\n",
       "   nb_neighborhood_dianping  nb_beauty_and_spa_dianping  \\\n",
       "0                  0.000003                    0.000009   \n",
       "1                  0.000022                    0.000013   \n",
       "2                  0.000010                    0.000005   \n",
       "3                  0.000022                    0.000020   \n",
       "4                  0.000022                    0.000028   \n",
       "\n",
       "   nb_hairdressing_dianping  nb_snack_dianping  nb_training_dianping  \\\n",
       "0                  0.000017           0.000014              0.000001   \n",
       "1                  0.000009           0.000019              0.000011   \n",
       "2                  0.000009           0.000003              0.000000   \n",
       "3                  0.000015           0.000005              0.000009   \n",
       "4                  0.000019           0.000009              0.000020   \n",
       "\n",
       "   nb_bank_dianping  \n",
       "0          0.000009  \n",
       "1          0.000004  \n",
       "2          0.000004  \n",
       "3          0.000015  \n",
       "4          0.000017  "
      ]
     },
     "execution_count": 34,
     "metadata": {},
     "output_type": "execute_result"
    }
   ],
   "source": [
    "gdf_target.head()"
   ]
  },
  {
   "cell_type": "code",
   "execution_count": 35,
   "metadata": {},
   "outputs": [
    {
     "data": {
      "text/plain": [
       "Index(['avg_rating', 'avg_price', 'product_score', 'decoration_score',\n",
       "       'service_score', 'review_count', 'photo_count', 'longitude', 'latitude',\n",
       "       'longitude_m', 'latitude_m', 'geometry'],\n",
       "      dtype='object')"
      ]
     },
     "execution_count": 35,
     "metadata": {},
     "output_type": "execute_result"
    }
   ],
   "source": [
    "gdf_poi.columns"
   ]
  },
  {
   "cell_type": "code",
   "execution_count": 36,
   "metadata": {},
   "outputs": [
    {
     "data": {
      "text/html": [
       "<div>\n",
       "<style scoped>\n",
       "    .dataframe tbody tr th:only-of-type {\n",
       "        vertical-align: middle;\n",
       "    }\n",
       "\n",
       "    .dataframe tbody tr th {\n",
       "        vertical-align: top;\n",
       "    }\n",
       "\n",
       "    .dataframe thead th {\n",
       "        text-align: right;\n",
       "    }\n",
       "</style>\n",
       "<table border=\"1\" class=\"dataframe\">\n",
       "  <thead>\n",
       "    <tr style=\"text-align: right;\">\n",
       "      <th></th>\n",
       "      <th>avg_rating</th>\n",
       "      <th>avg_price</th>\n",
       "      <th>product_score</th>\n",
       "      <th>decoration_score</th>\n",
       "      <th>service_score</th>\n",
       "      <th>review_count</th>\n",
       "      <th>photo_count</th>\n",
       "      <th>longitude</th>\n",
       "      <th>latitude</th>\n",
       "      <th>longitude_m</th>\n",
       "      <th>latitude_m</th>\n",
       "    </tr>\n",
       "  </thead>\n",
       "  <tbody>\n",
       "    <tr>\n",
       "      <th>count</th>\n",
       "      <td>347458.000000</td>\n",
       "      <td>347458.000000</td>\n",
       "      <td>347458.000000</td>\n",
       "      <td>347458.000000</td>\n",
       "      <td>347458.000000</td>\n",
       "      <td>347458.000000</td>\n",
       "      <td>347458.000000</td>\n",
       "      <td>347458.000000</td>\n",
       "      <td>347458.000000</td>\n",
       "      <td>3.474580e+05</td>\n",
       "      <td>3.474580e+05</td>\n",
       "    </tr>\n",
       "    <tr>\n",
       "      <th>mean</th>\n",
       "      <td>13.193551</td>\n",
       "      <td>140.783882</td>\n",
       "      <td>1.905123</td>\n",
       "      <td>1.924428</td>\n",
       "      <td>1.923301</td>\n",
       "      <td>31.851709</td>\n",
       "      <td>28.965956</td>\n",
       "      <td>121.445299</td>\n",
       "      <td>31.207987</td>\n",
       "      <td>-2.848426e+06</td>\n",
       "      <td>4.658187e+06</td>\n",
       "    </tr>\n",
       "    <tr>\n",
       "      <th>std</th>\n",
       "      <td>16.392759</td>\n",
       "      <td>3159.782369</td>\n",
       "      <td>3.154232</td>\n",
       "      <td>3.183711</td>\n",
       "      <td>3.182305</td>\n",
       "      <td>271.425080</td>\n",
       "      <td>214.653572</td>\n",
       "      <td>0.111979</td>\n",
       "      <td>0.108246</td>\n",
       "      <td>9.302628e+03</td>\n",
       "      <td>8.121473e+03</td>\n",
       "    </tr>\n",
       "    <tr>\n",
       "      <th>min</th>\n",
       "      <td>0.000000</td>\n",
       "      <td>0.000000</td>\n",
       "      <td>0.000000</td>\n",
       "      <td>0.000000</td>\n",
       "      <td>0.000000</td>\n",
       "      <td>0.000000</td>\n",
       "      <td>0.000000</td>\n",
       "      <td>120.882711</td>\n",
       "      <td>30.703728</td>\n",
       "      <td>-2.900624e+06</td>\n",
       "      <td>4.617858e+06</td>\n",
       "    </tr>\n",
       "    <tr>\n",
       "      <th>25%</th>\n",
       "      <td>0.000000</td>\n",
       "      <td>0.000000</td>\n",
       "      <td>0.000000</td>\n",
       "      <td>0.000000</td>\n",
       "      <td>0.000000</td>\n",
       "      <td>0.000000</td>\n",
       "      <td>1.000000</td>\n",
       "      <td>121.394044</td>\n",
       "      <td>31.167208</td>\n",
       "      <td>-2.852428e+06</td>\n",
       "      <td>4.653259e+06</td>\n",
       "    </tr>\n",
       "    <tr>\n",
       "      <th>50%</th>\n",
       "      <td>0.000000</td>\n",
       "      <td>0.000000</td>\n",
       "      <td>0.000000</td>\n",
       "      <td>0.000000</td>\n",
       "      <td>0.000000</td>\n",
       "      <td>0.000000</td>\n",
       "      <td>4.000000</td>\n",
       "      <td>121.447631</td>\n",
       "      <td>31.223326</td>\n",
       "      <td>-2.848281e+06</td>\n",
       "      <td>4.656955e+06</td>\n",
       "    </tr>\n",
       "    <tr>\n",
       "      <th>75%</th>\n",
       "      <td>30.000000</td>\n",
       "      <td>0.000000</td>\n",
       "      <td>6.400000</td>\n",
       "      <td>6.500000</td>\n",
       "      <td>6.500000</td>\n",
       "      <td>4.000000</td>\n",
       "      <td>6.000000</td>\n",
       "      <td>121.500008</td>\n",
       "      <td>31.265774</td>\n",
       "      <td>-2.844361e+06</td>\n",
       "      <td>4.661401e+06</td>\n",
       "    </tr>\n",
       "    <tr>\n",
       "      <th>max</th>\n",
       "      <td>50.000000</td>\n",
       "      <td>504020.000000</td>\n",
       "      <td>9.500000</td>\n",
       "      <td>9.500000</td>\n",
       "      <td>9.500000</td>\n",
       "      <td>32767.000000</td>\n",
       "      <td>32767.000000</td>\n",
       "      <td>121.968187</td>\n",
       "      <td>31.819730</td>\n",
       "      <td>-2.804953e+06</td>\n",
       "      <td>4.696763e+06</td>\n",
       "    </tr>\n",
       "  </tbody>\n",
       "</table>\n",
       "</div>"
      ],
      "text/plain": [
       "          avg_rating      avg_price  product_score  decoration_score  \\\n",
       "count  347458.000000  347458.000000  347458.000000     347458.000000   \n",
       "mean       13.193551     140.783882       1.905123          1.924428   \n",
       "std        16.392759    3159.782369       3.154232          3.183711   \n",
       "min         0.000000       0.000000       0.000000          0.000000   \n",
       "25%         0.000000       0.000000       0.000000          0.000000   \n",
       "50%         0.000000       0.000000       0.000000          0.000000   \n",
       "75%        30.000000       0.000000       6.400000          6.500000   \n",
       "max        50.000000  504020.000000       9.500000          9.500000   \n",
       "\n",
       "       service_score   review_count    photo_count      longitude  \\\n",
       "count  347458.000000  347458.000000  347458.000000  347458.000000   \n",
       "mean        1.923301      31.851709      28.965956     121.445299   \n",
       "std         3.182305     271.425080     214.653572       0.111979   \n",
       "min         0.000000       0.000000       0.000000     120.882711   \n",
       "25%         0.000000       0.000000       1.000000     121.394044   \n",
       "50%         0.000000       0.000000       4.000000     121.447631   \n",
       "75%         6.500000       4.000000       6.000000     121.500008   \n",
       "max         9.500000   32767.000000   32767.000000     121.968187   \n",
       "\n",
       "            latitude   longitude_m    latitude_m  \n",
       "count  347458.000000  3.474580e+05  3.474580e+05  \n",
       "mean       31.207987 -2.848426e+06  4.658187e+06  \n",
       "std         0.108246  9.302628e+03  8.121473e+03  \n",
       "min        30.703728 -2.900624e+06  4.617858e+06  \n",
       "25%        31.167208 -2.852428e+06  4.653259e+06  \n",
       "50%        31.223326 -2.848281e+06  4.656955e+06  \n",
       "75%        31.265774 -2.844361e+06  4.661401e+06  \n",
       "max        31.819730 -2.804953e+06  4.696763e+06  "
      ]
     },
     "execution_count": 36,
     "metadata": {},
     "output_type": "execute_result"
    }
   ],
   "source": [
    "gdf_poi.describe()"
   ]
  },
  {
   "cell_type": "code",
   "execution_count": 37,
   "metadata": {},
   "outputs": [],
   "source": [
    "gdf_target = pd.read_pickle('../clean_pickles/target.pk')"
   ]
  },
  {
   "cell_type": "code",
   "execution_count": 38,
   "metadata": {},
   "outputs": [
    {
     "name": "stdout",
     "output_type": "stream",
     "text": [
      "Starting time: 2020-01-06 00:13:02.778989\n",
      "466\n",
      "Ending time: 2020-01-06 01:02:07.286095\n",
      "Running time: 0:49:04.507106\n"
     ]
    }
   ],
   "source": [
    "#need 22:46 to run\n",
    "time = ManagingTime()\n",
    "time.displayStartTime()\n",
    "\n",
    "area_buffer = gdf_target['surface_buffer'].iloc[0].area\n",
    "gdf_target['nb_poi_dianping'] = np.nan\n",
    "gdf_target['av_rating_dianping'] = np.nan\n",
    "gdf_target['av_price_dianping'] = np.nan\n",
    "gdf_target['av_photo_count_dianping'] = np.nan\n",
    "gdf_target['av_decoration_score_dianping'] = np.nan\n",
    "gdf_target['av_product_score_dianping'] = np.nan\n",
    "gdf_target['av_service_score_dianping'] = np.nan\n",
    "gdf_target['av_review_count_dianping'] = np.nan\n",
    "for index,value in gdf_target.iterrows():\n",
    "    clear_output()\n",
    "    time.displayStartTime()\n",
    "    print(index)\n",
    "    gdf_poi_temp = gdf_poi.loc[gdf_poi.within(value.surface_buffer)]\n",
    "    gdf_target['nb_poi_dianping'].loc[index] = len(gdf_poi_temp) / area_buffer\n",
    "    gdf_target['av_rating_dianping'].loc[index] = gdf_poi_temp['avg_rating'][gdf_poi_temp['avg_rating'] != 0].mean()\n",
    "    gdf_target['av_price_dianping'].loc[index] = gdf_poi_temp['avg_price'][gdf_poi_temp['avg_price'] != 0].mean()\n",
    "    gdf_target['av_photo_count_dianping'].loc[index] = gdf_poi_temp['photo_count'][gdf_poi_temp['photo_count'] != 0].mean()\n",
    "    gdf_target['av_decoration_score_dianping'].loc[index] = gdf_poi_temp['decoration_score'][gdf_poi_temp['decoration_score'] != 0].mean()\n",
    "    gdf_target['av_product_score_dianping'].loc[index] = gdf_poi_temp['product_score'][gdf_poi_temp['product_score'] != 0].mean()\n",
    "    gdf_target['av_service_score_dianping'].loc[index] = gdf_poi_temp['service_score'][gdf_poi_temp['service_score'] != 0].mean()\n",
    "    gdf_target['av_review_count_dianping'].loc[index] = gdf_poi_temp['review_count'][gdf_poi_temp['review_count'] != 0].mean()\n",
    "\n",
    "gdf_target.to_pickle('../clean_pickles/target_dianping_poi.pk')\n",
    "\n",
    "time.displayEndTime()\n",
    "time.displayRunningTime()"
   ]
  },
  {
   "cell_type": "code",
   "execution_count": null,
   "metadata": {},
   "outputs": [],
   "source": []
  },
  {
   "cell_type": "code",
   "execution_count": 39,
   "metadata": {},
   "outputs": [
    {
     "data": {
      "text/html": [
       "<div>\n",
       "<style scoped>\n",
       "    .dataframe tbody tr th:only-of-type {\n",
       "        vertical-align: middle;\n",
       "    }\n",
       "\n",
       "    .dataframe tbody tr th {\n",
       "        vertical-align: top;\n",
       "    }\n",
       "\n",
       "    .dataframe thead th {\n",
       "        text-align: right;\n",
       "    }\n",
       "</style>\n",
       "<table border=\"1\" class=\"dataframe\">\n",
       "  <thead>\n",
       "    <tr style=\"text-align: right;\">\n",
       "      <th></th>\n",
       "      <th>clean</th>\n",
       "      <th>smell</th>\n",
       "      <th>noise</th>\n",
       "      <th>longitude</th>\n",
       "      <th>latitude</th>\n",
       "      <th>geometry</th>\n",
       "      <th>longitude_m</th>\n",
       "      <th>latitude_m</th>\n",
       "      <th>surface_buffer</th>\n",
       "      <th>nb_poi_dianping</th>\n",
       "      <th>av_rating_dianping</th>\n",
       "      <th>av_price_dianping</th>\n",
       "      <th>av_photo_count_dianping</th>\n",
       "      <th>av_decoration_score_dianping</th>\n",
       "      <th>av_product_score_dianping</th>\n",
       "      <th>av_service_score_dianping</th>\n",
       "      <th>av_review_count_dianping</th>\n",
       "    </tr>\n",
       "  </thead>\n",
       "  <tbody>\n",
       "    <tr>\n",
       "      <th>0</th>\n",
       "      <td>3</td>\n",
       "      <td>0.0</td>\n",
       "      <td>0.0</td>\n",
       "      <td>121.104287</td>\n",
       "      <td>31.155882</td>\n",
       "      <td>POINT (-2822207.586532274 4677635.626522204)</td>\n",
       "      <td>-2.822208e+06</td>\n",
       "      <td>4.677636e+06</td>\n",
       "      <td>POLYGON ((-2821707.586532274 4677635.626522204...</td>\n",
       "      <td>0.000474</td>\n",
       "      <td>32.643312</td>\n",
       "      <td>82.097561</td>\n",
       "      <td>10.268041</td>\n",
       "      <td>7.100781</td>\n",
       "      <td>6.937500</td>\n",
       "      <td>7.057812</td>\n",
       "      <td>13.962567</td>\n",
       "    </tr>\n",
       "    <tr>\n",
       "      <th>1</th>\n",
       "      <td>3</td>\n",
       "      <td>1.0</td>\n",
       "      <td>0.0</td>\n",
       "      <td>121.351529</td>\n",
       "      <td>31.144327</td>\n",
       "      <td>POINT (-2842710.938446562 4665979.72602233)</td>\n",
       "      <td>-2.842711e+06</td>\n",
       "      <td>4.665980e+06</td>\n",
       "      <td>POLYGON ((-2842210.938446562 4665979.72602233,...</td>\n",
       "      <td>0.000550</td>\n",
       "      <td>32.103175</td>\n",
       "      <td>98.093023</td>\n",
       "      <td>12.203947</td>\n",
       "      <td>7.052500</td>\n",
       "      <td>6.903750</td>\n",
       "      <td>7.005000</td>\n",
       "      <td>16.616883</td>\n",
       "    </tr>\n",
       "    <tr>\n",
       "      <th>2</th>\n",
       "      <td>2</td>\n",
       "      <td>0.0</td>\n",
       "      <td>0.0</td>\n",
       "      <td>121.468520</td>\n",
       "      <td>31.042285</td>\n",
       "      <td>POINT (-2855282.42475198 4665148.863744967)</td>\n",
       "      <td>-2.855282e+06</td>\n",
       "      <td>4.665149e+06</td>\n",
       "      <td>POLYGON ((-2854782.42475198 4665148.863744967,...</td>\n",
       "      <td>0.000214</td>\n",
       "      <td>32.083333</td>\n",
       "      <td>102.571429</td>\n",
       "      <td>6.105263</td>\n",
       "      <td>6.924000</td>\n",
       "      <td>6.856000</td>\n",
       "      <td>6.924000</td>\n",
       "      <td>5.187500</td>\n",
       "    </tr>\n",
       "    <tr>\n",
       "      <th>3</th>\n",
       "      <td>3</td>\n",
       "      <td>0.0</td>\n",
       "      <td>0.0</td>\n",
       "      <td>121.367237</td>\n",
       "      <td>31.240725</td>\n",
       "      <td>POINT (-2841108.748930959 4660473.749148724)</td>\n",
       "      <td>-2.841109e+06</td>\n",
       "      <td>4.660474e+06</td>\n",
       "      <td>POLYGON ((-2840608.748930959 4660473.749148724...</td>\n",
       "      <td>0.000446</td>\n",
       "      <td>32.681818</td>\n",
       "      <td>8679.658537</td>\n",
       "      <td>19.344444</td>\n",
       "      <td>7.129508</td>\n",
       "      <td>7.039344</td>\n",
       "      <td>7.096721</td>\n",
       "      <td>31.567568</td>\n",
       "    </tr>\n",
       "    <tr>\n",
       "      <th>4</th>\n",
       "      <td>2</td>\n",
       "      <td>NaN</td>\n",
       "      <td>0.0</td>\n",
       "      <td>121.403601</td>\n",
       "      <td>31.269155</td>\n",
       "      <td>POINT (-2843213.856075277 4657273.732656028)</td>\n",
       "      <td>-2.843214e+06</td>\n",
       "      <td>4.657274e+06</td>\n",
       "      <td>POLYGON ((-2842713.856075277 4657273.732656028...</td>\n",
       "      <td>0.000792</td>\n",
       "      <td>33.696275</td>\n",
       "      <td>316.924138</td>\n",
       "      <td>37.509506</td>\n",
       "      <td>7.242742</td>\n",
       "      <td>7.155242</td>\n",
       "      <td>7.237500</td>\n",
       "      <td>67.919799</td>\n",
       "    </tr>\n",
       "  </tbody>\n",
       "</table>\n",
       "</div>"
      ],
      "text/plain": [
       "   clean  smell  noise   longitude   latitude  \\\n",
       "0      3    0.0    0.0  121.104287  31.155882   \n",
       "1      3    1.0    0.0  121.351529  31.144327   \n",
       "2      2    0.0    0.0  121.468520  31.042285   \n",
       "3      3    0.0    0.0  121.367237  31.240725   \n",
       "4      2    NaN    0.0  121.403601  31.269155   \n",
       "\n",
       "                                       geometry   longitude_m    latitude_m  \\\n",
       "0  POINT (-2822207.586532274 4677635.626522204) -2.822208e+06  4.677636e+06   \n",
       "1   POINT (-2842710.938446562 4665979.72602233) -2.842711e+06  4.665980e+06   \n",
       "2   POINT (-2855282.42475198 4665148.863744967) -2.855282e+06  4.665149e+06   \n",
       "3  POINT (-2841108.748930959 4660473.749148724) -2.841109e+06  4.660474e+06   \n",
       "4  POINT (-2843213.856075277 4657273.732656028) -2.843214e+06  4.657274e+06   \n",
       "\n",
       "                                      surface_buffer  nb_poi_dianping  \\\n",
       "0  POLYGON ((-2821707.586532274 4677635.626522204...         0.000474   \n",
       "1  POLYGON ((-2842210.938446562 4665979.72602233,...         0.000550   \n",
       "2  POLYGON ((-2854782.42475198 4665148.863744967,...         0.000214   \n",
       "3  POLYGON ((-2840608.748930959 4660473.749148724...         0.000446   \n",
       "4  POLYGON ((-2842713.856075277 4657273.732656028...         0.000792   \n",
       "\n",
       "   av_rating_dianping  av_price_dianping  av_photo_count_dianping  \\\n",
       "0           32.643312          82.097561                10.268041   \n",
       "1           32.103175          98.093023                12.203947   \n",
       "2           32.083333         102.571429                 6.105263   \n",
       "3           32.681818        8679.658537                19.344444   \n",
       "4           33.696275         316.924138                37.509506   \n",
       "\n",
       "   av_decoration_score_dianping  av_product_score_dianping  \\\n",
       "0                      7.100781                   6.937500   \n",
       "1                      7.052500                   6.903750   \n",
       "2                      6.924000                   6.856000   \n",
       "3                      7.129508                   7.039344   \n",
       "4                      7.242742                   7.155242   \n",
       "\n",
       "   av_service_score_dianping  av_review_count_dianping  \n",
       "0                   7.057812                 13.962567  \n",
       "1                   7.005000                 16.616883  \n",
       "2                   6.924000                  5.187500  \n",
       "3                   7.096721                 31.567568  \n",
       "4                   7.237500                 67.919799  "
      ]
     },
     "execution_count": 39,
     "metadata": {},
     "output_type": "execute_result"
    }
   ],
   "source": [
    "gdf_target.head()"
   ]
  }
 ],
 "metadata": {
  "kernelspec": {
   "display_name": "Python 3",
   "language": "python",
   "name": "python3"
  },
  "language_info": {
   "codemirror_mode": {
    "name": "ipython",
    "version": 3
   },
   "file_extension": ".py",
   "mimetype": "text/x-python",
   "name": "python",
   "nbconvert_exporter": "python",
   "pygments_lexer": "ipython3",
   "version": "3.7.3"
  }
 },
 "nbformat": 4,
 "nbformat_minor": 4
}
