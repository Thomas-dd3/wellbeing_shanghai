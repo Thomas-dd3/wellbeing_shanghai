{
 "cells": [
  {
   "cell_type": "code",
   "execution_count": 1,
   "metadata": {},
   "outputs": [],
   "source": [
    "#config.ipynb contains all the import\n",
    "%run ../global_class/config.ipynb\n",
    "#it's a the multipolygone of Shanghai\n",
    "%run ../global_class/getShanghai.ipynb"
   ]
  },
  {
   "cell_type": "code",
   "execution_count": 2,
   "metadata": {},
   "outputs": [],
   "source": [
    "df_mobike = pd.read_pickle('../pickles/utseus-mobike-2016.pk')"
   ]
  },
  {
   "cell_type": "code",
   "execution_count": 3,
   "metadata": {},
   "outputs": [
    {
     "data": {
      "text/plain": [
       "pandas.core.frame.DataFrame"
      ]
     },
     "execution_count": 3,
     "metadata": {},
     "output_type": "execute_result"
    }
   ],
   "source": [
    "type(df_mobike)"
   ]
  },
  {
   "cell_type": "code",
   "execution_count": 4,
   "metadata": {},
   "outputs": [
    {
     "data": {
      "text/html": [
       "<div>\n",
       "<style scoped>\n",
       "    .dataframe tbody tr th:only-of-type {\n",
       "        vertical-align: middle;\n",
       "    }\n",
       "\n",
       "    .dataframe tbody tr th {\n",
       "        vertical-align: top;\n",
       "    }\n",
       "\n",
       "    .dataframe thead th {\n",
       "        text-align: right;\n",
       "    }\n",
       "</style>\n",
       "<table border=\"1\" class=\"dataframe\">\n",
       "  <thead>\n",
       "    <tr style=\"text-align: right;\">\n",
       "      <th></th>\n",
       "      <th>orderid</th>\n",
       "      <th>bikeid</th>\n",
       "      <th>userid</th>\n",
       "      <th>start_time</th>\n",
       "      <th>start_location_x</th>\n",
       "      <th>start_location_y</th>\n",
       "      <th>end_time</th>\n",
       "      <th>end_location_x</th>\n",
       "      <th>end_location_y</th>\n",
       "      <th>track</th>\n",
       "    </tr>\n",
       "  </thead>\n",
       "  <tbody>\n",
       "    <tr>\n",
       "      <th>0</th>\n",
       "      <td>1</td>\n",
       "      <td>324731</td>\n",
       "      <td>7541</td>\n",
       "      <td>2016-08-28 00:00</td>\n",
       "      <td>121.49</td>\n",
       "      <td>31.28</td>\n",
       "      <td>2016-08-28 00:08</td>\n",
       "      <td>121.486</td>\n",
       "      <td>31.273</td>\n",
       "      <td>121.485,31.275#121.485,31.276#121.486,31.273#1...</td>\n",
       "    </tr>\n",
       "    <tr>\n",
       "      <th>1</th>\n",
       "      <td>6</td>\n",
       "      <td>288841</td>\n",
       "      <td>4427</td>\n",
       "      <td>2016-08-28 00:00</td>\n",
       "      <td>121.462</td>\n",
       "      <td>31.313</td>\n",
       "      <td>2016-08-28 00:17</td>\n",
       "      <td>121.455</td>\n",
       "      <td>31.315</td>\n",
       "      <td>121.455,31.313#121.455,31.314#121.455,31.315#1...</td>\n",
       "    </tr>\n",
       "    <tr>\n",
       "      <th>2</th>\n",
       "      <td>8</td>\n",
       "      <td>315873</td>\n",
       "      <td>6474</td>\n",
       "      <td>2016-08-28 00:00</td>\n",
       "      <td>121.416</td>\n",
       "      <td>31.154</td>\n",
       "      <td>2016-08-28 00:14</td>\n",
       "      <td>121.419</td>\n",
       "      <td>31.156</td>\n",
       "      <td>121.416,31.154#121.416,31.155#121.417,31.155#1...</td>\n",
       "    </tr>\n",
       "    <tr>\n",
       "      <th>3</th>\n",
       "      <td>10</td>\n",
       "      <td>93155</td>\n",
       "      <td>12616</td>\n",
       "      <td>2016-08-28 00:00</td>\n",
       "      <td>121.436</td>\n",
       "      <td>31.32</td>\n",
       "      <td>2016-08-28 00:12</td>\n",
       "      <td>121.444</td>\n",
       "      <td>31.31</td>\n",
       "      <td>121.436,31.318#121.436,31.319#121.436,31.320#1...</td>\n",
       "    </tr>\n",
       "    <tr>\n",
       "      <th>4</th>\n",
       "      <td>11</td>\n",
       "      <td>352484</td>\n",
       "      <td>11596</td>\n",
       "      <td>2016-08-28 00:00</td>\n",
       "      <td>121.459</td>\n",
       "      <td>31.325</td>\n",
       "      <td>2016-08-28 00:08</td>\n",
       "      <td>121.46</td>\n",
       "      <td>31.315</td>\n",
       "      <td>121.459,31.315#121.459,31.316#121.459,31.317#1...</td>\n",
       "    </tr>\n",
       "  </tbody>\n",
       "</table>\n",
       "</div>"
      ],
      "text/plain": [
       "  orderid  bikeid userid        start_time start_location_x start_location_y  \\\n",
       "0       1  324731   7541  2016-08-28 00:00           121.49            31.28   \n",
       "1       6  288841   4427  2016-08-28 00:00          121.462           31.313   \n",
       "2       8  315873   6474  2016-08-28 00:00          121.416           31.154   \n",
       "3      10   93155  12616  2016-08-28 00:00          121.436            31.32   \n",
       "4      11  352484  11596  2016-08-28 00:00          121.459           31.325   \n",
       "\n",
       "           end_time end_location_x end_location_y  \\\n",
       "0  2016-08-28 00:08        121.486         31.273   \n",
       "1  2016-08-28 00:17        121.455         31.315   \n",
       "2  2016-08-28 00:14        121.419         31.156   \n",
       "3  2016-08-28 00:12        121.444          31.31   \n",
       "4  2016-08-28 00:08         121.46         31.315   \n",
       "\n",
       "                                               track  \n",
       "0  121.485,31.275#121.485,31.276#121.486,31.273#1...  \n",
       "1  121.455,31.313#121.455,31.314#121.455,31.315#1...  \n",
       "2  121.416,31.154#121.416,31.155#121.417,31.155#1...  \n",
       "3  121.436,31.318#121.436,31.319#121.436,31.320#1...  \n",
       "4  121.459,31.315#121.459,31.316#121.459,31.317#1...  "
      ]
     },
     "execution_count": 4,
     "metadata": {},
     "output_type": "execute_result"
    }
   ],
   "source": [
    "df_mobike.head()"
   ]
  },
  {
   "cell_type": "code",
   "execution_count": 5,
   "metadata": {},
   "outputs": [
    {
     "name": "stdout",
     "output_type": "stream",
     "text": [
      "1023603\n",
      "1023603\n"
     ]
    }
   ],
   "source": [
    "#df_mobike has no na value\n",
    "print(len(df_mobike))\n",
    "print(len(df_mobike.dropna()))"
   ]
  },
  {
   "cell_type": "code",
   "execution_count": 6,
   "metadata": {},
   "outputs": [],
   "source": [
    "df_mobike['start_location_x'] = df_mobike['start_location_x'].apply(float)\n",
    "df_mobike['start_location_y'] = df_mobike['start_location_y'].apply(float)\n",
    "df_mobike['end_location_x'] = df_mobike['end_location_x'].apply(float)\n",
    "df_mobike['end_location_y'] = df_mobike['end_location_y'].apply(float)"
   ]
  },
  {
   "cell_type": "markdown",
   "metadata": {},
   "source": [
    "Bounded box Shanghai - finally we don't use the bounding box of Shanghai to clean the data.\n",
    "\n",
    "```python\n",
    "topSh = 31.51499\n",
    "rightSh = 121.80461\n",
    "bottomSh = 30.975\n",
    "leftSh = 121.10157\n",
    "df_mobike = df_mobike[(df_mobike['start_location_x'] >= leftSh) & (df_mobike['start_location_x'] <= rightSh) & (df_mobike['start_location_y'] >= bottomSh) & (df_mobike['start_location_y'] <= topSh)]\n",
    "df_mobike = df_mobike[(df_mobike['end_location_x'] >= leftSh) & (df_mobike['end_location_x'] <= rightSh) & (df_mobike['end_location_y'] >= bottomSh) & (df_mobike['end_location_y'] <= topSh)]\n",
    "```"
   ]
  },
  {
   "cell_type": "code",
   "execution_count": 7,
   "metadata": {},
   "outputs": [
    {
     "data": {
      "text/plain": [
       "<matplotlib.axes._subplots.AxesSubplot at 0x17b2737d390>"
      ]
     },
     "execution_count": 7,
     "metadata": {},
     "output_type": "execute_result"
    },
    {
     "data": {
      "image/png": "[encoded data removed]",
      "text/plain": [
       "<Figure size 1080x720 with 1 Axes>"
      ]
     },
     "metadata": {
      "needs_background": "light"
     },
     "output_type": "display_data"
    }
   ],
   "source": [
    "df_mobike.plot.scatter(x='end_location_x', y='end_location_y', s=0.02, c='#000066', figsize=(15,10))"
   ]
  },
  {
   "cell_type": "code",
   "execution_count": 8,
   "metadata": {},
   "outputs": [],
   "source": [
    "df_mobike['longitude'] = df_mobike.copy().end_location_x\n",
    "df_mobike['latitude'] = df_mobike.copy().end_location_y"
   ]
  },
  {
   "cell_type": "code",
   "execution_count": 9,
   "metadata": {},
   "outputs": [],
   "source": [
    "gdf_mobike = gpd.GeoDataFrame(df_mobike, geometry = [Point(x,y) for x,y in zip(df_mobike.longitude, df_mobike.latitude)])\n",
    "gdf_mobike.crs = {'init': 'epsg:4326'} #world degree"
   ]
  },
  {
   "cell_type": "code",
   "execution_count": null,
   "metadata": {},
   "outputs": [],
   "source": []
  },
  {
   "cell_type": "code",
   "execution_count": 10,
   "metadata": {},
   "outputs": [
    {
     "name": "stdout",
     "output_type": "stream",
     "text": [
      "Starting time: 2020-01-05 23:43:31.699767\n",
      "Running time: 0:09:46.717276\n"
     ]
    }
   ],
   "source": [
    "time = ManagingTime()\n",
    "time.displayStartTime()\n",
    "\n",
    "gdf_mobike = gdf_mobike.loc[gdf_mobike.within(shanghai)]\n",
    "\n",
    "time.displayRunningTime()"
   ]
  },
  {
   "cell_type": "code",
   "execution_count": 11,
   "metadata": {},
   "outputs": [
    {
     "data": {
      "text/plain": [
       "<matplotlib.axes._subplots.AxesSubplot at 0x17b56f28080>"
      ]
     },
     "execution_count": 11,
     "metadata": {},
     "output_type": "execute_result"
    },
    {
     "data": {
      "image/png": "[encoded data removed]",
      "text/plain": [
       "<Figure size 1080x720 with 1 Axes>"
      ]
     },
     "metadata": {
      "needs_background": "light"
     },
     "output_type": "display_data"
    }
   ],
   "source": [
    "gdf_mobike.plot(markersize=0.02, c='#000066', figsize=(15,10))"
   ]
  },
  {
   "cell_type": "code",
   "execution_count": 12,
   "metadata": {},
   "outputs": [
    {
     "name": "stdout",
     "output_type": "stream",
     "text": [
      "1023552\n"
     ]
    }
   ],
   "source": [
    "print(len(gdf_mobike))\n",
    "# We removed 138 points outside of Shanghai"
   ]
  },
  {
   "cell_type": "code",
   "execution_count": 13,
   "metadata": {},
   "outputs": [
    {
     "data": {
      "text/html": [
       "<div>\n",
       "<style scoped>\n",
       "    .dataframe tbody tr th:only-of-type {\n",
       "        vertical-align: middle;\n",
       "    }\n",
       "\n",
       "    .dataframe tbody tr th {\n",
       "        vertical-align: top;\n",
       "    }\n",
       "\n",
       "    .dataframe thead th {\n",
       "        text-align: right;\n",
       "    }\n",
       "</style>\n",
       "<table border=\"1\" class=\"dataframe\">\n",
       "  <thead>\n",
       "    <tr style=\"text-align: right;\">\n",
       "      <th></th>\n",
       "      <th>orderid</th>\n",
       "      <th>bikeid</th>\n",
       "      <th>userid</th>\n",
       "      <th>start_time</th>\n",
       "      <th>start_location_x</th>\n",
       "      <th>start_location_y</th>\n",
       "      <th>end_time</th>\n",
       "      <th>end_location_x</th>\n",
       "      <th>end_location_y</th>\n",
       "      <th>track</th>\n",
       "      <th>longitude</th>\n",
       "      <th>latitude</th>\n",
       "      <th>geometry</th>\n",
       "    </tr>\n",
       "  </thead>\n",
       "  <tbody>\n",
       "    <tr>\n",
       "      <th>0</th>\n",
       "      <td>1</td>\n",
       "      <td>324731</td>\n",
       "      <td>7541</td>\n",
       "      <td>2016-08-28 00:00</td>\n",
       "      <td>121.490</td>\n",
       "      <td>31.280</td>\n",
       "      <td>2016-08-28 00:08</td>\n",
       "      <td>121.486</td>\n",
       "      <td>31.273</td>\n",
       "      <td>121.485,31.275#121.485,31.276#121.486,31.273#1...</td>\n",
       "      <td>121.486</td>\n",
       "      <td>31.273</td>\n",
       "      <td>POINT (121.486 31.273)</td>\n",
       "    </tr>\n",
       "    <tr>\n",
       "      <th>1</th>\n",
       "      <td>6</td>\n",
       "      <td>288841</td>\n",
       "      <td>4427</td>\n",
       "      <td>2016-08-28 00:00</td>\n",
       "      <td>121.462</td>\n",
       "      <td>31.313</td>\n",
       "      <td>2016-08-28 00:17</td>\n",
       "      <td>121.455</td>\n",
       "      <td>31.315</td>\n",
       "      <td>121.455,31.313#121.455,31.314#121.455,31.315#1...</td>\n",
       "      <td>121.455</td>\n",
       "      <td>31.315</td>\n",
       "      <td>POINT (121.455 31.315)</td>\n",
       "    </tr>\n",
       "    <tr>\n",
       "      <th>2</th>\n",
       "      <td>8</td>\n",
       "      <td>315873</td>\n",
       "      <td>6474</td>\n",
       "      <td>2016-08-28 00:00</td>\n",
       "      <td>121.416</td>\n",
       "      <td>31.154</td>\n",
       "      <td>2016-08-28 00:14</td>\n",
       "      <td>121.419</td>\n",
       "      <td>31.156</td>\n",
       "      <td>121.416,31.154#121.416,31.155#121.417,31.155#1...</td>\n",
       "      <td>121.419</td>\n",
       "      <td>31.156</td>\n",
       "      <td>POINT (121.419 31.156)</td>\n",
       "    </tr>\n",
       "    <tr>\n",
       "      <th>3</th>\n",
       "      <td>10</td>\n",
       "      <td>93155</td>\n",
       "      <td>12616</td>\n",
       "      <td>2016-08-28 00:00</td>\n",
       "      <td>121.436</td>\n",
       "      <td>31.320</td>\n",
       "      <td>2016-08-28 00:12</td>\n",
       "      <td>121.444</td>\n",
       "      <td>31.310</td>\n",
       "      <td>121.436,31.318#121.436,31.319#121.436,31.320#1...</td>\n",
       "      <td>121.444</td>\n",
       "      <td>31.310</td>\n",
       "      <td>POINT (121.444 31.31)</td>\n",
       "    </tr>\n",
       "    <tr>\n",
       "      <th>4</th>\n",
       "      <td>11</td>\n",
       "      <td>352484</td>\n",
       "      <td>11596</td>\n",
       "      <td>2016-08-28 00:00</td>\n",
       "      <td>121.459</td>\n",
       "      <td>31.325</td>\n",
       "      <td>2016-08-28 00:08</td>\n",
       "      <td>121.460</td>\n",
       "      <td>31.315</td>\n",
       "      <td>121.459,31.315#121.459,31.316#121.459,31.317#1...</td>\n",
       "      <td>121.460</td>\n",
       "      <td>31.315</td>\n",
       "      <td>POINT (121.46 31.315)</td>\n",
       "    </tr>\n",
       "  </tbody>\n",
       "</table>\n",
       "</div>"
      ],
      "text/plain": [
       "  orderid  bikeid userid        start_time  start_location_x  \\\n",
       "0       1  324731   7541  2016-08-28 00:00           121.490   \n",
       "1       6  288841   4427  2016-08-28 00:00           121.462   \n",
       "2       8  315873   6474  2016-08-28 00:00           121.416   \n",
       "3      10   93155  12616  2016-08-28 00:00           121.436   \n",
       "4      11  352484  11596  2016-08-28 00:00           121.459   \n",
       "\n",
       "   start_location_y          end_time  end_location_x  end_location_y  \\\n",
       "0            31.280  2016-08-28 00:08         121.486          31.273   \n",
       "1            31.313  2016-08-28 00:17         121.455          31.315   \n",
       "2            31.154  2016-08-28 00:14         121.419          31.156   \n",
       "3            31.320  2016-08-28 00:12         121.444          31.310   \n",
       "4            31.325  2016-08-28 00:08         121.460          31.315   \n",
       "\n",
       "                                               track  longitude  latitude  \\\n",
       "0  121.485,31.275#121.485,31.276#121.486,31.273#1...    121.486    31.273   \n",
       "1  121.455,31.313#121.455,31.314#121.455,31.315#1...    121.455    31.315   \n",
       "2  121.416,31.154#121.416,31.155#121.417,31.155#1...    121.419    31.156   \n",
       "3  121.436,31.318#121.436,31.319#121.436,31.320#1...    121.444    31.310   \n",
       "4  121.459,31.315#121.459,31.316#121.459,31.317#1...    121.460    31.315   \n",
       "\n",
       "                 geometry  \n",
       "0  POINT (121.486 31.273)  \n",
       "1  POINT (121.455 31.315)  \n",
       "2  POINT (121.419 31.156)  \n",
       "3   POINT (121.444 31.31)  \n",
       "4   POINT (121.46 31.315)  "
      ]
     },
     "execution_count": 13,
     "metadata": {},
     "output_type": "execute_result"
    }
   ],
   "source": [
    "gdf_mobike.head()"
   ]
  },
  {
   "cell_type": "code",
   "execution_count": null,
   "metadata": {},
   "outputs": [],
   "source": []
  },
  {
   "cell_type": "code",
   "execution_count": 14,
   "metadata": {},
   "outputs": [
    {
     "data": {
      "text/html": [
       "<div>\n",
       "<style scoped>\n",
       "    .dataframe tbody tr th:only-of-type {\n",
       "        vertical-align: middle;\n",
       "    }\n",
       "\n",
       "    .dataframe tbody tr th {\n",
       "        vertical-align: top;\n",
       "    }\n",
       "\n",
       "    .dataframe thead th {\n",
       "        text-align: right;\n",
       "    }\n",
       "</style>\n",
       "<table border=\"1\" class=\"dataframe\">\n",
       "  <thead>\n",
       "    <tr style=\"text-align: right;\">\n",
       "      <th></th>\n",
       "      <th>orderid</th>\n",
       "      <th>bikeid</th>\n",
       "      <th>userid</th>\n",
       "      <th>start_time</th>\n",
       "      <th>start_location_x</th>\n",
       "      <th>start_location_y</th>\n",
       "      <th>end_time</th>\n",
       "      <th>end_location_x</th>\n",
       "      <th>end_location_y</th>\n",
       "      <th>track</th>\n",
       "      <th>longitude</th>\n",
       "      <th>latitude</th>\n",
       "      <th>geometry</th>\n",
       "    </tr>\n",
       "  </thead>\n",
       "  <tbody>\n",
       "  </tbody>\n",
       "</table>\n",
       "</div>"
      ],
      "text/plain": [
       "Empty GeoDataFrame\n",
       "Columns: [orderid, bikeid, userid, start_time, start_location_x, start_location_y, end_time, end_location_x, end_location_y, track, longitude, latitude, geometry]\n",
       "Index: []"
      ]
     },
     "execution_count": 14,
     "metadata": {},
     "output_type": "execute_result"
    }
   ],
   "source": [
    "#No duplicated lines in mobike dataset\n",
    "gdf_mobike[gdf_mobike.duplicated(keep = 'first', subset=gdf_mobike.columns.difference(['geometry']))]"
   ]
  },
  {
   "cell_type": "code",
   "execution_count": null,
   "metadata": {},
   "outputs": [],
   "source": []
  },
  {
   "cell_type": "code",
   "execution_count": 15,
   "metadata": {},
   "outputs": [
    {
     "data": {
      "text/plain": [
       "'2016-09-01 00:00'"
      ]
     },
     "execution_count": 15,
     "metadata": {},
     "output_type": "execute_result"
    }
   ],
   "source": [
    "gdf_mobike.start_time.max()"
   ]
  },
  {
   "cell_type": "code",
   "execution_count": 16,
   "metadata": {},
   "outputs": [
    {
     "name": "stdout",
     "output_type": "stream",
     "text": [
      "Day 1: 18388\n",
      "Day 2: 14897\n",
      "Day 3: 18301\n",
      "Day 4: 16465\n",
      "Day 5: 15849\n",
      "Day 6: 20997\n",
      "Day 7: 21755\n",
      "Day 8: 26163\n",
      "Day 9: 25930\n",
      "Day 10: 28802\n",
      "Day 11: 29440\n",
      "Day 12: 31563\n",
      "Day 13: 28403\n",
      "Day 14: 27471\n",
      "Day 15: 33743\n",
      "Day 16: 34239\n",
      "Day 17: 35125\n",
      "Day 18: 35727\n",
      "Day 19: 37498\n",
      "Day 20: 36370\n",
      "Day 21: 31093\n",
      "Day 22: 36706\n",
      "Day 23: 38735\n",
      "Day 24: 40362\n",
      "Day 25: 44085\n",
      "Day 26: 48036\n",
      "Day 27: 47533\n",
      "Day 28: 49058\n",
      "Day 29: 47640\n",
      "Day 30: 47981\n",
      "Day 31: 54924\n"
     ]
    }
   ],
   "source": [
    "#Calcul the number of bike per day in August\n",
    "for i in range(1,32):\n",
    "    if i<10:\n",
    "        startDay = \"2016-08-0\" + str(i) + \" 00:00\"\n",
    "        endDay = \"2016-08-0\" + str(i+1) + \" 00:00\"\n",
    "        if i==9:\n",
    "            endDay = \"2016-08-\" + str(i+1) + \" 00:00\"\n",
    "    else:        \n",
    "        startDay = \"2016-08-\" + str(i) + \" 00:00\"\n",
    "        endDay = \"2016-08-\" + str(i+1) + \" 00:00\"\n",
    "        if (i == 31):\n",
    "            endDay = \"2016-09-01 00:00\"\n",
    "    print(\"Day \" + str(i) + \": \" + str(len(gdf_mobike[(gdf_mobike.start_time > startDay) & (gdf_mobike.start_time < endDay)])))"
   ]
  },
  {
   "cell_type": "code",
   "execution_count": null,
   "metadata": {},
   "outputs": [],
   "source": []
  },
  {
   "cell_type": "code",
   "execution_count": null,
   "metadata": {},
   "outputs": [],
   "source": [
    "#Print the variation of mobike usage\n",
    "# With this function we detect a pic of usage starting at 7:00 and at 17:00\n",
    "for i in range(1,32):\n",
    "    if i<10:\n",
    "        startDay = \"2016-08-0\" + str(i) + \" 00:00\"\n",
    "        endDay = \"2016-08-0\" + str(i+1) + \" 00:00\"\n",
    "        if i==9:\n",
    "            endDay = \"2016-08-\" + str(i+1) + \" 00:00\"\n",
    "    else:        \n",
    "        startDay = \"2016-08-\" + str(i) + \" 00:00\"\n",
    "        endDay = \"2016-08-\" + str(i+1) + \" 00:00\"\n",
    "        if (i == 31):\n",
    "            endDay = \"2016-09-01 00:00\"\n",
    "    print(i)\n",
    "    gdf_mobike_d = gdf_mobike[(gdf_mobike.end_time > startDay ) & (gdf_mobike.end_time < endDay )].copy()\n",
    "    gdf_mobike_d['pd_time'] = pd.to_datetime(gdf_mobike_d.copy().end_time)\n",
    "    %matplotlib inline\n",
    "    plt.figure(figsize=(15,10))\n",
    "    plt.hist(x=gdf_mobike_d.pd_time, bins=24)\n",
    "    plt.show()"
   ]
  },
  {
   "cell_type": "code",
   "execution_count": 18,
   "metadata": {},
   "outputs": [
    {
     "data": {
      "text/plain": [
       "0    18\n",
       "dtype: int64"
      ]
     },
     "execution_count": 18,
     "metadata": {},
     "output_type": "execute_result"
    },
    {
     "data": {
      "image/png": "[encoded data removed]",
      "text/plain": [
       "<Figure size 1080x720 with 1 Axes>"
      ]
     },
     "metadata": {
      "needs_background": "light"
     },
     "output_type": "display_data"
    }
   ],
   "source": [
    "#example with 2016-08-03\n",
    "gdf_mobike_d = gdf_mobike[(gdf_mobike.end_time > \"2016-08-03 00:00\") & (gdf_mobike.end_time < \"2016-08-04 00:00\")].copy()\n",
    "gdf_mobike_d['pd_time'] = pd.to_datetime(gdf_mobike_d.copy().end_time)\n",
    "plt.figure(figsize=(15,10))\n",
    "test = plt.hist(x=gdf_mobike_d.pd_time, bins=24)\n",
    "np.transpose(test[1]).reshape(1,25)\n",
    "pd.DataFrame(np.transpose(test[0]).reshape(1,24), columns=range(0,24)).idxmax(axis=1)\n",
    "# Number max of mobike at 18:00"
   ]
  },
  {
   "cell_type": "code",
   "execution_count": null,
   "metadata": {},
   "outputs": [],
   "source": []
  },
  {
   "cell_type": "code",
   "execution_count": 19,
   "metadata": {},
   "outputs": [
    {
     "data": {
      "text/html": [
       "<div>\n",
       "<style scoped>\n",
       "    .dataframe tbody tr th:only-of-type {\n",
       "        vertical-align: middle;\n",
       "    }\n",
       "\n",
       "    .dataframe tbody tr th {\n",
       "        vertical-align: top;\n",
       "    }\n",
       "\n",
       "    .dataframe thead th {\n",
       "        text-align: right;\n",
       "    }\n",
       "</style>\n",
       "<table border=\"1\" class=\"dataframe\">\n",
       "  <thead>\n",
       "    <tr style=\"text-align: right;\">\n",
       "      <th></th>\n",
       "      <th>orderid</th>\n",
       "      <th>bikeid</th>\n",
       "      <th>userid</th>\n",
       "      <th>start_time</th>\n",
       "      <th>start_location_x</th>\n",
       "      <th>start_location_y</th>\n",
       "      <th>end_time</th>\n",
       "      <th>end_location_x</th>\n",
       "      <th>end_location_y</th>\n",
       "      <th>track</th>\n",
       "      <th>longitude</th>\n",
       "      <th>latitude</th>\n",
       "      <th>geometry</th>\n",
       "    </tr>\n",
       "  </thead>\n",
       "  <tbody>\n",
       "    <tr>\n",
       "      <th>0</th>\n",
       "      <td>1</td>\n",
       "      <td>324731</td>\n",
       "      <td>7541</td>\n",
       "      <td>2016-08-28 00:00</td>\n",
       "      <td>121.490</td>\n",
       "      <td>31.280</td>\n",
       "      <td>2016-08-28 00:08</td>\n",
       "      <td>121.486</td>\n",
       "      <td>31.273</td>\n",
       "      <td>121.485,31.275#121.485,31.276#121.486,31.273#1...</td>\n",
       "      <td>121.486</td>\n",
       "      <td>31.273</td>\n",
       "      <td>POINT (121.486 31.273)</td>\n",
       "    </tr>\n",
       "    <tr>\n",
       "      <th>1</th>\n",
       "      <td>6</td>\n",
       "      <td>288841</td>\n",
       "      <td>4427</td>\n",
       "      <td>2016-08-28 00:00</td>\n",
       "      <td>121.462</td>\n",
       "      <td>31.313</td>\n",
       "      <td>2016-08-28 00:17</td>\n",
       "      <td>121.455</td>\n",
       "      <td>31.315</td>\n",
       "      <td>121.455,31.313#121.455,31.314#121.455,31.315#1...</td>\n",
       "      <td>121.455</td>\n",
       "      <td>31.315</td>\n",
       "      <td>POINT (121.455 31.315)</td>\n",
       "    </tr>\n",
       "    <tr>\n",
       "      <th>2</th>\n",
       "      <td>8</td>\n",
       "      <td>315873</td>\n",
       "      <td>6474</td>\n",
       "      <td>2016-08-28 00:00</td>\n",
       "      <td>121.416</td>\n",
       "      <td>31.154</td>\n",
       "      <td>2016-08-28 00:14</td>\n",
       "      <td>121.419</td>\n",
       "      <td>31.156</td>\n",
       "      <td>121.416,31.154#121.416,31.155#121.417,31.155#1...</td>\n",
       "      <td>121.419</td>\n",
       "      <td>31.156</td>\n",
       "      <td>POINT (121.419 31.156)</td>\n",
       "    </tr>\n",
       "    <tr>\n",
       "      <th>3</th>\n",
       "      <td>10</td>\n",
       "      <td>93155</td>\n",
       "      <td>12616</td>\n",
       "      <td>2016-08-28 00:00</td>\n",
       "      <td>121.436</td>\n",
       "      <td>31.320</td>\n",
       "      <td>2016-08-28 00:12</td>\n",
       "      <td>121.444</td>\n",
       "      <td>31.310</td>\n",
       "      <td>121.436,31.318#121.436,31.319#121.436,31.320#1...</td>\n",
       "      <td>121.444</td>\n",
       "      <td>31.310</td>\n",
       "      <td>POINT (121.444 31.31)</td>\n",
       "    </tr>\n",
       "    <tr>\n",
       "      <th>4</th>\n",
       "      <td>11</td>\n",
       "      <td>352484</td>\n",
       "      <td>11596</td>\n",
       "      <td>2016-08-28 00:00</td>\n",
       "      <td>121.459</td>\n",
       "      <td>31.325</td>\n",
       "      <td>2016-08-28 00:08</td>\n",
       "      <td>121.460</td>\n",
       "      <td>31.315</td>\n",
       "      <td>121.459,31.315#121.459,31.316#121.459,31.317#1...</td>\n",
       "      <td>121.460</td>\n",
       "      <td>31.315</td>\n",
       "      <td>POINT (121.46 31.315)</td>\n",
       "    </tr>\n",
       "  </tbody>\n",
       "</table>\n",
       "</div>"
      ],
      "text/plain": [
       "  orderid  bikeid userid        start_time  start_location_x  \\\n",
       "0       1  324731   7541  2016-08-28 00:00           121.490   \n",
       "1       6  288841   4427  2016-08-28 00:00           121.462   \n",
       "2       8  315873   6474  2016-08-28 00:00           121.416   \n",
       "3      10   93155  12616  2016-08-28 00:00           121.436   \n",
       "4      11  352484  11596  2016-08-28 00:00           121.459   \n",
       "\n",
       "   start_location_y          end_time  end_location_x  end_location_y  \\\n",
       "0            31.280  2016-08-28 00:08         121.486          31.273   \n",
       "1            31.313  2016-08-28 00:17         121.455          31.315   \n",
       "2            31.154  2016-08-28 00:14         121.419          31.156   \n",
       "3            31.320  2016-08-28 00:12         121.444          31.310   \n",
       "4            31.325  2016-08-28 00:08         121.460          31.315   \n",
       "\n",
       "                                               track  longitude  latitude  \\\n",
       "0  121.485,31.275#121.485,31.276#121.486,31.273#1...    121.486    31.273   \n",
       "1  121.455,31.313#121.455,31.314#121.455,31.315#1...    121.455    31.315   \n",
       "2  121.416,31.154#121.416,31.155#121.417,31.155#1...    121.419    31.156   \n",
       "3  121.436,31.318#121.436,31.319#121.436,31.320#1...    121.444    31.310   \n",
       "4  121.459,31.315#121.459,31.316#121.459,31.317#1...    121.460    31.315   \n",
       "\n",
       "                 geometry  \n",
       "0  POINT (121.486 31.273)  \n",
       "1  POINT (121.455 31.315)  \n",
       "2  POINT (121.419 31.156)  \n",
       "3   POINT (121.444 31.31)  \n",
       "4   POINT (121.46 31.315)  "
      ]
     },
     "execution_count": 19,
     "metadata": {},
     "output_type": "execute_result"
    }
   ],
   "source": [
    "gdf_mobike.head()"
   ]
  },
  {
   "cell_type": "code",
   "execution_count": 20,
   "metadata": {},
   "outputs": [],
   "source": [
    "gdf_mobike['dt_time'] = pd.to_datetime(gdf_mobike.copy().end_time)\n",
    "gdf_mobike.dt_time = gdf_mobike.dt_time.apply(lambda x: x.time())"
   ]
  },
  {
   "cell_type": "code",
   "execution_count": null,
   "metadata": {},
   "outputs": [],
   "source": []
  },
  {
   "cell_type": "code",
   "execution_count": 21,
   "metadata": {},
   "outputs": [],
   "source": [
    "from pyproj import Transformer\n",
    "\n",
    "transformer = Transformer.from_crs(\"EPSG:4326\", \"EPSG:4479\", always_xy=True)\n",
    "\n",
    "\n",
    "def getNewLongitude(xy):\n",
    "    return transformer.transform(xy[0], xy[1])[0]\n",
    "\n",
    "def getNewLatitude(xy):\n",
    "    return transformer.transform(xy[0], xy[1])[1]\n",
    "\n",
    "gdf_mobike['start_longitude'] = gdf_mobike[['start_location_x', 'start_location_y']].apply(getNewLongitude, axis=1)\n",
    "gdf_mobike['start_latitude'] = gdf_mobike[['start_location_x', 'start_location_y']].apply(getNewLatitude, axis=1)\n",
    "gdf_mobike['end_longitude'] = gdf_mobike[['end_location_x', 'end_location_y']].apply(getNewLongitude, axis=1)\n",
    "gdf_mobike['end_latitude'] = gdf_mobike[['end_location_x', 'end_location_y']].apply(getNewLatitude, axis=1)"
   ]
  },
  {
   "cell_type": "code",
   "execution_count": 22,
   "metadata": {},
   "outputs": [],
   "source": [
    "from scipy.spatial import distance\n",
    "gdf_mobike['start_time'] = pd.to_datetime(gdf_mobike['start_time'])\n",
    "gdf_mobike['end_time'] = pd.to_datetime(gdf_mobike['end_time'])\n",
    "gdf_mobike['duration'] = gdf_mobike['end_time'] - gdf_mobike['start_time']\n",
    "gdf_mobike['distance'] = gdf_mobike[['start_longitude', 'start_latitude', 'end_longitude', 'end_latitude']].apply(\n",
    "    lambda x: distance.euclidean([x[0],x[1]],[x[2],x[3]]), axis = 1)\n",
    "gdf_mobike['speed'] = (gdf_mobike['distance']/1000.0)/(gdf_mobike['duration'].dt.total_seconds()/3600)"
   ]
  },
  {
   "cell_type": "code",
   "execution_count": 23,
   "metadata": {},
   "outputs": [],
   "source": [
    "gdf_mobike['duration'] = gdf_mobike['duration'].dt.total_seconds()"
   ]
  },
  {
   "cell_type": "code",
   "execution_count": 24,
   "metadata": {},
   "outputs": [
    {
     "data": {
      "text/html": [
       "<div>\n",
       "<style scoped>\n",
       "    .dataframe tbody tr th:only-of-type {\n",
       "        vertical-align: middle;\n",
       "    }\n",
       "\n",
       "    .dataframe tbody tr th {\n",
       "        vertical-align: top;\n",
       "    }\n",
       "\n",
       "    .dataframe thead th {\n",
       "        text-align: right;\n",
       "    }\n",
       "</style>\n",
       "<table border=\"1\" class=\"dataframe\">\n",
       "  <thead>\n",
       "    <tr style=\"text-align: right;\">\n",
       "      <th></th>\n",
       "      <th>orderid</th>\n",
       "      <th>bikeid</th>\n",
       "      <th>userid</th>\n",
       "      <th>start_time</th>\n",
       "      <th>start_location_x</th>\n",
       "      <th>start_location_y</th>\n",
       "      <th>end_time</th>\n",
       "      <th>end_location_x</th>\n",
       "      <th>end_location_y</th>\n",
       "      <th>track</th>\n",
       "      <th>...</th>\n",
       "      <th>latitude</th>\n",
       "      <th>geometry</th>\n",
       "      <th>dt_time</th>\n",
       "      <th>start_longitude</th>\n",
       "      <th>start_latitude</th>\n",
       "      <th>end_longitude</th>\n",
       "      <th>end_latitude</th>\n",
       "      <th>duration</th>\n",
       "      <th>distance</th>\n",
       "      <th>speed</th>\n",
       "    </tr>\n",
       "  </thead>\n",
       "  <tbody>\n",
       "    <tr>\n",
       "      <th>0</th>\n",
       "      <td>1</td>\n",
       "      <td>324731</td>\n",
       "      <td>7541</td>\n",
       "      <td>2016-08-28</td>\n",
       "      <td>121.490</td>\n",
       "      <td>31.280</td>\n",
       "      <td>2016-08-28 00:08:00</td>\n",
       "      <td>121.486</td>\n",
       "      <td>31.273</td>\n",
       "      <td>121.485,31.275#121.485,31.276#121.486,31.273#1...</td>\n",
       "      <td>...</td>\n",
       "      <td>31.273</td>\n",
       "      <td>POINT (121.486 31.273)</td>\n",
       "      <td>00:08:00</td>\n",
       "      <td>-2.849907e+06</td>\n",
       "      <td>4.652449e+06</td>\n",
       "      <td>-2.849793e+06</td>\n",
       "      <td>4.652991e+06</td>\n",
       "      <td>480.0</td>\n",
       "      <td>554.482518</td>\n",
       "      <td>4.158619</td>\n",
       "    </tr>\n",
       "    <tr>\n",
       "      <th>1</th>\n",
       "      <td>6</td>\n",
       "      <td>288841</td>\n",
       "      <td>4427</td>\n",
       "      <td>2016-08-28</td>\n",
       "      <td>121.462</td>\n",
       "      <td>31.313</td>\n",
       "      <td>2016-08-28 00:17:00</td>\n",
       "      <td>121.455</td>\n",
       "      <td>31.315</td>\n",
       "      <td>121.455,31.313#121.455,31.314#121.455,31.315#1...</td>\n",
       "      <td>...</td>\n",
       "      <td>31.315</td>\n",
       "      <td>POINT (121.455 31.315)</td>\n",
       "      <td>00:17:00</td>\n",
       "      <td>-2.846641e+06</td>\n",
       "      <td>4.652220e+06</td>\n",
       "      <td>-2.846013e+06</td>\n",
       "      <td>4.652469e+06</td>\n",
       "      <td>1020.0</td>\n",
       "      <td>676.222675</td>\n",
       "      <td>2.386668</td>\n",
       "    </tr>\n",
       "    <tr>\n",
       "      <th>2</th>\n",
       "      <td>8</td>\n",
       "      <td>315873</td>\n",
       "      <td>6474</td>\n",
       "      <td>2016-08-28</td>\n",
       "      <td>121.416</td>\n",
       "      <td>31.154</td>\n",
       "      <td>2016-08-28 00:14:00</td>\n",
       "      <td>121.419</td>\n",
       "      <td>31.156</td>\n",
       "      <td>121.416,31.154#121.416,31.155#121.417,31.155#1...</td>\n",
       "      <td>...</td>\n",
       "      <td>31.156</td>\n",
       "      <td>POINT (121.419 31.156)</td>\n",
       "      <td>00:14:00</td>\n",
       "      <td>-2.847670e+06</td>\n",
       "      <td>4.662305e+06</td>\n",
       "      <td>-2.847855e+06</td>\n",
       "      <td>4.662058e+06</td>\n",
       "      <td>840.0</td>\n",
       "      <td>308.195446</td>\n",
       "      <td>1.320838</td>\n",
       "    </tr>\n",
       "    <tr>\n",
       "      <th>3</th>\n",
       "      <td>10</td>\n",
       "      <td>93155</td>\n",
       "      <td>12616</td>\n",
       "      <td>2016-08-28</td>\n",
       "      <td>121.436</td>\n",
       "      <td>31.320</td>\n",
       "      <td>2016-08-28 00:12:00</td>\n",
       "      <td>121.444</td>\n",
       "      <td>31.310</td>\n",
       "      <td>121.436,31.318#121.436,31.319#121.436,31.320#1...</td>\n",
       "      <td>...</td>\n",
       "      <td>31.310</td>\n",
       "      <td>POINT (121.444 31.31)</td>\n",
       "      <td>00:12:00</td>\n",
       "      <td>-2.844320e+06</td>\n",
       "      <td>4.653167e+06</td>\n",
       "      <td>-2.845270e+06</td>\n",
       "      <td>4.653261e+06</td>\n",
       "      <td>720.0</td>\n",
       "      <td>954.976245</td>\n",
       "      <td>4.774881</td>\n",
       "    </tr>\n",
       "    <tr>\n",
       "      <th>4</th>\n",
       "      <td>11</td>\n",
       "      <td>352484</td>\n",
       "      <td>11596</td>\n",
       "      <td>2016-08-28</td>\n",
       "      <td>121.459</td>\n",
       "      <td>31.325</td>\n",
       "      <td>2016-08-28 00:08:00</td>\n",
       "      <td>121.460</td>\n",
       "      <td>31.315</td>\n",
       "      <td>121.459,31.315#121.459,31.316#121.459,31.317#1...</td>\n",
       "      <td>...</td>\n",
       "      <td>31.315</td>\n",
       "      <td>POINT (121.46 31.315)</td>\n",
       "      <td>00:08:00</td>\n",
       "      <td>-2.846037e+06</td>\n",
       "      <td>4.651779e+06</td>\n",
       "      <td>-2.846419e+06</td>\n",
       "      <td>4.652221e+06</td>\n",
       "      <td>480.0</td>\n",
       "      <td>584.154316</td>\n",
       "      <td>4.381157</td>\n",
       "    </tr>\n",
       "  </tbody>\n",
       "</table>\n",
       "<p>5 rows × 21 columns</p>\n",
       "</div>"
      ],
      "text/plain": [
       "  orderid  bikeid userid start_time  start_location_x  start_location_y  \\\n",
       "0       1  324731   7541 2016-08-28           121.490            31.280   \n",
       "1       6  288841   4427 2016-08-28           121.462            31.313   \n",
       "2       8  315873   6474 2016-08-28           121.416            31.154   \n",
       "3      10   93155  12616 2016-08-28           121.436            31.320   \n",
       "4      11  352484  11596 2016-08-28           121.459            31.325   \n",
       "\n",
       "             end_time  end_location_x  end_location_y  \\\n",
       "0 2016-08-28 00:08:00         121.486          31.273   \n",
       "1 2016-08-28 00:17:00         121.455          31.315   \n",
       "2 2016-08-28 00:14:00         121.419          31.156   \n",
       "3 2016-08-28 00:12:00         121.444          31.310   \n",
       "4 2016-08-28 00:08:00         121.460          31.315   \n",
       "\n",
       "                                               track  ...  latitude  \\\n",
       "0  121.485,31.275#121.485,31.276#121.486,31.273#1...  ...    31.273   \n",
       "1  121.455,31.313#121.455,31.314#121.455,31.315#1...  ...    31.315   \n",
       "2  121.416,31.154#121.416,31.155#121.417,31.155#1...  ...    31.156   \n",
       "3  121.436,31.318#121.436,31.319#121.436,31.320#1...  ...    31.310   \n",
       "4  121.459,31.315#121.459,31.316#121.459,31.317#1...  ...    31.315   \n",
       "\n",
       "                 geometry   dt_time start_longitude  start_latitude  \\\n",
       "0  POINT (121.486 31.273)  00:08:00   -2.849907e+06    4.652449e+06   \n",
       "1  POINT (121.455 31.315)  00:17:00   -2.846641e+06    4.652220e+06   \n",
       "2  POINT (121.419 31.156)  00:14:00   -2.847670e+06    4.662305e+06   \n",
       "3   POINT (121.444 31.31)  00:12:00   -2.844320e+06    4.653167e+06   \n",
       "4   POINT (121.46 31.315)  00:08:00   -2.846037e+06    4.651779e+06   \n",
       "\n",
       "   end_longitude  end_latitude  duration    distance     speed  \n",
       "0  -2.849793e+06  4.652991e+06     480.0  554.482518  4.158619  \n",
       "1  -2.846013e+06  4.652469e+06    1020.0  676.222675  2.386668  \n",
       "2  -2.847855e+06  4.662058e+06     840.0  308.195446  1.320838  \n",
       "3  -2.845270e+06  4.653261e+06     720.0  954.976245  4.774881  \n",
       "4  -2.846419e+06  4.652221e+06     480.0  584.154316  4.381157  \n",
       "\n",
       "[5 rows x 21 columns]"
      ]
     },
     "execution_count": 24,
     "metadata": {},
     "output_type": "execute_result"
    }
   ],
   "source": [
    "gdf_mobike.head()"
   ]
  },
  {
   "cell_type": "code",
   "execution_count": 25,
   "metadata": {},
   "outputs": [],
   "source": [
    "gdf_mobike['longitude_m'] = gdf_mobike.copy().end_longitude\n",
    "gdf_mobike['latitude_m'] = gdf_mobike.copy().end_latitude"
   ]
  },
  {
   "cell_type": "code",
   "execution_count": 26,
   "metadata": {},
   "outputs": [],
   "source": [
    "gdf_mobike = gdf_mobike[['end_time','dt_time','duration','distance','speed','longitude','latitude','longitude_m','latitude_m']]"
   ]
  },
  {
   "cell_type": "code",
   "execution_count": 27,
   "metadata": {},
   "outputs": [
    {
     "data": {
      "text/html": [
       "<div>\n",
       "<style scoped>\n",
       "    .dataframe tbody tr th:only-of-type {\n",
       "        vertical-align: middle;\n",
       "    }\n",
       "\n",
       "    .dataframe tbody tr th {\n",
       "        vertical-align: top;\n",
       "    }\n",
       "\n",
       "    .dataframe thead th {\n",
       "        text-align: right;\n",
       "    }\n",
       "</style>\n",
       "<table border=\"1\" class=\"dataframe\">\n",
       "  <thead>\n",
       "    <tr style=\"text-align: right;\">\n",
       "      <th></th>\n",
       "      <th>end_time</th>\n",
       "      <th>dt_time</th>\n",
       "      <th>duration</th>\n",
       "      <th>distance</th>\n",
       "      <th>speed</th>\n",
       "      <th>longitude</th>\n",
       "      <th>latitude</th>\n",
       "      <th>longitude_m</th>\n",
       "      <th>latitude_m</th>\n",
       "    </tr>\n",
       "  </thead>\n",
       "  <tbody>\n",
       "    <tr>\n",
       "      <th>0</th>\n",
       "      <td>2016-08-28 00:08:00</td>\n",
       "      <td>00:08:00</td>\n",
       "      <td>480.0</td>\n",
       "      <td>554.482518</td>\n",
       "      <td>4.158619</td>\n",
       "      <td>121.486</td>\n",
       "      <td>31.273</td>\n",
       "      <td>-2.849793e+06</td>\n",
       "      <td>4.652991e+06</td>\n",
       "    </tr>\n",
       "    <tr>\n",
       "      <th>1</th>\n",
       "      <td>2016-08-28 00:17:00</td>\n",
       "      <td>00:17:00</td>\n",
       "      <td>1020.0</td>\n",
       "      <td>676.222675</td>\n",
       "      <td>2.386668</td>\n",
       "      <td>121.455</td>\n",
       "      <td>31.315</td>\n",
       "      <td>-2.846013e+06</td>\n",
       "      <td>4.652469e+06</td>\n",
       "    </tr>\n",
       "    <tr>\n",
       "      <th>2</th>\n",
       "      <td>2016-08-28 00:14:00</td>\n",
       "      <td>00:14:00</td>\n",
       "      <td>840.0</td>\n",
       "      <td>308.195446</td>\n",
       "      <td>1.320838</td>\n",
       "      <td>121.419</td>\n",
       "      <td>31.156</td>\n",
       "      <td>-2.847855e+06</td>\n",
       "      <td>4.662058e+06</td>\n",
       "    </tr>\n",
       "    <tr>\n",
       "      <th>3</th>\n",
       "      <td>2016-08-28 00:12:00</td>\n",
       "      <td>00:12:00</td>\n",
       "      <td>720.0</td>\n",
       "      <td>954.976245</td>\n",
       "      <td>4.774881</td>\n",
       "      <td>121.444</td>\n",
       "      <td>31.310</td>\n",
       "      <td>-2.845270e+06</td>\n",
       "      <td>4.653261e+06</td>\n",
       "    </tr>\n",
       "    <tr>\n",
       "      <th>4</th>\n",
       "      <td>2016-08-28 00:08:00</td>\n",
       "      <td>00:08:00</td>\n",
       "      <td>480.0</td>\n",
       "      <td>584.154316</td>\n",
       "      <td>4.381157</td>\n",
       "      <td>121.460</td>\n",
       "      <td>31.315</td>\n",
       "      <td>-2.846419e+06</td>\n",
       "      <td>4.652221e+06</td>\n",
       "    </tr>\n",
       "  </tbody>\n",
       "</table>\n",
       "</div>"
      ],
      "text/plain": [
       "             end_time   dt_time  duration    distance     speed  longitude  \\\n",
       "0 2016-08-28 00:08:00  00:08:00     480.0  554.482518  4.158619    121.486   \n",
       "1 2016-08-28 00:17:00  00:17:00    1020.0  676.222675  2.386668    121.455   \n",
       "2 2016-08-28 00:14:00  00:14:00     840.0  308.195446  1.320838    121.419   \n",
       "3 2016-08-28 00:12:00  00:12:00     720.0  954.976245  4.774881    121.444   \n",
       "4 2016-08-28 00:08:00  00:08:00     480.0  584.154316  4.381157    121.460   \n",
       "\n",
       "   latitude   longitude_m    latitude_m  \n",
       "0    31.273 -2.849793e+06  4.652991e+06  \n",
       "1    31.315 -2.846013e+06  4.652469e+06  \n",
       "2    31.156 -2.847855e+06  4.662058e+06  \n",
       "3    31.310 -2.845270e+06  4.653261e+06  \n",
       "4    31.315 -2.846419e+06  4.652221e+06  "
      ]
     },
     "execution_count": 27,
     "metadata": {},
     "output_type": "execute_result"
    }
   ],
   "source": [
    "gdf_mobike.head()"
   ]
  },
  {
   "cell_type": "code",
   "execution_count": 28,
   "metadata": {},
   "outputs": [],
   "source": [
    "gdf_mobike = gpd.GeoDataFrame(gdf_mobike, geometry = [Point(x,y) for x,y in zip(gdf_mobike.longitude_m, gdf_mobike.latitude_m)])\n",
    "gdf_mobike.crs = {'init': 'epsg:4479'} #china metric projection"
   ]
  },
  {
   "cell_type": "code",
   "execution_count": 29,
   "metadata": {},
   "outputs": [],
   "source": [
    "gdf_mobike.to_pickle('../clean_pickles/mobike.pk')"
   ]
  },
  {
   "cell_type": "code",
   "execution_count": null,
   "metadata": {},
   "outputs": [],
   "source": []
  },
  {
   "cell_type": "code",
   "execution_count": 30,
   "metadata": {},
   "outputs": [],
   "source": [
    "gdf_mobike = pd.read_pickle('../clean_pickles/mobike.pk')"
   ]
  },
  {
   "cell_type": "code",
   "execution_count": 31,
   "metadata": {},
   "outputs": [],
   "source": [
    "#if we need to reset df_mobike\n",
    "#gdf_mobike = gdf_mobike_c.copy()"
   ]
  },
  {
   "cell_type": "code",
   "execution_count": null,
   "metadata": {},
   "outputs": [],
   "source": []
  },
  {
   "cell_type": "code",
   "execution_count": 32,
   "metadata": {},
   "outputs": [],
   "source": [
    "gdf_target = pd.read_pickle('../clean_pickles/target.pk')"
   ]
  },
  {
   "cell_type": "code",
   "execution_count": 33,
   "metadata": {},
   "outputs": [
    {
     "data": {
      "text/plain": [
       "geopandas.geodataframe.GeoDataFrame"
      ]
     },
     "execution_count": 33,
     "metadata": {},
     "output_type": "execute_result"
    }
   ],
   "source": [
    "type(gdf_target)"
   ]
  },
  {
   "cell_type": "code",
   "execution_count": 34,
   "metadata": {},
   "outputs": [
    {
     "data": {
      "text/html": [
       "<div>\n",
       "<style scoped>\n",
       "    .dataframe tbody tr th:only-of-type {\n",
       "        vertical-align: middle;\n",
       "    }\n",
       "\n",
       "    .dataframe tbody tr th {\n",
       "        vertical-align: top;\n",
       "    }\n",
       "\n",
       "    .dataframe thead th {\n",
       "        text-align: right;\n",
       "    }\n",
       "</style>\n",
       "<table border=\"1\" class=\"dataframe\">\n",
       "  <thead>\n",
       "    <tr style=\"text-align: right;\">\n",
       "      <th></th>\n",
       "      <th>clean</th>\n",
       "      <th>smell</th>\n",
       "      <th>noise</th>\n",
       "      <th>longitude</th>\n",
       "      <th>latitude</th>\n",
       "      <th>geometry</th>\n",
       "      <th>longitude_m</th>\n",
       "      <th>latitude_m</th>\n",
       "      <th>surface_buffer</th>\n",
       "    </tr>\n",
       "  </thead>\n",
       "  <tbody>\n",
       "    <tr>\n",
       "      <th>0</th>\n",
       "      <td>3</td>\n",
       "      <td>0.0</td>\n",
       "      <td>0.0</td>\n",
       "      <td>121.104287</td>\n",
       "      <td>31.155882</td>\n",
       "      <td>POINT (-2822207.586532274 4677635.626522204)</td>\n",
       "      <td>-2.822208e+06</td>\n",
       "      <td>4.677636e+06</td>\n",
       "      <td>POLYGON ((-2821707.586532274 4677635.626522204...</td>\n",
       "    </tr>\n",
       "    <tr>\n",
       "      <th>1</th>\n",
       "      <td>3</td>\n",
       "      <td>1.0</td>\n",
       "      <td>0.0</td>\n",
       "      <td>121.351529</td>\n",
       "      <td>31.144327</td>\n",
       "      <td>POINT (-2842710.938446562 4665979.72602233)</td>\n",
       "      <td>-2.842711e+06</td>\n",
       "      <td>4.665980e+06</td>\n",
       "      <td>POLYGON ((-2842210.938446562 4665979.72602233,...</td>\n",
       "    </tr>\n",
       "    <tr>\n",
       "      <th>2</th>\n",
       "      <td>2</td>\n",
       "      <td>0.0</td>\n",
       "      <td>0.0</td>\n",
       "      <td>121.468520</td>\n",
       "      <td>31.042285</td>\n",
       "      <td>POINT (-2855282.42475198 4665148.863744967)</td>\n",
       "      <td>-2.855282e+06</td>\n",
       "      <td>4.665149e+06</td>\n",
       "      <td>POLYGON ((-2854782.42475198 4665148.863744967,...</td>\n",
       "    </tr>\n",
       "    <tr>\n",
       "      <th>3</th>\n",
       "      <td>3</td>\n",
       "      <td>0.0</td>\n",
       "      <td>0.0</td>\n",
       "      <td>121.367237</td>\n",
       "      <td>31.240725</td>\n",
       "      <td>POINT (-2841108.748930959 4660473.749148724)</td>\n",
       "      <td>-2.841109e+06</td>\n",
       "      <td>4.660474e+06</td>\n",
       "      <td>POLYGON ((-2840608.748930959 4660473.749148724...</td>\n",
       "    </tr>\n",
       "    <tr>\n",
       "      <th>4</th>\n",
       "      <td>2</td>\n",
       "      <td>NaN</td>\n",
       "      <td>0.0</td>\n",
       "      <td>121.403601</td>\n",
       "      <td>31.269155</td>\n",
       "      <td>POINT (-2843213.856075277 4657273.732656028)</td>\n",
       "      <td>-2.843214e+06</td>\n",
       "      <td>4.657274e+06</td>\n",
       "      <td>POLYGON ((-2842713.856075277 4657273.732656028...</td>\n",
       "    </tr>\n",
       "  </tbody>\n",
       "</table>\n",
       "</div>"
      ],
      "text/plain": [
       "   clean  smell  noise   longitude   latitude  \\\n",
       "0      3    0.0    0.0  121.104287  31.155882   \n",
       "1      3    1.0    0.0  121.351529  31.144327   \n",
       "2      2    0.0    0.0  121.468520  31.042285   \n",
       "3      3    0.0    0.0  121.367237  31.240725   \n",
       "4      2    NaN    0.0  121.403601  31.269155   \n",
       "\n",
       "                                       geometry   longitude_m    latitude_m  \\\n",
       "0  POINT (-2822207.586532274 4677635.626522204) -2.822208e+06  4.677636e+06   \n",
       "1   POINT (-2842710.938446562 4665979.72602233) -2.842711e+06  4.665980e+06   \n",
       "2   POINT (-2855282.42475198 4665148.863744967) -2.855282e+06  4.665149e+06   \n",
       "3  POINT (-2841108.748930959 4660473.749148724) -2.841109e+06  4.660474e+06   \n",
       "4  POINT (-2843213.856075277 4657273.732656028) -2.843214e+06  4.657274e+06   \n",
       "\n",
       "                                      surface_buffer  \n",
       "0  POLYGON ((-2821707.586532274 4677635.626522204...  \n",
       "1  POLYGON ((-2842210.938446562 4665979.72602233,...  \n",
       "2  POLYGON ((-2854782.42475198 4665148.863744967,...  \n",
       "3  POLYGON ((-2840608.748930959 4660473.749148724...  \n",
       "4  POLYGON ((-2842713.856075277 4657273.732656028...  "
      ]
     },
     "execution_count": 34,
     "metadata": {},
     "output_type": "execute_result"
    }
   ],
   "source": [
    "gdf_target.head()"
   ]
  },
  {
   "cell_type": "code",
   "execution_count": 35,
   "metadata": {},
   "outputs": [],
   "source": [
    "#gdf_target = gpd.GeoDataFrame(df_target, geometry = 'geometry')\n",
    "#gdf_target.crs = {'init': 'epsg:4479'} #china metric projection"
   ]
  },
  {
   "cell_type": "code",
   "execution_count": null,
   "metadata": {},
   "outputs": [],
   "source": []
  },
  {
   "cell_type": "code",
   "execution_count": 36,
   "metadata": {},
   "outputs": [
    {
     "name": "stdout",
     "output_type": "stream",
     "text": [
      "Starting time: 2020-01-06 00:15:01.882846\n",
      "466\n",
      "Ending time: 2020-01-06 02:00:49.105829\n",
      "Running time: 1:45:47.222983\n"
     ]
    }
   ],
   "source": [
    "#need 1h to run\n",
    "time = ManagingTime()\n",
    "time.displayStartTime()\n",
    "\n",
    "gdf_target['nb_mobike_all'] = 0\n",
    "gdf_target['av_mobike_duration'] = np.nan\n",
    "gdf_target['av_mobike_distance'] = np.nan\n",
    "gdf_target['av_mobike_speed'] = np.nan\n",
    "area_buffer = gdf_target['surface_buffer'].iloc[0].area\n",
    "\n",
    "for index,value in gdf_target.iterrows():\n",
    "    clear_output()\n",
    "    time.displayStartTime()\n",
    "    print(index)\n",
    "    gdf_mobike_temp = gdf_mobike.loc[gdf_mobike.within(value.surface_buffer)]\n",
    "    gdf_target.nb_mobike_all.loc[index] = len(gdf_mobike_temp) / area_buffer\n",
    "    gdf_target.av_mobike_duration.loc[index] = gdf_mobike_temp['duration'].mean()\n",
    "    gdf_target.av_mobike_distance.loc[index] = gdf_mobike_temp['distance'].mean()\n",
    "    gdf_target.av_mobike_speed.loc[index] = gdf_mobike_temp['speed'].mean()\n",
    "    \n",
    "\n",
    "gdf_target.to_pickle('../clean_pickles/target_mobike.pk')\n",
    "\n",
    "time.displayEndTime()\n",
    "time.displayRunningTime()"
   ]
  },
  {
   "cell_type": "code",
   "execution_count": null,
   "metadata": {},
   "outputs": [],
   "source": []
  },
  {
   "cell_type": "code",
   "execution_count": 37,
   "metadata": {},
   "outputs": [
    {
     "data": {
      "text/plain": [
       "count    461.000000\n",
       "mean       0.003464\n",
       "std        0.003683\n",
       "min        0.000000\n",
       "25%        0.000135\n",
       "50%        0.002026\n",
       "75%        0.005924\n",
       "max        0.017665\n",
       "Name: nb_mobike_all, dtype: float64"
      ]
     },
     "execution_count": 37,
     "metadata": {},
     "output_type": "execute_result"
    }
   ],
   "source": [
    "gdf_target.nb_mobike_all.describe()"
   ]
  },
  {
   "cell_type": "code",
   "execution_count": null,
   "metadata": {},
   "outputs": [],
   "source": [
    "gdf_target = pd.read_pickle('../clean_pickles/target.pk')"
   ]
  },
  {
   "cell_type": "code",
   "execution_count": 42,
   "metadata": {},
   "outputs": [
    {
     "name": "stdout",
     "output_type": "stream",
     "text": [
      "Starting time: 2020-01-06 10:44:35.441510\n",
      "0\n",
      "1\n",
      "2\n",
      "3\n",
      "4\n",
      "5\n",
      "Ending time: 2020-01-06 11:44:06.215693\n",
      "Running time: 0:59:30.774183\n"
     ]
    }
   ],
   "source": [
    "time = ManagingTime()\n",
    "time.displayStartTime()\n",
    "\n",
    "area_buffer = gdf_target['surface_buffer'].iloc[0].area\n",
    "j=1\n",
    "for i in range(0,6):\n",
    "    print(str(i))\n",
    "    k = (j+4)%24\n",
    "    if (j == 21):\n",
    "        gdf_mobike_h = gdf_mobike[(gdf_mobike.dt_time >= datetime.time(j,0,0)) | (gdf_mobike.dt_time < datetime.time(k,0,0))]\n",
    "    else:\n",
    "        gdf_mobike_h = gdf_mobike[(gdf_mobike.dt_time >= datetime.time(j,0,0)) & (gdf_mobike.dt_time < datetime.time(k,0,0))]\n",
    "    if j<10:\n",
    "        nameColumn = 'nb_mobike_0' + str(j)\n",
    "    else:\n",
    "        nameColumn = 'nb_mobike_' + str(j)\n",
    "    if k<10:\n",
    "        nameColumn += \"_0\" + str(k)\n",
    "    else:\n",
    "        nameColumn += \"_\" + str(k)\n",
    "    gdf_target[nameColumn] = 0\n",
    "    for index,value in gdf_target.iterrows():\n",
    "        gdf_target[nameColumn].loc[index] = len(gdf_mobike_h.loc[gdf_mobike_h.within(value.surface_buffer)]) / area_buffer\n",
    "\n",
    "    j = k\n",
    "    gdf_target.to_pickle('../clean_pickles/target_mobike_byhours.pk')\n",
    "\n",
    "\n",
    "time.displayEndTime()\n",
    "time.displayRunningTime()"
   ]
  },
  {
   "cell_type": "code",
   "execution_count": 40,
   "metadata": {},
   "outputs": [
    {
     "data": {
      "text/plain": [
       "'\\nstartTime = datetime.datetime.now()\\n\\ngdf_mobike_h = gdf_mobike[(gdf_mobike.dt_time >= datetime.time(21,0,0)) | (gdf_mobike.dt_time < datetime.time(1,0,0))]\\nnameColumn = \\'nb_mobike_21_01\\'\\ngdf_target[nameColumn] = 0\\nfor index,value in gdf_target.iterrows():\\n    clear_output()\\n    print(str(index))\\n    gdf_target[nameColumn].loc[index] = len(gdf_mobike_h.loc[gdf_mobike_h.within(value.surface_buffer)])\\n\\ngdf_target.to_pickle(\\'../clean_pickles/target_mobike.pk\\')\\n\\nendTime = datetime.datetime.now()\\ntime = endTime - startTime\\nprint(\"Running time: \"+str(time)) '"
      ]
     },
     "execution_count": 40,
     "metadata": {},
     "output_type": "execute_result"
    }
   ],
   "source": [
    "'''\n",
    "startTime = datetime.datetime.now()\n",
    "\n",
    "gdf_mobike_h = gdf_mobike[(gdf_mobike.dt_time >= datetime.time(21,0,0)) | (gdf_mobike.dt_time < datetime.time(1,0,0))]\n",
    "nameColumn = 'nb_mobike_21_01'\n",
    "gdf_target[nameColumn] = 0\n",
    "for index,value in gdf_target.iterrows():\n",
    "    clear_output()\n",
    "    print(str(index))\n",
    "    gdf_target[nameColumn].loc[index] = len(gdf_mobike_h.loc[gdf_mobike_h.within(value.surface_buffer)])\n",
    "\n",
    "gdf_target.to_pickle('../clean_pickles/target_mobike.pk')\n",
    "\n",
    "endTime = datetime.datetime.now()\n",
    "time = endTime - startTime\n",
    "print(\"Running time: \"+str(time)) '''"
   ]
  },
  {
   "cell_type": "code",
   "execution_count": 43,
   "metadata": {},
   "outputs": [
    {
     "name": "stdout",
     "output_type": "stream",
     "text": [
      "47\n",
      "105\n",
      "69\n",
      "61\n",
      "62\n",
      "59\n",
      "66\n"
     ]
    }
   ],
   "source": [
    "# Number of area where there is no mobike found.\n",
    "print(len(gdf_target[gdf_target.nb_mobike_all == 0]))\n",
    "print(len(gdf_target[gdf_target.nb_mobike_01_05 == 0]))\n",
    "print(len(gdf_target[gdf_target.nb_mobike_05_09 == 0]))\n",
    "print(len(gdf_target[gdf_target.nb_mobike_09_13 == 0]))\n",
    "print(len(gdf_target[gdf_target.nb_mobike_13_17 == 0]))\n",
    "print(len(gdf_target[gdf_target.nb_mobike_17_21 == 0]))\n",
    "print(len(gdf_target[gdf_target.nb_mobike_21_01 == 0]))"
   ]
  }
 ],
 "metadata": {
  "kernelspec": {
   "display_name": "Python 3",
   "language": "python",
   "name": "python3"
  },
  "language_info": {
   "codemirror_mode": {
    "name": "ipython",
    "version": 3
   },
   "file_extension": ".py",
   "mimetype": "text/x-python",
   "name": "python",
   "nbconvert_exporter": "python",
   "pygments_lexer": "ipython3",
   "version": "3.7.3"
  }
 },
 "nbformat": 4,
 "nbformat_minor": 4
}
