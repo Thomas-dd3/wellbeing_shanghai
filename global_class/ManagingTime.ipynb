{
 "cells": [
  {
   "cell_type": "code",
   "execution_count": 1,
   "metadata": {},
   "outputs": [],
   "source": [
    "import datetime\n",
    "class ManagingTime:\n",
    "    def __init__(self):  \n",
    "        self.startTime = datetime.datetime.now()\n",
    "        self.endTime = None\n",
    "        \n",
    "    def displayStartTime(self):\n",
    "        print(\"Starting time: \" + str(self.startTime))\n",
    "        \n",
    "    def displayEndTime(self):\n",
    "        if not self.endTime:\n",
    "            self.endTime = datetime.datetime.now()\n",
    "        print(\"Ending time: \" + str(self.endTime))\n",
    "    \n",
    "    def displayRunningTime(self):\n",
    "        if not self.endTime:\n",
    "            self.endTime = datetime.datetime.now()\n",
    "        time = self.endTime - self.startTime\n",
    "        print(\"Running time: \"+str(time))\n",
    "            "
   ]
  }
 ],
 "metadata": {
  "kernelspec": {
   "display_name": "Python 3",
   "language": "python",
   "name": "python3"
  },
  "language_info": {
   "codemirror_mode": {
    "name": "ipython",
    "version": 3
   },
   "file_extension": ".py",
   "mimetype": "text/x-python",
   "name": "python",
   "nbconvert_exporter": "python",
   "pygments_lexer": "ipython3",
   "version": "3.7.3"
  }
 },
 "nbformat": 4,
 "nbformat_minor": 4
}
