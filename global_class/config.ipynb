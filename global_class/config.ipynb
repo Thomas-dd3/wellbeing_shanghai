{
 "cells": [
  {
   "cell_type": "code",
   "execution_count": 16,
   "metadata": {},
   "outputs": [],
   "source": [
    "import pandas as pd\n",
    "import numpy as np\n",
    "import random\n",
    "import geopandas as gpd\n",
    "import matplotlib.pyplot as plt\n",
    "import datetime\n",
    "from shapely.geometry import Point\n",
    "from shapely.geometry import Polygon\n",
    "import shapely.ops\n",
    "from IPython.display import clear_output\n",
    "path = \"C:\\\\Users\\\\Roger\\\\Documents\\\\UTSEUS - GI04\\\\Hackathon\\\\\"\n",
    "%run \"C:\\\\Users\\\\Roger\\\\Documents\\\\UTSEUS - GI04\\\\Hackathon\\\\global_class\\\\ManagingTime.ipynb\""
   ]
  }
 ],
 "metadata": {
  "kernelspec": {
   "display_name": "Python 3",
   "language": "python",
   "name": "python3"
  },
  "language_info": {
   "codemirror_mode": {
    "name": "ipython",
    "version": 3
   },
   "file_extension": ".py",
   "mimetype": "text/x-python",
   "name": "python",
   "nbconvert_exporter": "python",
   "pygments_lexer": "ipython3",
   "version": "3.7.3"
  }
 },
 "nbformat": 4,
 "nbformat_minor": 4
}
